{
 "cells": [
  {
   "cell_type": "markdown",
   "metadata": {},
   "source": [
    "### Filter recipes"
   ]
  },
  {
   "cell_type": "code",
   "execution_count": 16,
   "metadata": {
    "collapsed": true
   },
   "outputs": [],
   "source": [
    "import operator"
   ]
  },
  {
   "cell_type": "code",
   "execution_count": 55,
   "metadata": {},
   "outputs": [],
   "source": [
    "def main_recommender(user_input, recipes_dict):\n",
    "    \"\"\"\n",
    "    Given a list of ingredients from user, order the recipes by a score of suitability.\n",
    "    It also provides matching ingredients and return missing ingredients for each recommendation. \n",
    "    \n",
    "    recipes_dict should be a dictionary like \"recipe: [ingredients]\"\n",
    "    \n",
    "    The output are two dictionaries: recomendations, matching, missing\n",
    "    \"\"\"\n",
    "    \n",
    "    matching = dict()\n",
    "    missing = dict()\n",
    "    score = dict()\n",
    "    \n",
    "    user_ingredients = set(user_input)\n",
    "    \n",
    "    for recipe in recipes_dict.keys():\n",
    "        \n",
    "        recom_ingredients = set(recipes_dict[recipe])\n",
    "        \n",
    "        matching[recipe] = user_ingredients.intersection(recom_ingredients)   # ingredients in user_input & in recommendation  \n",
    "        missing[recipe] = recom_ingredients.difference(user_ingredients)   # ingredients from recommendation that user_input not have\n",
    "        score[recipe] = len(matching[recipe])/(len(missing[recipe])+1)\n",
    "    \n",
    "    recom_list = sorted(score.items(), key=operator.itemgetter(1), reverse=True)\n",
    "        \n",
    "    return recom_list, matching, missing"
   ]
  },
  {
   "cell_type": "markdown",
   "metadata": {},
   "source": [
    "### Missing ingredients"
   ]
  },
  {
   "cell_type": "markdown",
   "metadata": {},
   "source": [
    "### Missing ingredients"
   ]
  },
  {
   "cell_type": "code",
   "execution_count": 34,
   "metadata": {
    "collapsed": true
   },
   "outputs": [],
   "source": [
    "d = dict()\n",
    "d[\"recipe 1\"] = [\"tomato\", \"eggs\", \"rice\", \"banana\"]\n",
    "d[\"recipe 2\"] = [\"spagetti\", \"eggs\"]\n",
    "d[\"recipe 3\"] = [\"bread\", \"peperoni\", \"eggs\"]\n",
    "d[\"recipe 4\"] = [\"orange\", \"strawberry\", \"salt\"]\n",
    "d[\"recipe 5\"] = [\"spagetti\", \"tomato\"]"
   ]
  },
  {
   "cell_type": "code",
   "execution_count": 56,
   "metadata": {},
   "outputs": [
    {
     "data": {
      "text/plain": [
       "([('recipe 2', 0.5),\n",
       "  ('recipe 3', 0.3333333333333333),\n",
       "  ('recipe 1', 0.25),\n",
       "  ('recipe 4', 0.0),\n",
       "  ('recipe 5', 0.0)],\n",
       " {'recipe 1': {'eggs'},\n",
       "  'recipe 2': {'eggs'},\n",
       "  'recipe 3': {'eggs'},\n",
       "  'recipe 4': set(),\n",
       "  'recipe 5': set()},\n",
       " {'recipe 1': {'banana', 'rice', 'tomato'},\n",
       "  'recipe 2': {'spagetti'},\n",
       "  'recipe 3': {'bread', 'peperoni'},\n",
       "  'recipe 4': {'orange', 'salt', 'strawberry'},\n",
       "  'recipe 5': {'spagetti', 'tomato'}})"
      ]
     },
     "execution_count": 56,
     "metadata": {},
     "output_type": "execute_result"
    }
   ],
   "source": [
    "r, match, miss = filter_recipes( [\"eggs\"], d)\n",
    "r, match, miss"
   ]
  },
  {
   "cell_type": "code",
   "execution_count": null,
   "metadata": {
    "collapsed": true
   },
   "outputs": [],
   "source": []
  }
 ],
 "metadata": {
  "kernelspec": {
   "display_name": "Python [conda root]",
   "language": "python",
   "name": "conda-root-py"
  },
  "language_info": {
   "codemirror_mode": {
    "name": "ipython",
    "version": 3
   },
   "file_extension": ".py",
   "mimetype": "text/x-python",
   "name": "python",
   "nbconvert_exporter": "python",
   "pygments_lexer": "ipython3",
   "version": "3.6.2"
  }
 },
 "nbformat": 4,
 "nbformat_minor": 2
}
