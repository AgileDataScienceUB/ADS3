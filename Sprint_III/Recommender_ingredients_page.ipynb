{
 "cells": [
  {
   "cell_type": "code",
   "execution_count": 160,
   "metadata": {
    "collapsed": true
   },
   "outputs": [],
   "source": [
    "import numpy as np\n",
    "import pandas as pd"
   ]
  },
  {
   "cell_type": "code",
   "execution_count": 161,
   "metadata": {},
   "outputs": [
    {
     "data": {
      "text/html": [
       "<div>\n",
       "<style>\n",
       "    .dataframe thead tr:only-child th {\n",
       "        text-align: right;\n",
       "    }\n",
       "\n",
       "    .dataframe thead th {\n",
       "        text-align: left;\n",
       "    }\n",
       "\n",
       "    .dataframe tbody tr th {\n",
       "        vertical-align: top;\n",
       "    }\n",
       "</style>\n",
       "<table border=\"1\" class=\"dataframe\">\n",
       "  <thead>\n",
       "    <tr style=\"text-align: right;\">\n",
       "      <th></th>\n",
       "      <th>mini</th>\n",
       "      <th>loin</th>\n",
       "      <th>roquefort</th>\n",
       "      <th>berrie</th>\n",
       "      <th>gruyére</th>\n",
       "      <th>italian</th>\n",
       "      <th>grenadine</th>\n",
       "      <th>intense</th>\n",
       "      <th>sprig</th>\n",
       "      <th>full</th>\n",
       "      <th>...</th>\n",
       "      <th>soya</th>\n",
       "      <th>aberdeen</th>\n",
       "      <th>maria</th>\n",
       "      <th>dont</th>\n",
       "      <th>deep</th>\n",
       "      <th>fairy</th>\n",
       "      <th>chipolata</th>\n",
       "      <th>higher-welfare</th>\n",
       "      <th>homemade</th>\n",
       "      <th>santa</th>\n",
       "    </tr>\n",
       "    <tr>\n",
       "      <th>Unnamed: 0</th>\n",
       "      <th></th>\n",
       "      <th></th>\n",
       "      <th></th>\n",
       "      <th></th>\n",
       "      <th></th>\n",
       "      <th></th>\n",
       "      <th></th>\n",
       "      <th></th>\n",
       "      <th></th>\n",
       "      <th></th>\n",
       "      <th></th>\n",
       "      <th></th>\n",
       "      <th></th>\n",
       "      <th></th>\n",
       "      <th></th>\n",
       "      <th></th>\n",
       "      <th></th>\n",
       "      <th></th>\n",
       "      <th></th>\n",
       "      <th></th>\n",
       "      <th></th>\n",
       "    </tr>\n",
       "  </thead>\n",
       "  <tbody>\n",
       "    <tr>\n",
       "      <th>spinach-cheese-rolls</th>\n",
       "      <td>False</td>\n",
       "      <td>False</td>\n",
       "      <td>False</td>\n",
       "      <td>False</td>\n",
       "      <td>False</td>\n",
       "      <td>False</td>\n",
       "      <td>False</td>\n",
       "      <td>False</td>\n",
       "      <td>False</td>\n",
       "      <td>False</td>\n",
       "      <td>...</td>\n",
       "      <td>False</td>\n",
       "      <td>False</td>\n",
       "      <td>False</td>\n",
       "      <td>False</td>\n",
       "      <td>False</td>\n",
       "      <td>False</td>\n",
       "      <td>False</td>\n",
       "      <td>False</td>\n",
       "      <td>False</td>\n",
       "      <td>False</td>\n",
       "    </tr>\n",
       "    <tr>\n",
       "      <th>salmon-potato-soup-lohikeitto</th>\n",
       "      <td>False</td>\n",
       "      <td>False</td>\n",
       "      <td>False</td>\n",
       "      <td>False</td>\n",
       "      <td>False</td>\n",
       "      <td>False</td>\n",
       "      <td>False</td>\n",
       "      <td>False</td>\n",
       "      <td>True</td>\n",
       "      <td>False</td>\n",
       "      <td>...</td>\n",
       "      <td>False</td>\n",
       "      <td>False</td>\n",
       "      <td>False</td>\n",
       "      <td>False</td>\n",
       "      <td>False</td>\n",
       "      <td>False</td>\n",
       "      <td>False</td>\n",
       "      <td>False</td>\n",
       "      <td>False</td>\n",
       "      <td>False</td>\n",
       "    </tr>\n",
       "    <tr>\n",
       "      <th>salmon-pho-cups-with-earl-grey-broth</th>\n",
       "      <td>False</td>\n",
       "      <td>False</td>\n",
       "      <td>False</td>\n",
       "      <td>False</td>\n",
       "      <td>False</td>\n",
       "      <td>False</td>\n",
       "      <td>False</td>\n",
       "      <td>False</td>\n",
       "      <td>False</td>\n",
       "      <td>False</td>\n",
       "      <td>...</td>\n",
       "      <td>False</td>\n",
       "      <td>False</td>\n",
       "      <td>False</td>\n",
       "      <td>False</td>\n",
       "      <td>False</td>\n",
       "      <td>False</td>\n",
       "      <td>False</td>\n",
       "      <td>False</td>\n",
       "      <td>False</td>\n",
       "      <td>False</td>\n",
       "    </tr>\n",
       "    <tr>\n",
       "      <th>mushroom-chestnut-pithivier</th>\n",
       "      <td>False</td>\n",
       "      <td>False</td>\n",
       "      <td>False</td>\n",
       "      <td>False</td>\n",
       "      <td>False</td>\n",
       "      <td>False</td>\n",
       "      <td>False</td>\n",
       "      <td>False</td>\n",
       "      <td>False</td>\n",
       "      <td>False</td>\n",
       "      <td>...</td>\n",
       "      <td>False</td>\n",
       "      <td>False</td>\n",
       "      <td>False</td>\n",
       "      <td>False</td>\n",
       "      <td>False</td>\n",
       "      <td>False</td>\n",
       "      <td>False</td>\n",
       "      <td>False</td>\n",
       "      <td>False</td>\n",
       "      <td>False</td>\n",
       "    </tr>\n",
       "    <tr>\n",
       "      <th>scrambled-eggs</th>\n",
       "      <td>False</td>\n",
       "      <td>False</td>\n",
       "      <td>False</td>\n",
       "      <td>False</td>\n",
       "      <td>False</td>\n",
       "      <td>False</td>\n",
       "      <td>False</td>\n",
       "      <td>False</td>\n",
       "      <td>False</td>\n",
       "      <td>False</td>\n",
       "      <td>...</td>\n",
       "      <td>False</td>\n",
       "      <td>False</td>\n",
       "      <td>False</td>\n",
       "      <td>False</td>\n",
       "      <td>False</td>\n",
       "      <td>False</td>\n",
       "      <td>False</td>\n",
       "      <td>False</td>\n",
       "      <td>False</td>\n",
       "      <td>False</td>\n",
       "    </tr>\n",
       "  </tbody>\n",
       "</table>\n",
       "<p>5 rows × 1811 columns</p>\n",
       "</div>"
      ],
      "text/plain": [
       "                                       mini   loin  roquefort  berrie  \\\n",
       "Unnamed: 0                                                              \n",
       "spinach-cheese-rolls                  False  False      False   False   \n",
       "salmon-potato-soup-lohikeitto         False  False      False   False   \n",
       "salmon-pho-cups-with-earl-grey-broth  False  False      False   False   \n",
       "mushroom-chestnut-pithivier           False  False      False   False   \n",
       "scrambled-eggs                        False  False      False   False   \n",
       "\n",
       "                                      gruyére  italian  grenadine  intense  \\\n",
       "Unnamed: 0                                                                   \n",
       "spinach-cheese-rolls                    False    False      False    False   \n",
       "salmon-potato-soup-lohikeitto           False    False      False    False   \n",
       "salmon-pho-cups-with-earl-grey-broth    False    False      False    False   \n",
       "mushroom-chestnut-pithivier             False    False      False    False   \n",
       "scrambled-eggs                          False    False      False    False   \n",
       "\n",
       "                                      sprig   full  ...     soya  aberdeen  \\\n",
       "Unnamed: 0                                          ...                      \n",
       "spinach-cheese-rolls                  False  False  ...    False     False   \n",
       "salmon-potato-soup-lohikeitto          True  False  ...    False     False   \n",
       "salmon-pho-cups-with-earl-grey-broth  False  False  ...    False     False   \n",
       "mushroom-chestnut-pithivier           False  False  ...    False     False   \n",
       "scrambled-eggs                        False  False  ...    False     False   \n",
       "\n",
       "                                      maria   dont   deep  fairy  chipolata  \\\n",
       "Unnamed: 0                                                                    \n",
       "spinach-cheese-rolls                  False  False  False  False      False   \n",
       "salmon-potato-soup-lohikeitto         False  False  False  False      False   \n",
       "salmon-pho-cups-with-earl-grey-broth  False  False  False  False      False   \n",
       "mushroom-chestnut-pithivier           False  False  False  False      False   \n",
       "scrambled-eggs                        False  False  False  False      False   \n",
       "\n",
       "                                      higher-welfare  homemade  santa  \n",
       "Unnamed: 0                                                             \n",
       "spinach-cheese-rolls                           False     False  False  \n",
       "salmon-potato-soup-lohikeitto                  False     False  False  \n",
       "salmon-pho-cups-with-earl-grey-broth           False     False  False  \n",
       "mushroom-chestnut-pithivier                    False     False  False  \n",
       "scrambled-eggs                                 False     False  False  \n",
       "\n",
       "[5 rows x 1811 columns]"
      ]
     },
     "execution_count": 161,
     "metadata": {},
     "output_type": "execute_result"
    }
   ],
   "source": [
    "matrix = pd.read_csv('matrix.csv')\n",
    "matrix = matrix.set_index('Unnamed: 0')\n",
    "matrix.head()"
   ]
  },
  {
   "cell_type": "code",
   "execution_count": 162,
   "metadata": {},
   "outputs": [
    {
     "data": {
      "text/plain": [
       "array([False, False, False, ..., False, False, False], dtype=bool)"
      ]
     },
     "execution_count": 162,
     "metadata": {},
     "output_type": "execute_result"
    }
   ],
   "source": [
    "matrix.loc[\"spinach-cheese-rolls\"].values"
   ]
  },
  {
   "cell_type": "code",
   "execution_count": 163,
   "metadata": {},
   "outputs": [
    {
     "data": {
      "text/plain": [
       "True"
      ]
     },
     "execution_count": 163,
     "metadata": {},
     "output_type": "execute_result"
    }
   ],
   "source": [
    "np.dot(matrix.loc[\"spinach-cheese-rolls\"].values,matrix.loc[\"spinach-cheese-rolls\"].values)"
   ]
  },
  {
   "cell_type": "code",
   "execution_count": 164,
   "metadata": {},
   "outputs": [
    {
     "data": {
      "text/plain": [
       "array([False, False, False, ..., False, False, False], dtype=bool)"
      ]
     },
     "execution_count": 164,
     "metadata": {},
     "output_type": "execute_result"
    }
   ],
   "source": [
    "matrix.loc[\"spinach-cheese-rolls\"].values*matrix.loc[\"spinach-cheese-rolls\"].values"
   ]
  },
  {
   "cell_type": "code",
   "execution_count": 165,
   "metadata": {},
   "outputs": [
    {
     "data": {
      "text/plain": [
       "19"
      ]
     },
     "execution_count": 165,
     "metadata": {},
     "output_type": "execute_result"
    }
   ],
   "source": [
    "np.sum(matrix.loc[\"spinach-cheese-rolls\"].values*matrix.loc[\"spinach-cheese-rolls\"].values)"
   ]
  },
  {
   "cell_type": "code",
   "execution_count": 166,
   "metadata": {},
   "outputs": [
    {
     "data": {
      "text/plain": [
       "19"
      ]
     },
     "execution_count": 166,
     "metadata": {},
     "output_type": "execute_result"
    }
   ],
   "source": [
    "np.sum(matrix.loc[\"spinach-cheese-rolls\"].values)"
   ]
  },
  {
   "cell_type": "code",
   "execution_count": 167,
   "metadata": {},
   "outputs": [],
   "source": [
    "def distance_recipes(recipe1,recipe2,matrix):\n",
    "    return (np.sum(matrix.loc[recipe1].values*matrix.loc[recipe2].values))/np.sum(matrix.loc[recipe1].values)"
   ]
  },
  {
   "cell_type": "code",
   "execution_count": 168,
   "metadata": {},
   "outputs": [
    {
     "data": {
      "text/plain": [
       "1.0"
      ]
     },
     "execution_count": 168,
     "metadata": {},
     "output_type": "execute_result"
    }
   ],
   "source": [
    "distance_recipes(\"spinach-cheese-rolls\",\"spinach-cheese-rolls\",matrix)"
   ]
  },
  {
   "cell_type": "code",
   "execution_count": 169,
   "metadata": {},
   "outputs": [
    {
     "data": {
      "text/plain": [
       "0.15789473684210525"
      ]
     },
     "execution_count": 169,
     "metadata": {},
     "output_type": "execute_result"
    }
   ],
   "source": [
    "distance_recipes(\"spinach-cheese-rolls\",\"salmon-potato-soup-lohikeitto\",matrix)"
   ]
  },
  {
   "cell_type": "code",
   "execution_count": 174,
   "metadata": {
    "collapsed": true
   },
   "outputs": [],
   "source": [
    "def rec_user(recipe1):\n",
    "    aux = pd.DataFrame(index = matrix.index)\n",
    "    aux[\"dist\"] = 0.0\n",
    "    for rec in matrix.index:\n",
    "        aux.loc[rec]['dist'] = distance_recipes(recipe1,rec,matrix)\n",
    "    df_return = aux[(aux[\"dist\"]>0.5) & (aux[\"dist\"]!=1)].sort_values(by=[\"dist\"],ascending=False)[0:10]\n",
    "    return df_return"
   ]
  },
  {
   "cell_type": "code",
   "execution_count": 175,
   "metadata": {},
   "outputs": [
    {
     "data": {
      "text/html": [
       "<div>\n",
       "<style>\n",
       "    .dataframe thead tr:only-child th {\n",
       "        text-align: right;\n",
       "    }\n",
       "\n",
       "    .dataframe thead th {\n",
       "        text-align: left;\n",
       "    }\n",
       "\n",
       "    .dataframe tbody tr th {\n",
       "        vertical-align: top;\n",
       "    }\n",
       "</style>\n",
       "<table border=\"1\" class=\"dataframe\">\n",
       "  <thead>\n",
       "    <tr style=\"text-align: right;\">\n",
       "      <th></th>\n",
       "      <th>dist</th>\n",
       "    </tr>\n",
       "    <tr>\n",
       "      <th>Unnamed: 0</th>\n",
       "      <th></th>\n",
       "    </tr>\n",
       "  </thead>\n",
       "  <tbody>\n",
       "    <tr>\n",
       "      <th>cheese-spinach-bread-bake</th>\n",
       "      <td>0.631579</td>\n",
       "    </tr>\n",
       "    <tr>\n",
       "      <th>lentil-vegetable-soup-with-cheese-straws</th>\n",
       "      <td>0.631579</td>\n",
       "    </tr>\n",
       "    <tr>\n",
       "      <th>cheese-vegetable-pies</th>\n",
       "      <td>0.631579</td>\n",
       "    </tr>\n",
       "    <tr>\n",
       "      <th>cheese-pumpkin-biscuits</th>\n",
       "      <td>0.578947</td>\n",
       "    </tr>\n",
       "    <tr>\n",
       "      <th>stilton-and-nut-bites</th>\n",
       "      <td>0.578947</td>\n",
       "    </tr>\n",
       "    <tr>\n",
       "      <th>chicken-drumsticks</th>\n",
       "      <td>0.526316</td>\n",
       "    </tr>\n",
       "    <tr>\n",
       "      <th>courgette-cheese-loaf</th>\n",
       "      <td>0.526316</td>\n",
       "    </tr>\n",
       "    <tr>\n",
       "      <th>hot-cross-loaf</th>\n",
       "      <td>0.526316</td>\n",
       "    </tr>\n",
       "    <tr>\n",
       "      <th>leek-cheese-bacon-muffins</th>\n",
       "      <td>0.526316</td>\n",
       "    </tr>\n",
       "    <tr>\n",
       "      <th>sweetcorn-watercress-muffins</th>\n",
       "      <td>0.526316</td>\n",
       "    </tr>\n",
       "  </tbody>\n",
       "</table>\n",
       "</div>"
      ],
      "text/plain": [
       "                                              dist\n",
       "Unnamed: 0                                        \n",
       "cheese-spinach-bread-bake                 0.631579\n",
       "lentil-vegetable-soup-with-cheese-straws  0.631579\n",
       "cheese-vegetable-pies                     0.631579\n",
       "cheese-pumpkin-biscuits                   0.578947\n",
       "stilton-and-nut-bites                     0.578947\n",
       "chicken-drumsticks                        0.526316\n",
       "courgette-cheese-loaf                     0.526316\n",
       "hot-cross-loaf                            0.526316\n",
       "leek-cheese-bacon-muffins                 0.526316\n",
       "sweetcorn-watercress-muffins              0.526316"
      ]
     },
     "execution_count": 175,
     "metadata": {},
     "output_type": "execute_result"
    }
   ],
   "source": [
    "rec_user(\"spinach-cheese-rolls\")"
   ]
  },
  {
   "cell_type": "code",
   "execution_count": 176,
   "metadata": {},
   "outputs": [
    {
     "data": {
      "text/plain": [
       "0.63157894736842102"
      ]
     },
     "execution_count": 176,
     "metadata": {},
     "output_type": "execute_result"
    }
   ],
   "source": [
    "distance_recipes(\"spinach-cheese-rolls\",\"cheese-spinach-bread-bake\",matrix)"
   ]
  },
  {
   "cell_type": "code",
   "execution_count": 177,
   "metadata": {},
   "outputs": [
    {
     "data": {
      "text/plain": [
       "0.52631578947368418"
      ]
     },
     "execution_count": 177,
     "metadata": {},
     "output_type": "execute_result"
    }
   ],
   "source": [
    "distance_recipes(\"spinach-cheese-rolls\",\"macaroni-cheese-with-broccoli\",matrix)"
   ]
  },
  {
   "cell_type": "code",
   "execution_count": null,
   "metadata": {
    "collapsed": true
   },
   "outputs": [],
   "source": []
  }
 ],
 "metadata": {
  "kernelspec": {
   "display_name": "Python 3",
   "language": "python",
   "name": "python3"
  },
  "language_info": {
   "codemirror_mode": {
    "name": "ipython",
    "version": 3
   },
   "file_extension": ".py",
   "mimetype": "text/x-python",
   "name": "python",
   "nbconvert_exporter": "python",
   "pygments_lexer": "ipython3",
   "version": "3.6.1"
  }
 },
 "nbformat": 4,
 "nbformat_minor": 2
}
