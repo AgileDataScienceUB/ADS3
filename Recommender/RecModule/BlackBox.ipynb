{
 "cells": [
  {
   "cell_type": "code",
   "execution_count": 7,
   "metadata": {
    "collapsed": true
   },
   "outputs": [],
   "source": [
    "import numpy as np\n",
    "import pandas as pd\n",
    "import pymongo"
   ]
  },
  {
   "cell_type": "code",
   "execution_count": 80,
   "metadata": {},
   "outputs": [
    {
     "name": "stdout",
     "output_type": "stream",
     "text": [
      "Collection  users  Update in Local.\n",
      "{'_id': ObjectId('5a1aa2cb2cfaa80d6ff251f3'), 'user_name': 'Chauncey Steffen', 'email': 'Chauncey.Steffen@email.com', 'password': 'Chauncey'}\n",
      "test\n",
      "ingredients\n",
      "system.indexes\n",
      "users\n",
      "recipes\n",
      "ratings\n",
      "{'test': [], 'ingredients': [], 'system.indexes': [], 'users': [{'_id': ObjectId('5a1aa2cb2cfaa80d6ff251f3'), 'user_name': 'Chauncey Steffen', 'email': 'Chauncey.Steffen@email.com', 'password': 'Chauncey'}], 'recipes': [], 'ratings': []}\n"
     ]
    }
   ],
   "source": [
    "class MongoServer():\n",
    "    credentials = None\n",
    "    conn = None\n",
    "    db = None\n",
    "    collections = {}\n",
    "    def __init__(self, run = False, credentials = \"credentials.txt\", db_name = \"agile_data_science_group_3\"):\n",
    "        if run:\n",
    "            if not self.connect2Mongo(credentials):\n",
    "                print(\"Connection to server Failed.\")\n",
    "            \n",
    "            if not self.connect2DataBase(db_name):\n",
    "                print(\"Connection Data Base Failed.\")\n",
    "    \"\"\"Rotine to connect to Mongo DB\"\"\"    \n",
    "    def connect2Mongo(self, credentials = \"credentials.txt\"):\n",
    "        try:\n",
    "            #use your database name, user and password here:\n",
    "            with open(credentials, 'r', encoding='utf-8') as f:\n",
    "                [name,password,url,dbname]=f.read().splitlines()\n",
    "            conn=pymongo.MongoClient(\"mongodb://{}:{}@{}/{}\".format(name,password,url,dbname))\n",
    "            self.conn = conn\n",
    "            return True\n",
    "        except pymongo.errors.ConnectionFailure as e:\n",
    "            return False\n",
    "    \n",
    "    \"\"\"Routine to connect to a Data Base\"\"\"\n",
    "    def connect2DataBase(self, db_name = \"agile_data_science_group_3\"):\n",
    "        try:\n",
    "            self.db = self.conn[db_name]\n",
    "            return True\n",
    "        except:\n",
    "            return False\n",
    "    \n",
    "    \"\"\"Return the available collections in a data base\"\"\"\n",
    "    def listOfCollections (self):\n",
    "        return self.db.collection_names()\n",
    "    \n",
    "    \"\"\"Routine to get one collection of the Data Base\"\"\"\n",
    "    # return the collection\n",
    "    def getCollectionFromServer (self, name_collection):\n",
    "        if name_collection in self.db.collection_names():\n",
    "            self.collections[name_collection] = self.db.get_collection(name_collection)\n",
    "            print (\"Collection \",name_collection,\" Update in Local.\")\n",
    "            return True\n",
    "        return False\n",
    "    \n",
    "    \"\"\" Take the collection from the local copy\"\"\"\n",
    "    def getCollection(self, name_collection):\n",
    "        if not name_collection in self.collections:\n",
    "            if not self.getCollectionFromServer(name_collection):\n",
    "                return False\n",
    "        return self.collections[name_collection]\n",
    "    \n",
    "    \"\"\" Gets all the items of the collection\"\"\"\n",
    "    def getItems(self, name_collection):\n",
    "        if not name_collection in self.collections:\n",
    "            if not self.getCollectionFromServer(name_collection):\n",
    "                return False\n",
    "        return [element for element in self.collections[name_collection].find()]\n",
    "    \n",
    "    \"\"\"Query in one Collection\"\"\"\n",
    "    def searchInCollection(self, name_collection, field, patro):\n",
    "        return [element for element in self.collections[name_collection].find({field:patro})]\n",
    "    \n",
    "    \"\"\"Query in all the Collections\"\"\"\n",
    "    def searchInDB (self, field, patro):\n",
    "        query = {}\n",
    "        for collection in self.db.collection_names():\n",
    "            print(collection)\n",
    "            query[collection] = [element for element in self.db.get_collection(collection).find({field:patro})]\n",
    "        return query\n",
    "        \n",
    "MS = MongoServer(True)        \n",
    "\"\"\"\n",
    "recipes = MS.getCollection('recipes')\n",
    "print(recipes.find_one())\n",
    "\n",
    "ratings = MS.getCollection('ratings')\n",
    "print(ratings.find_one())\n",
    "\n",
    "ratings = MS.getCollection('ingredients')\n",
    "print(ratings.find_one())\n",
    "\"\"\"\n",
    "users = MS.getCollection('users')\n",
    "print(users.find_one())\n",
    "\n",
    "\n",
    "print(MS.searchInDB('_id', users.find_one()['_id']))\n"
   ]
  },
  {
   "cell_type": "code",
   "execution_count": 67,
   "metadata": {},
   "outputs": [
    {
     "data": {
      "text/plain": [
       "118"
      ]
     },
     "execution_count": 67,
     "metadata": {},
     "output_type": "execute_result"
    }
   ],
   "source": [
    "len(MS.getItems('ratings'))"
   ]
  },
  {
   "cell_type": "code",
   "execution_count": 52,
   "metadata": {},
   "outputs": [
    {
     "name": "stdout",
     "output_type": "stream",
     "text": [
      "{'_id': ObjectId('59fb0d77eee3642f3c0683f7'), 'id': '20-minute-carbonara-with-peas', 'url': 'https://www.asdagoodliving.co.uk/food/recipes/20-minute-carbonara-with-peas', 'image': 'https://be35832fa5168a30acd6-5c7e0f2623ae37b4a933167fe83d71b5.ssl.cf3.rackcdn.com/1602/20-minute-carbonara-with-peas__square.jpg', 'name': '20-minute carbonara with peas', 'serves': '4', 'energy_KCal': 431, 'salt_mg': '1805', 'saturated_fat_g': '6.1', 'fat_g': '16.6', 'sugar_g': '5', 'time_min': '20', 'price_p': '115', 'list_ingredients': ['200g spaghetti', '250g frozen peas', '2 medium eggs', '25g Parmesan(grated)', '4 level tbsp reduced-fat crème fraîche', '1 tbsp olive oil', '4 rashers Asda Extra Special Unsmoked Back Bacon(chopped)', '1 shallot(finely chopped)', '1 garlic clove(crushed)', 'Chopped parsley(to serve)'], 'ningredients': 10.0}\n"
     ]
    }
   ],
   "source": [
    "R = Recommender()\n",
    "db = R.getDataBase()\n",
    "R.getCollection(db, \"recipes\")"
   ]
  },
  {
   "cell_type": "code",
   "execution_count": null,
   "metadata": {},
   "outputs": [],
   "source": [
    "print(db.collection_names())\n",
    "recipes = db.recipes\n",
    "print()\n",
    "print(recipes)"
   ]
  },
  {
   "cell_type": "code",
   "execution_count": null,
   "metadata": {},
   "outputs": [],
   "source": [
    "recipes.count()"
   ]
  },
  {
   "cell_type": "code",
   "execution_count": null,
   "metadata": {},
   "outputs": [],
   "source": [
    "for ing in recipes.find():\n",
    "    print(ing)"
   ]
  },
  {
   "cell_type": "code",
   "execution_count": null,
   "metadata": {
    "collapsed": true
   },
   "outputs": [],
   "source": [
    "class Recommender:\n",
    "    \n",
    "    def __init__(self):\n",
    "        pass\n"
   ]
  }
 ],
 "metadata": {
  "kernelspec": {
   "display_name": "Python 3",
   "language": "python",
   "name": "python3"
  },
  "language_info": {
   "codemirror_mode": {
    "name": "ipython",
    "version": 3
   },
   "file_extension": ".py",
   "mimetype": "text/x-python",
   "name": "python",
   "nbconvert_exporter": "python",
   "pygments_lexer": "ipython3",
   "version": "3.6.1"
  }
 },
 "nbformat": 4,
 "nbformat_minor": 2
}
