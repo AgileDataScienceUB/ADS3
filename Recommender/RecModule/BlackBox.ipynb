{
 "cells": [
  {
   "cell_type": "code",
   "execution_count": 7,
   "metadata": {
    "collapsed": true
   },
   "outputs": [],
   "source": [
    "import numpy as np\n",
    "import pandas as pd\n",
    "import pymongo\n",
    "import bson"
   ]
  },
  {
   "cell_type": "code",
   "execution_count": 9,
   "metadata": {
    "scrolled": false
   },
   "outputs": [
    {
     "data": {
      "text/plain": [
       "\"\\nrecipes = MS.getCollection('recipes')\\nprint(recipes.find_one())\\n\\nratings = MS.getCollection('ratings')\\nprint(ratings.find_one())\\n\\nratings = MS.getCollection('ingredients')\\nprint(ratings.find_one())\\n\\nusers = MS.getCollection('users')\\nprint(users.find_one())\\n\\n\\nprint(MS.searchInDB('_id', users.find_one()['_id']))\\n\\n\""
      ]
     },
     "execution_count": 9,
     "metadata": {},
     "output_type": "execute_result"
    }
   ],
   "source": [
    "class MongoServer():\n",
    "    credentials = None\n",
    "    conn = None\n",
    "    db = None\n",
    "    collections = {}\n",
    "    def __init__(self, run = False, credentials = \"credentials.txt\", db_name = \"agile_data_science_group_3\"):\n",
    "        if run:\n",
    "            if not self.connect2Mongo(credentials):\n",
    "                print(\"Connection to server Failed.\")\n",
    "            \n",
    "            if not self.connect2DataBase(db_name):\n",
    "                print(\"Connection Data Base Failed.\")\n",
    "    \"\"\"Rotine to connect to Mongo DB\"\"\"    \n",
    "    def connect2Mongo(self, credentials = \"credentials.txt\"):\n",
    "        try:\n",
    "            #use your database name, user and password here:\n",
    "            with open(credentials, 'r', encoding='utf-8') as f:\n",
    "                [name,password,url,dbname]=f.read().splitlines()\n",
    "            conn=pymongo.MongoClient(\"mongodb://{}:{}@{}/{}\".format(name,password,url,dbname))\n",
    "            self.conn = conn\n",
    "            return True\n",
    "        except pymongo.errors.ConnectionFailure as e:\n",
    "            return False\n",
    "    \n",
    "    \"\"\"Routine to connect to a Data Base\"\"\"\n",
    "    def connect2DataBase(self, db_name = \"agile_data_science_group_3\"):\n",
    "        try:\n",
    "            self.db = self.conn[db_name]\n",
    "            return True\n",
    "        except:\n",
    "            return False\n",
    "    \n",
    "    \"\"\"Return the available collections in a data base\"\"\"\n",
    "    def listOfCollections (self):\n",
    "        return self.db.collection_names()\n",
    "    \n",
    "    \"\"\"Donwload all the ollections from the data base\"\"\"\n",
    "    def getAllCollections (self):\n",
    "        collections = self.listOfCollections()\n",
    "        for col in collections:\n",
    "            self.getCollectionFromServer(col)\n",
    "        return True\n",
    "    \n",
    "    \n",
    "    \"\"\"Routine to get one collection of the Data Base\"\"\"\n",
    "    # return the collection\n",
    "    def getCollectionFromServer (self, name_collection):\n",
    "        if name_collection in self.db.collection_names():\n",
    "            self.collections[name_collection] = self.db.get_collection(name_collection)\n",
    "            print (\"Collection \",name_collection,\" Update in Local.\")\n",
    "            return True\n",
    "        return False\n",
    "    \n",
    "    \"\"\" Take the collection from the local copy\"\"\"\n",
    "    def getCollection(self, name_collection):\n",
    "        if not name_collection in self.collections:\n",
    "            if not self.getCollectionFromServer(name_collection):\n",
    "                return False\n",
    "        return self.collections[name_collection]\n",
    "    \n",
    "    \"\"\" Gets all the items of the collection\"\"\"\n",
    "    def getItems(self, name_collection):\n",
    "        if not name_collection in self.collections:\n",
    "            if not self.getCollectionFromServer(name_collection):\n",
    "                return False\n",
    "        return [element for element in self.collections[name_collection].find()]\n",
    "    \n",
    "    \"\"\"Query in one Collection\"\"\"\n",
    "    def searchInCollection(self, name_collection, field, patro):\n",
    "        return [element for element in self.collections[name_collection].find({field:patro})]\n",
    "    \n",
    "    \"\"\"Query in all the Collections\"\"\"\n",
    "    def searchInDB (self, field, patro):\n",
    "        query = {}\n",
    "        for collection in self.db.collection_names():\n",
    "            query[collection] = [element for element in self.db.get_collection(collection).find({field:patro})]\n",
    "        return query\n",
    "    \n",
    "    \"\"\"Find one in the collection\"\"\"\n",
    "    def findOne(self, collection_name):\n",
    "        return self.db.get_collection(collection_name).find_one()\n",
    "    \n",
    "    \"\"\"Froce Brute search\"\"\"\n",
    "    def searchInDBForceBrute(self, patro):\n",
    "        query = {}\n",
    "        for collection in self.db.collection_names():\n",
    "            query[collection] = []\n",
    "            \n",
    "            self.searchInCollection(collection, )\n",
    "            print(self.getItems(collection))\n",
    "            for element in self.getItems(collection)[0]:\n",
    "                for key in element.keys():\n",
    "                    query[collection] = [element for element in self.db.get_collection(collection).find({field:patro})]\n",
    "                \n",
    "        \n",
    "MS = MongoServer(True)        \n",
    "\"\"\"\n",
    "recipes = MS.getCollection('recipes')\n",
    "print(recipes.find_one())\n",
    "\n",
    "ratings = MS.getCollection('ratings')\n",
    "print(ratings.find_one())\n",
    "\n",
    "ratings = MS.getCollection('ingredients')\n",
    "print(ratings.find_one())\n",
    "\n",
    "users = MS.getCollection('users')\n",
    "print(users.find_one())\n",
    "\n",
    "\n",
    "print(MS.searchInDB('_id', users.find_one()['_id']))\n",
    "\n",
    "\"\"\""
   ]
  },
  {
   "cell_type": "code",
   "execution_count": 10,
   "metadata": {},
   "outputs": [
    {
     "name": "stdout",
     "output_type": "stream",
     "text": [
      "Collection  test  Update in Local.\n",
      "Collection  ingredients  Update in Local.\n",
      "Collection  system.indexes  Update in Local.\n",
      "Collection  users_recipes_ratings  Update in Local.\n",
      "Collection  users  Update in Local.\n",
      "Collection  recipes  Update in Local.\n",
      "Collection  recipes_ingredients  Update in Local.\n",
      "Collection  ratings  Update in Local.\n",
      "test \n",
      "\n",
      "ingredients \n",
      "\n",
      "system.indexes \n",
      "\n",
      "users_recipes_ratings \n",
      "\n",
      "users \n",
      "\n",
      "recipes \n",
      "\n",
      "recipes_ingredients \n",
      "\n",
      "ratings \n",
      "\n"
     ]
    }
   ],
   "source": [
    "MS.getAllCollections()\n",
    "for col in MS.collections:\n",
    "    print(col, \"\\n\")"
   ]
  },
  {
   "cell_type": "code",
   "execution_count": 40,
   "metadata": {},
   "outputs": [
    {
     "name": "stdout",
     "output_type": "stream",
     "text": [
      "users_recipes_ratings: \n",
      "\t  {'_id': ObjectId('5a298de1166d3310bc8207d1'), 'rating': 4, 'recipe': '236853', 'user': 'user_1'} \n",
      "\n",
      "ratings: \n",
      "\t  {'_id': ObjectId('5a1aa9612cfaa80d6ff25315'), 'user_id': ObjectId('5a1aa2cb2cfaa80d6ff251f4'), 'recipe_id': ObjectId('5a073c312cfaa84d14994d8e'), 'rating': 1} \n",
      "\n",
      "recipes: \n",
      "\t  {'_id': ObjectId('59fb0d77eee3642f3c0683f7'), 'id': '20-minute-carbonara-with-peas', 'url': 'https://www.asdagoodliving.co.uk/food/recipes/20-minute-carbonara-with-peas', 'image': 'https://be35832fa5168a30acd6-5c7e0f2623ae37b4a933167fe83d71b5.ssl.cf3.rackcdn.com/1602/20-minute-carbonara-with-peas__square.jpg', 'name': '20-minute carbonara with peas', 'serves': '4', 'energy_KCal': 431, 'salt_mg': '1805', 'saturated_fat_g': '6.1', 'fat_g': '16.6', 'sugar_g': '5', 'time_min': '20', 'price_p': '115', 'list_ingredients': ['200g spaghetti', '250g frozen peas', '2 medium eggs', '25g Parmesan(grated)', '4 level tbsp reduced-fat crème fraîche', '1 tbsp olive oil', '4 rashers Asda Extra Special Unsmoked Back Bacon(chopped)', '1 shallot(finely chopped)', '1 garlic clove(crushed)', 'Chopped parsley(to serve)'], 'ningredients': 10.0} \n",
      "\n",
      "users: \n",
      "\t  {'_id': ObjectId('5a1aa2cb2cfaa80d6ff251f3'), 'user_name': 'Chauncey Steffen', 'email': 'Chauncey.Steffen@email.com', 'password': 'Chauncey'} \n",
      "\n",
      "recipes_ingredients: \n",
      "\t  {'_id': ObjectId('5a29a690166d3310bc82f132'), 'chicken-pumpkin-curry': ['ghee', 'oil', 'onion', 'pack', 'asda', 'chicken', 'thigh', 'fillet', 'skin', 'garlic', 'clove', 'ginger', 'turmeric', 'cumin', 'asda', 'garam', 'masala', 'chillie', 'can', 'coconut', 'milk', 'pumpkin', 'skin', 'fibre', 'cornflour', 'cold', 'water', 'make', 'paste', 'coriander', 'rice', 'serve']} \n",
      "\n",
      "ingredients: \n",
      "\t  {'_id': ObjectId('5a2017c9eee3641064bf41c9'), 'Ingredient': 'cup', 'numTimes': 24732} \n",
      "\n"
     ]
    }
   ],
   "source": [
    "print(\"users_recipes_ratings: \")\n",
    "print(\"\\t \", MS.findOne('users_recipes_ratings'), \"\\n\")\n",
    "\n",
    "print(\"ratings: \")\n",
    "print(\"\\t \", MS.findOne('ratings'), \"\\n\")\n",
    "\n",
    "print(\"recipes: \")\n",
    "print(\"\\t \", MS.findOne('recipes'), \"\\n\")\n",
    "\n",
    "print(\"users: \")\n",
    "print(\"\\t \", MS.findOne('users'), \"\\n\")\n",
    "\n",
    "print(\"recipes_ingredients: \")\n",
    "print(\"\\t \", MS.findOne('recipes_ingredients'), \"\\n\")\n",
    "\n",
    "print(\"ingredients: \")\n",
    "print(\"\\t \", MS.findOne('ingredients'), \"\\n\")"
   ]
  },
  {
   "cell_type": "code",
   "execution_count": 44,
   "metadata": {
    "scrolled": false
   },
   "outputs": [
    {
     "data": {
      "text/plain": [
       "15713"
      ]
     },
     "execution_count": 44,
     "metadata": {},
     "output_type": "execute_result"
    }
   ],
   "source": [
    "recipes = MS.getItems('recipes')\n",
    "len(recipes)"
   ]
  },
  {
   "cell_type": "code",
   "execution_count": 51,
   "metadata": {},
   "outputs": [
    {
     "data": {
      "text/plain": [
       "2467"
      ]
     },
     "execution_count": 51,
     "metadata": {},
     "output_type": "execute_result"
    }
   ],
   "source": [
    "recipes = MS.getItems('recipes_ingredients')\n",
    "len(recipes)"
   ]
  },
  {
   "cell_type": "code",
   "execution_count": 45,
   "metadata": {},
   "outputs": [
    {
     "data": {
      "text/plain": [
       "{'_id': ObjectId('5a073c312cfaa84d14996b3f'),\n",
       " 'id': 99990,\n",
       " 'image': 'http://www.seriouseats.com/recipes/assets_c/2010/08/20100527-grilled-pizza-opener-thumb-560x373-91806-thumb-625xauto-108910.jpg',\n",
       " 'list_ingredients': ['1 (14.4 ounce) can whole peeled tomatoes(preferably San Marzano)(drained)',\n",
       "  'Kosher salt',\n",
       "  '1/2 cup extra virgin olive oil',\n",
       "  '1 pound shredded or thinly sliced low-moisture mozzarella cheese (see note above)',\n",
       "  '4 ounces roughly grated Parmiggiano-Reggiano or Pecorino Romano',\n",
       "  '1/2 cup finely chopped basil leaves'],\n",
       " 'name': 'Grilled Pizza Napoletana',\n",
       " 'ningredients': 6.0,\n",
       " 'serves': 'Makes 4 pizzas',\n",
       " 'time_min': '2 hours (plus time for dough to proof)',\n",
       " 'url': 'http://www.seriouseats.com/recipes/2010/05/how-to-make-grilled-pizza-napoletana-on-a-barbecue-recipe.html'}"
      ]
     },
     "execution_count": 45,
     "metadata": {},
     "output_type": "execute_result"
    }
   ],
   "source": [
    "recipes[-1]"
   ]
  },
  {
   "cell_type": "code",
   "execution_count": 46,
   "metadata": {},
   "outputs": [],
   "source": [
    "query = MS.searchInCollection('recipes', 'id', 236853)[0]"
   ]
  },
  {
   "cell_type": "code",
   "execution_count": 47,
   "metadata": {},
   "outputs": [
    {
     "data": {
      "text/plain": [
       "[{'_id': ObjectId('5a073c312cfaa84d14995243'),\n",
       "  'id': 236853,\n",
       "  'image': 'http://www.seriouseats.com/recipes/assets_c/2013/01/20120111-bakethebook-tkocookies-thumb-625xauto-298991.jpg',\n",
       "  'list_ingredients': ['4 ounces (125 grams) 35% white chocolate(chopped)',\n",
       "   '0.5 ounce (15 grams) unsalted butter ',\n",
       "   '1/2 cup + 1 teaspoon  (125 grams) heavy cream ',\n",
       "   '1 3/4 cups + 1 1/2 tablespoons (259 grams) all-purpose flour ',\n",
       "   '1 cup + 1 1/2 tablespoons  (87 grams) unsweetened alkalized cocoa powder ',\n",
       "   '3/8 teaspoon (1.6 grams) baking soda ',\n",
       "   '8 ounces (227 grams) unsalted butter ',\n",
       "   '2 teaspoons (6 grams) Kosher salt ',\n",
       "   '3/4 cup + 1 tablespoon (161 grams) Granulated sugar '],\n",
       "  'name': \"Bouchon Bakery's TKO Cookies\",\n",
       "  'ningredients': 9.0,\n",
       "  'serves': 'makes 8 3-inch sandwich cookies',\n",
       "  'time_min': '1 hour',\n",
       "  'url': 'http://www.seriouseats.com/recipes/2013/01/thomas-keller-bouchon-bakery-tko-chocolate-sandwich-cookie-recipe.html'}]"
      ]
     },
     "execution_count": 47,
     "metadata": {},
     "output_type": "execute_result"
    }
   ],
   "source": [
    "MS.searchInCollection('recipes', '_id', query['_id'])"
   ]
  },
  {
   "cell_type": "code",
   "execution_count": 60,
   "metadata": {},
   "outputs": [
    {
     "data": {
      "text/plain": [
       "{'_id': ObjectId('5a1aa9612cfaa80d6ff25315'),\n",
       " 'rating': 1,\n",
       " 'recipe_id': ObjectId('5a073c312cfaa84d14994d8e'),\n",
       " 'user_id': ObjectId('5a1aa2cb2cfaa80d6ff251f4')}"
      ]
     },
     "execution_count": 60,
     "metadata": {},
     "output_type": "execute_result"
    }
   ],
   "source": [
    "_dict = MS.findOne('ratings')\n",
    "_dict"
   ]
  },
  {
   "cell_type": "code",
   "execution_count": 50,
   "metadata": {},
   "outputs": [
    {
     "data": {
      "text/plain": [
       "float"
      ]
     },
     "execution_count": 50,
     "metadata": {},
     "output_type": "execute_result"
    }
   ],
   "source": [
    "type(1.)"
   ]
  },
  {
   "cell_type": "code",
   "execution_count": 65,
   "metadata": {},
   "outputs": [
    {
     "name": "stdout",
     "output_type": "stream",
     "text": [
      "[{'_id': ObjectId('5a073c312cfaa84d14994d8e'), 'id': 212491, 'name': \"Susan Spicer's Pan-Roasted Chicken Breast with Vinegar, Mustard, and Tarragon\", 'url': 'http://www.seriouseats.com/recipes/2012/07/susan-spicers-pan-roasted-chicken-breast-with-vinegar-mustard-and-tarragon.html', 'image': 'http://www.seriouseats.com/recipes/assets_c/2012/06/20120627-212491-dinner-tonight-susan-spicer-pan-roasted-chicken-breast-primary-thumb-625xauto-253023.jpg', 'serves': 'serves 4', 'time_min': '30 minutes', 'list_ingredients': ['4 boneless chicken breasts (about 6 ounces each)(with skin still attached)', 'Salt and pepper', '2 tablespoons canola oil or olive oil ', '1 cup chicken stock ', '6 tablespoons apple cider vinegar ', '2 tablespoons butter(softened)', '2 teaspoons Dijon mustard', '2 teaspoons coarsely chopped tarragon leaves', '2 teaspoons chopped fresh chives'], 'ningredients': 9.0}]\n",
      "[{'_id': ObjectId('5a073c312cfaa84d14994994'), 'id': 19396, 'name': 'Cook the Book: Cowgirl Steaks with Pink Peppercorns and Red Onion Marmalade', 'url': 'http://www.seriouseats.com/recipes/2008/05/cowgirl-steaks-with-pink-peppercorns-and-red-onion-marmalade-recipe.html', 'image': 'http://www.seriouseats.com/recipes/assets_c/2009/09/cover-cowgirlcuisine-thumb-625xauto-48671.jpg', 'serves': nan, 'time_min': nan, 'list_ingredients': ['3 tablespoons crushed pink peppercorns(plus more for garnish)', '1 tablespoon Szechuan peppercorns', '1 tablespoon coriander seeds ', '1 teaspoon fennel seeds  ', '1 tablespoon plus 1 teaspoon kosher salt', '1/2 teaspoon dried orange peel ', '1/2 teaspoon cayenne pepper (or other ground red pepper)', 'Four 6-ounce sirloin steaks(about 1 inch thick)', 'Thyme sprigs(for garnish (optional))', '2 tablespoons extra virgin olive oil', '2 large red onions(thinly sliced)', 'Kosher salt ', 'Generous pinch of crushed red chile flakes ', '1 thyme branch (or 1 teaspoon dried thyme or herbes de Provence)', '1 fresh bay leaf ', '2 garlic cloves(minced)', '1 bottle red wine (such as Cotes du Rhone or a Spanish Crianza)', '3 tablespoons honey ', '2 tablespoons unsalted butter', 'Freshly ground black pepper '], 'ningredients': 20.0}]\n",
      "[{'_id': ObjectId('59fb0d77eee3642f3c068b92'), 'id': 'sirloin-steak-with-herby-butter', 'url': 'https://www.asdagoodliving.co.uk/food/recipes/sirloin-steak-with-herby-butter', 'image': 'https://be35832fa5168a30acd6-5c7e0f2623ae37b4a933167fe83d71b5.ssl.cf3.rackcdn.com/3853/steak_and_herby_butter__square.jpg', 'name': 'Sirloin steak with herby butter', 'serves': '2', 'energy_KCal': 535, 'salt_mg': '0.90', 'saturated_fat_g': '13.8', 'fat_g': '27.4', 'sugar_g': '0.3', 'time_min': '20', 'price_p': '729', 'list_ingredients': ['30g Extra Special Somerset Farmhouse Butter(softened)', '1/2 clove garlic(crushed)', '1/2 tsp Dijon mustard', '1/2 tsp Worcestershire sauce ', 'Finely grated zest 1 mandarin ', 'Finely grated zest 1/2 lemon ', '1tbsp finely chopped parsley ', '1tsp finely chopped tarragon ', '1/4 hot paprika ', '2 x 300g Extra Special 28 Day Matured Beef Sirloin Steaks (at room temperature)', '1tsp rapeseed oil ', 'Baby leaf salad(to garnish)'], 'ningredients': 12.0}]\n"
     ]
    }
   ],
   "source": [
    "query_rates = MS.searchInCollection(name_collection='ratings', field='user_id', patro=_dict['user_id'])\n",
    "for q in query_rates:\n",
    "    print(MS.searchInCollection(name_collection='recipes', field='_id', patro=q['recipe_id']))"
   ]
  },
  {
   "cell_type": "code",
   "execution_count": 4,
   "metadata": {
    "collapsed": true
   },
   "outputs": [],
   "source": [
    "class Recommender:\n",
    "    \n",
    "    def __init__(self):\n",
    "        # connect to mongo with MongoServer object\n",
    "        server = MongoServer(True)\n",
    "        \n",
    "    def isObjectId(self, id):\n",
    "        try:\n",
    "            # Do a query in a specific user collection\n",
    "            if not type(id) == bson.objectid.ObjectId:\n",
    "                # creation of a objectID\n",
    "                if type(id) == str:\n",
    "                    idUser = bson.objectid.ObjectId(id)\n",
    "                else:\n",
    "                    return None\n",
    "        except:\n",
    "            return None\n",
    "            \n",
    "    \"\"\"\n",
    "    Search user by idRecepie(ObjectId)\n",
    "    \"\"\" \n",
    "    def searchRecepieWithIngredientsByIs(self, idRecepie):\n",
    "        idRecepie = self.isObjectId(idRecepie)\n",
    "        id idRecepie == None:\n",
    "            return []\n",
    "        \n",
    "        # Search the recepie    \n",
    "        _collection = 'recipes_ingredients'\n",
    "        _field = '_id' # ObjectId\n",
    "        _patro = idRecepie\n",
    "        query = server.searchInCollection(name_collection = _collection, field = _field, patro = _patro)[0]    \n",
    "        # obtain the ingredients\n",
    "        return query, query.values()[1]\n",
    "    \n",
    "\n",
    "    \"\"\"\n",
    "    Search user by idUser(ObjectId)\n",
    "    \"\"\"\n",
    "    def searchUsersById(self, idUser):\n",
    "        idUser = self.isObjectId(idUser)\n",
    "        id idUser == None:\n",
    "            return []\n",
    "        \n",
    "        _collection = 'users'\n",
    "        _field = '_id' # ObjectId\n",
    "        _patro = idUser\n",
    "        query = server.searchInCollection(name_collection = _collection, field = _field, patro = _patro)[0]\n",
    "        \n",
    "        return query\n",
    "    \n",
    "    def computeRecommenderMatrixBestRated(self, idRecipe):\n",
    "        # look the ingredients used in the recipe\n",
    "        # look the recipe that use on of the ingridients\n",
    "        # compute Recommender Matrix \n",
    "        matrix = pd.DataFrame(random, index=ids, columns=user)\n",
    "        return matrix\n",
    "    \n",
    "    def computeRecommenderCollaborativeFiltering(self, idUser):\n",
    "        # look for the ratings of the user\n",
    "        ratingsUsers = server.searchInCollection(name_collection='recipes', field='_id', patro=q['recipe_id'])\n",
    "        # compute Recommender Matrix \n",
    "        matrix = pd.DataFrame(random, index=ids, columns=user)\n",
    "        pass\n",
    "    \n",
    "    def computeRecomendation(self):\n",
    "        # Introduce here the distance function for each of the cases\n",
    "        # maybe it is necesary to separete the funciton in two\n",
    "        pass\n",
    "    \n",
    "    def bestRated(self, idRecepie, n):\n",
    "        # take the recepie\n",
    "        # look for all the recepie containing similar ingridients\n",
    "        # generate the recommender matrix recepie - ingridient\n",
    "        pass\n",
    "    \n",
    "    def collaborativeFiltering(self, idUser, n):\n",
    "        # take the ratings of the user\n",
    "        # with the recipes of the user, find which recepes we can generate\n",
    "        # generate the recommender matrix for user\n",
    "        # call the distance function\n",
    "        pass\n",
    "        \n"
   ]
  },
  {
   "cell_type": "code",
   "execution_count": 5,
   "metadata": {
    "collapsed": true
   },
   "outputs": [],
   "source": [
    "a = {'_id': '59fb0d77eee3642f3c0683f8',\n",
    "  'energy_KCal': 109,\n",
    "  'fat_g': '0.1',\n",
    "  'id': 'alcoholic-orange-sorbet',\n",
    "  'image': 'https://be35832fa5168a30acd6-5c7e0f2623ae37b4a933167fe83d71b5.ssl.cf3.rackcdn.com/3856/alcoholic_orange_sorbet__square.jpg',\n",
    "  'list_ingredients': ['750ml Asda Orange Juice with Bits (not from concentrate) ',\n",
    "   '100g granulated sugar',\n",
    "   'Finely grates zest 1 orange ',\n",
    "   '1tsp Angostura Bitters',\n",
    "   '50ml Aperol Aperitivo ',\n",
    "   '200ml Extra Special Prosecco Brut '],\n",
    "  'name': 'Alcoholic orange sorbet',\n",
    "  'ningredients': 6.0,\n",
    "  'price_p': '191',\n",
    "  'salt_mg': '0.01',\n",
    "  'saturated_fat_g': '0.0',\n",
    "  'serves': '2 (with 6 portions left over)',\n",
    "  'sugar_g': '21.4',\n",
    "  'time_min': '15',\n",
    "  'url': 'https://www.asdagoodliving.co.uk/food/recipes/alcoholic-orange-sorbet'}"
   ]
  },
  {
   "cell_type": "code",
   "execution_count": 6,
   "metadata": {},
   "outputs": [
    {
     "name": "stdout",
     "output_type": "stream",
     "text": [
      "_id\n",
      "energy_KCal\n",
      "fat_g\n",
      "id\n",
      "image\n",
      "list_ingredients\n",
      "name\n",
      "ningredients\n",
      "price_p\n",
      "salt_mg\n",
      "saturated_fat_g\n",
      "serves\n",
      "sugar_g\n",
      "time_min\n",
      "url\n"
     ]
    }
   ],
   "source": [
    "for i in a.keys():\n",
    "    print (i)"
   ]
  },
  {
   "cell_type": "code",
   "execution_count": null,
   "metadata": {
    "collapsed": true
   },
   "outputs": [],
   "source": []
  }
 ],
 "metadata": {
  "kernelspec": {
   "display_name": "Python 3",
   "language": "python",
   "name": "python3"
  },
  "language_info": {
   "codemirror_mode": {
    "name": "ipython",
    "version": 3
   },
   "file_extension": ".py",
   "mimetype": "text/x-python",
   "name": "python",
   "nbconvert_exporter": "python",
   "pygments_lexer": "ipython3",
   "version": "3.6.1"
  }
 },
 "nbformat": 4,
 "nbformat_minor": 2
}
