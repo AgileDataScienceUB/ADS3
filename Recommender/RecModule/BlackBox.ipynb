{
 "cells": [
  {
   "cell_type": "code",
   "execution_count": 2,
   "metadata": {
    "collapsed": true
   },
   "outputs": [],
   "source": [
    "import numpy as np\n",
    "import pandas as pd\n",
    "import pymongo"
   ]
  },
  {
   "cell_type": "code",
   "execution_count": 46,
   "metadata": {
    "scrolled": false
   },
   "outputs": [
    {
     "data": {
      "text/plain": [
       "\"\\nrecipes = MS.getCollection('recipes')\\nprint(recipes.find_one())\\n\\nratings = MS.getCollection('ratings')\\nprint(ratings.find_one())\\n\\nratings = MS.getCollection('ingredients')\\nprint(ratings.find_one())\\n\\nusers = MS.getCollection('users')\\nprint(users.find_one())\\n\\n\\nprint(MS.searchInDB('_id', users.find_one()['_id']))\\n\\n\""
      ]
     },
     "execution_count": 46,
     "metadata": {},
     "output_type": "execute_result"
    }
   ],
   "source": [
    "class MongoServer():\n",
    "    credentials = None\n",
    "    conn = None\n",
    "    db = None\n",
    "    collections = {}\n",
    "    def __init__(self, run = False, credentials = \"credentials.txt\", db_name = \"agile_data_science_group_3\"):\n",
    "        if run:\n",
    "            if not self.connect2Mongo(credentials):\n",
    "                print(\"Connection to server Failed.\")\n",
    "            \n",
    "            if not self.connect2DataBase(db_name):\n",
    "                print(\"Connection Data Base Failed.\")\n",
    "    \"\"\"Rotine to connect to Mongo DB\"\"\"    \n",
    "    def connect2Mongo(self, credentials = \"credentials.txt\"):\n",
    "        try:\n",
    "            #use your database name, user and password here:\n",
    "            with open(credentials, 'r', encoding='utf-8') as f:\n",
    "                [name,password,url,dbname]=f.read().splitlines()\n",
    "            conn=pymongo.MongoClient(\"mongodb://{}:{}@{}/{}\".format(name,password,url,dbname))\n",
    "            self.conn = conn\n",
    "            return True\n",
    "        except pymongo.errors.ConnectionFailure as e:\n",
    "            return False\n",
    "    \n",
    "    \"\"\"Routine to connect to a Data Base\"\"\"\n",
    "    def connect2DataBase(self, db_name = \"agile_data_science_group_3\"):\n",
    "        try:\n",
    "            self.db = self.conn[db_name]\n",
    "            return True\n",
    "        except:\n",
    "            return False\n",
    "    \n",
    "    \"\"\"Return the available collections in a data base\"\"\"\n",
    "    def listOfCollections (self):\n",
    "        return self.db.collection_names()\n",
    "    \n",
    "    \"\"\"Routine to get one collection of the Data Base\"\"\"\n",
    "    # return the collection\n",
    "    def getCollectionFromServer (self, name_collection):\n",
    "        if name_collection in self.db.collection_names():\n",
    "            self.collections[name_collection] = self.db.get_collection(name_collection)\n",
    "            print (\"Collection \",name_collection,\" Update in Local.\")\n",
    "            return True\n",
    "        return False\n",
    "    \n",
    "    \"\"\" Take the collection from the local copy\"\"\"\n",
    "    def getCollection(self, name_collection):\n",
    "        if not name_collection in self.collections:\n",
    "            if not self.getCollectionFromServer(name_collection):\n",
    "                return False\n",
    "        return self.collections[name_collection]\n",
    "    \n",
    "    \"\"\" Gets all the items of the collection\"\"\"\n",
    "    def getItems(self, name_collection):\n",
    "        if not name_collection in self.collections:\n",
    "            if not self.getCollectionFromServer(name_collection):\n",
    "                return False\n",
    "        return [element for element in self.collections[name_collection].find()]\n",
    "    \n",
    "    \"\"\"Query in one Collection\"\"\"\n",
    "    def searchInCollection(self, name_collection, field, patro):\n",
    "        return [element for element in self.collections[name_collection].find({field:patro})]\n",
    "    \n",
    "    \"\"\"Query in all the Collections\"\"\"\n",
    "    def searchInDB (self, field, patro):\n",
    "        query = {}\n",
    "        for collection in self.db.collection_names():\n",
    "            query[collection] = [element for element in self.db.get_collection(collection).find({field:patro})]\n",
    "        return query\n",
    "    \n",
    "    def searchInDBForceBrute(self, patro):\n",
    "        query = {}\n",
    "        for collection in self.db.collection_names():\n",
    "            query[collection] = []\n",
    "            print(self.getItems(collection))\n",
    "            for element in self.getItems(collection)[0]:\n",
    "                for key in element.keys():\n",
    "                    query[collection] = [element for element in self.db.get_collection(collection).find({field:patro})]\n",
    "                \n",
    "        \n",
    "MS = MongoServer(True)        \n",
    "\"\"\"\n",
    "recipes = MS.getCollection('recipes')\n",
    "print(recipes.find_one())\n",
    "\n",
    "ratings = MS.getCollection('ratings')\n",
    "print(ratings.find_one())\n",
    "\n",
    "ratings = MS.getCollection('ingredients')\n",
    "print(ratings.find_one())\n",
    "\n",
    "users = MS.getCollection('users')\n",
    "print(users.find_one())\n",
    "\n",
    "\n",
    "print(MS.searchInDB('_id', users.find_one()['_id']))\n",
    "\n",
    "\"\"\"\n"
   ]
  },
  {
   "cell_type": "code",
   "execution_count": 47,
   "metadata": {
    "scrolled": false
   },
   "outputs": [
    {
     "name": "stdout",
     "output_type": "stream",
     "text": [
      "Collection  test  Update in Local.\n",
      "[]\n"
     ]
    },
    {
     "ename": "IndexError",
     "evalue": "list index out of range",
     "output_type": "error",
     "traceback": [
      "\u001b[1;31m---------------------------------------------------------------------------\u001b[0m",
      "\u001b[1;31mIndexError\u001b[0m                                Traceback (most recent call last)",
      "\u001b[1;32m<ipython-input-47-09d8601b352d>\u001b[0m in \u001b[0;36m<module>\u001b[1;34m()\u001b[0m\n\u001b[1;32m----> 1\u001b[1;33m \u001b[0mMS\u001b[0m\u001b[1;33m.\u001b[0m\u001b[0msearchInDBForceBrute\u001b[0m\u001b[1;33m(\u001b[0m\u001b[1;34m'Chauncey'\u001b[0m\u001b[1;33m)\u001b[0m\u001b[1;33m\u001b[0m\u001b[0m\n\u001b[0m",
      "\u001b[1;32m<ipython-input-46-91bac1baee0f>\u001b[0m in \u001b[0;36msearchInDBForceBrute\u001b[1;34m(self, patro)\u001b[0m\n\u001b[0;32m     74\u001b[0m             \u001b[0mquery\u001b[0m\u001b[1;33m[\u001b[0m\u001b[0mcollection\u001b[0m\u001b[1;33m]\u001b[0m \u001b[1;33m=\u001b[0m \u001b[1;33m[\u001b[0m\u001b[1;33m]\u001b[0m\u001b[1;33m\u001b[0m\u001b[0m\n\u001b[0;32m     75\u001b[0m             \u001b[0mprint\u001b[0m\u001b[1;33m(\u001b[0m\u001b[0mself\u001b[0m\u001b[1;33m.\u001b[0m\u001b[0mgetItems\u001b[0m\u001b[1;33m(\u001b[0m\u001b[0mcollection\u001b[0m\u001b[1;33m)\u001b[0m\u001b[1;33m)\u001b[0m\u001b[1;33m\u001b[0m\u001b[0m\n\u001b[1;32m---> 76\u001b[1;33m             \u001b[1;32mfor\u001b[0m \u001b[0melement\u001b[0m \u001b[1;32min\u001b[0m \u001b[0mself\u001b[0m\u001b[1;33m.\u001b[0m\u001b[0mgetItems\u001b[0m\u001b[1;33m(\u001b[0m\u001b[0mcollection\u001b[0m\u001b[1;33m)\u001b[0m\u001b[1;33m[\u001b[0m\u001b[1;36m0\u001b[0m\u001b[1;33m]\u001b[0m\u001b[1;33m:\u001b[0m\u001b[1;33m\u001b[0m\u001b[0m\n\u001b[0m\u001b[0;32m     77\u001b[0m                 \u001b[1;32mfor\u001b[0m \u001b[0mkey\u001b[0m \u001b[1;32min\u001b[0m \u001b[0melement\u001b[0m\u001b[1;33m.\u001b[0m\u001b[0mkeys\u001b[0m\u001b[1;33m(\u001b[0m\u001b[1;33m)\u001b[0m\u001b[1;33m:\u001b[0m\u001b[1;33m\u001b[0m\u001b[0m\n\u001b[0;32m     78\u001b[0m                     \u001b[0mquery\u001b[0m\u001b[1;33m[\u001b[0m\u001b[0mcollection\u001b[0m\u001b[1;33m]\u001b[0m \u001b[1;33m=\u001b[0m \u001b[1;33m[\u001b[0m\u001b[0melement\u001b[0m \u001b[1;32mfor\u001b[0m \u001b[0melement\u001b[0m \u001b[1;32min\u001b[0m \u001b[0mself\u001b[0m\u001b[1;33m.\u001b[0m\u001b[0mdb\u001b[0m\u001b[1;33m.\u001b[0m\u001b[0mget_collection\u001b[0m\u001b[1;33m(\u001b[0m\u001b[0mcollection\u001b[0m\u001b[1;33m)\u001b[0m\u001b[1;33m.\u001b[0m\u001b[0mfind\u001b[0m\u001b[1;33m(\u001b[0m\u001b[1;33m{\u001b[0m\u001b[0mfield\u001b[0m\u001b[1;33m:\u001b[0m\u001b[0mpatro\u001b[0m\u001b[1;33m}\u001b[0m\u001b[1;33m)\u001b[0m\u001b[1;33m]\u001b[0m\u001b[1;33m\u001b[0m\u001b[0m\n",
      "\u001b[1;31mIndexError\u001b[0m: list index out of range"
     ]
    }
   ],
   "source": [
    "MS.searchInDBForceBrute('Chauncey')"
   ]
  },
  {
   "cell_type": "code",
   "execution_count": null,
   "metadata": {
    "collapsed": true
   },
   "outputs": [],
   "source": [
    "class Recommender:\n",
    "    \n",
    "    def __init__(self):\n",
    "        server = MongoServer(True)\n",
    "        \n",
    "    def searchRecepieWithIngredients(self):\n",
    "        \n",
    "        pass\n",
    "    \n",
    "    def searchUsersById(self, idUser):\n",
    "        # connect to mongo with MongoServer object\n",
    "        # Do a query in a specific collection or (better no) do a force brute search\n",
    "        # return the object\n",
    "        pass\n",
    "    \n",
    "    def computeRecommenderMatrixBestRated(self):\n",
    "        \n",
    "        # compute Recommender Matrix \n",
    "        pass\n",
    "    \n",
    "    def computeRecommenderCollaborativeFiltering(self):\n",
    "        # compute Recommender Matrix \n",
    "        pass\n",
    "    \n",
    "    def computeRecomendation(self):\n",
    "        pass\n",
    "    \n",
    "    def bestRated(self, idRecepie, n):\n",
    "        # take the recepie\n",
    "        # look for all the recepie containing similar ingridients\n",
    "        # generate the recommender matrix recepie - ingridient\n",
    "        pass\n",
    "    \n",
    "    def collaborativeFiltering(self, idUser, n):\n",
    "        # take the ratings of the user\n",
    "        # with the recipes of the user, find which recepes we can generate\n",
    "        # generate the recommender matrix for user\n",
    "        # call the distance function\n",
    "        pass\n",
    "        \n"
   ]
  },
  {
   "cell_type": "code",
   "execution_count": 21,
   "metadata": {},
   "outputs": [],
   "source": [
    "a = {'_id': '59fb0d77eee3642f3c0683f8',\n",
    "  'energy_KCal': 109,\n",
    "  'fat_g': '0.1',\n",
    "  'id': 'alcoholic-orange-sorbet',\n",
    "  'image': 'https://be35832fa5168a30acd6-5c7e0f2623ae37b4a933167fe83d71b5.ssl.cf3.rackcdn.com/3856/alcoholic_orange_sorbet__square.jpg',\n",
    "  'list_ingredients': ['750ml Asda Orange Juice with Bits (not from concentrate) ',\n",
    "   '100g granulated sugar',\n",
    "   'Finely grates zest 1 orange ',\n",
    "   '1tsp Angostura Bitters',\n",
    "   '50ml Aperol Aperitivo ',\n",
    "   '200ml Extra Special Prosecco Brut '],\n",
    "  'name': 'Alcoholic orange sorbet',\n",
    "  'ningredients': 6.0,\n",
    "  'price_p': '191',\n",
    "  'salt_mg': '0.01',\n",
    "  'saturated_fat_g': '0.0',\n",
    "  'serves': '2 (with 6 portions left over)',\n",
    "  'sugar_g': '21.4',\n",
    "  'time_min': '15',\n",
    "  'url': 'https://www.asdagoodliving.co.uk/food/recipes/alcoholic-orange-sorbet'}"
   ]
  },
  {
   "cell_type": "code",
   "execution_count": 25,
   "metadata": {},
   "outputs": [
    {
     "name": "stdout",
     "output_type": "stream",
     "text": [
      "_id\n",
      "energy_KCal\n",
      "fat_g\n",
      "id\n",
      "image\n",
      "list_ingredients\n",
      "name\n",
      "ningredients\n",
      "price_p\n",
      "salt_mg\n",
      "saturated_fat_g\n",
      "serves\n",
      "sugar_g\n",
      "time_min\n",
      "url\n"
     ]
    }
   ],
   "source": [
    "for i in a.keys():\n",
    "    print (i)"
   ]
  },
  {
   "cell_type": "code",
   "execution_count": null,
   "metadata": {
    "collapsed": true
   },
   "outputs": [],
   "source": []
  }
 ],
 "metadata": {
  "kernelspec": {
   "display_name": "Python 3",
   "language": "python",
   "name": "python3"
  },
  "language_info": {
   "codemirror_mode": {
    "name": "ipython",
    "version": 3
   },
   "file_extension": ".py",
   "mimetype": "text/x-python",
   "name": "python",
   "nbconvert_exporter": "python",
   "pygments_lexer": "ipython3",
   "version": "3.6.1"
  }
 },
 "nbformat": 4,
 "nbformat_minor": 2
}
