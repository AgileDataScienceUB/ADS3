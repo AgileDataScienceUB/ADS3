{
 "cells": [
  {
   "cell_type": "code",
   "execution_count": 1,
   "metadata": {
    "collapsed": true
   },
   "outputs": [],
   "source": [
    "import numpy as np\n",
    "import pandas as pd\n",
    "import pymongo\n",
    "import bson\n",
    "from tqdm import tqdm\n",
    "from bson.objectid import ObjectId\n",
    "import operator\n",
    "from random import shuffle"
   ]
  },
  {
   "cell_type": "code",
   "execution_count": 2,
   "metadata": {
    "scrolled": false
   },
   "outputs": [],
   "source": [
    "class MongoServer():\n",
    "    credentials = None\n",
    "    conn = None\n",
    "    db = None\n",
    "    collections = {}\n",
    "    def __init__(self, credentials, run = False, db_name = \"agile_data_science_group_3\"):\n",
    "        if run:\n",
    "            if not self.connect2Mongo(credentials, db_name):\n",
    "                print(\"Connection to server Failed.\")\n",
    "            \n",
    "            if not self.connect2DataBase(db_name):\n",
    "                print(\"Connection Data Base Failed.\")\n",
    "    \"\"\"Rotine to connect to Mongo DB\"\"\"    \n",
    "    def connect2Mongo(self, credentials, db):\n",
    "        try:\n",
    "            #use your database name, user and password here:\n",
    "            name,password,url,dbname = credentials['name'], credentials['password'], credentials['url'], credentials['dbname']\n",
    "            conn=pymongo.MongoClient(\"mongodb://{}:{}@{}/{}\".format(name,password,url,dbname))\n",
    "            self.conn = conn\n",
    "            return True\n",
    "        except pymongo.errors.ConnectionFailure as e:\n",
    "            return False\n",
    "    \n",
    "    \"\"\"Routine to connect to a Data Base\"\"\"\n",
    "    def connect2DataBase(self, db_name = \"agile_data_science_group_3\"):\n",
    "        try:\n",
    "            self.db = self.conn[db_name]\n",
    "            return True\n",
    "        except:\n",
    "            return False\n",
    "    \n",
    "    \"\"\"Return the available collections in a data base\"\"\"\n",
    "    def listOfCollections (self):\n",
    "        return self.db.collection_names()\n",
    "    \n",
    "    \"\"\"Donwload all the ollections from the data base\"\"\"\n",
    "    def getAllCollections (self):\n",
    "        collections = self.listOfCollections()\n",
    "        for col in collections:\n",
    "            self.getCollectionFromServer(col)\n",
    "        return True\n",
    "    \n",
    "    \n",
    "    \"\"\"Routine to get one collection of the Data Base\"\"\"\n",
    "    # return the collection\n",
    "    def getCollectionFromServer (self, name_collection):\n",
    "        if name_collection in self.db.collection_names():\n",
    "            self.collections[name_collection] = self.db.get_collection(name_collection)\n",
    "            print (\"Collection \",name_collection,\" Update in Local.\")\n",
    "            return True\n",
    "        return False\n",
    "    \n",
    "    \"\"\" Take the collection from the local copy\"\"\"\n",
    "    def getCollection(self, name_collection):\n",
    "        if not name_collection in self.collections:\n",
    "            if not self.getCollectionFromServer(name_collection):\n",
    "                return False\n",
    "        return self.collections[name_collection]\n",
    "    \n",
    "    \"\"\" Gets all the items of the collection\"\"\"\n",
    "    def getItems(self, name_collection, N = None):\n",
    "        if not name_collection in self.collections:\n",
    "            if not self.getCollectionFromServer(name_collection):\n",
    "                return False\n",
    "        if N != None:\n",
    "            return [element for element in self.collections[name_collection].find().limit(N)]\n",
    "        else:\n",
    "            return [element for element in self.collections[name_collection].find()]\n",
    "    \n",
    "    \"\"\"Query in one Collection\"\"\"\n",
    "    def searchInCollection(self, name_collection, field, patro, N = None):\n",
    "        if N == None:\n",
    "            return [element for element in self.db.get_collection(name_collection).find({field:patro})]\n",
    "        else:\n",
    "            return [element for element in self.db.get_collection(name_collection).find({field:patro}).limit(N)]\n",
    "    \n",
    "    \"\"\"Query in all the Collections\"\"\"\n",
    "    def searchInDB (self, field, patro):\n",
    "        query = {}\n",
    "        for collection in self.db.collection_names():\n",
    "            query[collection] = [element for element in self.db.get_collection(collection).find({field:patro})]\n",
    "        return query\n",
    "    \n",
    "    \"\"\"Find one in the collection\"\"\"\n",
    "    def findOne(self, collection_name):\n",
    "        return self.db.get_collection(collection_name).find_one()\n",
    "    \n",
    "    \"\"\"Seach in collection with multiple querys\"\"\"\n",
    "    def searchWithMultiplyConditions(self, collection_name, _query, condition ='$and', N = 6, skip = 0):\n",
    "        query = []\n",
    "        for item in self.db.get_collection(collection_name).find({condition:_query}).limit( N + skip):\n",
    "            query.append(item)\n",
    "        return query[skip:]\n",
    "             \n",
    "    \"\"\"Find N elements in one collection\"\"\"\n",
    "    def findNElement(self, collection_name, N):\n",
    "        query = []\n",
    "        for item in self.db.get_collection(collection_name).find().limit( N ):\n",
    "            query.append(item)\n",
    "        return query\n",
    "    \n",
    "    \"\"\"Insert one element into collection\"\"\"\n",
    "    def insertInCollection (self, collection_name,  item):\n",
    "        assert type(item) == dict, \"Item must be a dictionary\"\n",
    "        return self.db.get_collection(collection_name).insert_one(item)\n",
    "     \n",
    "        \n",
    "MS = MongoServer({'name':'huang', 'password':'chen1992', 'url':'ds233895.mlab.com:33895', 'dbname': 'agile_data_science_group_3'}, True)"
   ]
  },
  {
   "cell_type": "code",
   "execution_count": 12,
   "metadata": {},
   "outputs": [
    {
     "data": {
      "text/plain": [
       "[ObjectId('5a073c312cfaa84d14995092'),\n",
       " ObjectId('5a073c312cfaa84d14994c83'),\n",
       " ObjectId('5a073c312cfaa84d14995758'),\n",
       " ObjectId('5a073c312cfaa84d14993958'),\n",
       " ObjectId('5a073c312cfaa84d14996a77'),\n",
       " ObjectId('5a073c312cfaa84d14994c09')]"
      ]
     },
     "execution_count": 12,
     "metadata": {},
     "output_type": "execute_result"
    }
   ],
   "source": [
    "class Recommender:\n",
    "    \n",
    "    def __init__(self, credentials):\n",
    "        # connect to mongo with MongoServer object\n",
    "        self.server = MongoServer(credentials, True)\n",
    "        \n",
    "    \"\"\"Dummie Recommender\"\"\"\n",
    "    def dummieRecommendation(self, N = 10):\n",
    "        listObjectIds = []\n",
    "        for item in self.server.findNElement('recipes', 1000):\n",
    "            listObjectIds.append(item['_id'])\n",
    "        shuffle(listObjectIds)\n",
    "        return listObjectIds[:N]\n",
    "        \n",
    "    \"\"\"Method that check if the object is a ObjectId\"\"\"\n",
    "    def isObjectId(self, _id):\n",
    "        try:\n",
    "            # Do a query in a specific user collection\n",
    "            if not type(_id) == bson.objectid.ObjectId:\n",
    "                # creation of a objectID\n",
    "                if type(_id) == str:\n",
    "                    idUser = bson.objectid.ObjectId(_id)\n",
    "                else:\n",
    "                    return None\n",
    "            return _id\n",
    "        except:\n",
    "            return None\n",
    "            \n",
    "    \"\"\"Search user by idRecepie(ObjectId)\"\"\" \n",
    "    def searchRecepieWithIngredientsByIs(self, idRecepie):\n",
    "        idRecepie = self.isObjectId(idRecepie)\n",
    "        if idRecepie == None:\n",
    "            print (\"idRecepie is not a ObjectId\")\n",
    "            return []\n",
    "        \n",
    "        # Search the recepie    \n",
    "        _collection = 'recipes_ingredients'\n",
    "        _field = '_id' # ObjectId\n",
    "        _patro = idRecepie\n",
    "        query = self.server.searchInCollection(name_collection = _collection, field = _field, patro = _patro)[0]    \n",
    "        # obtain the ingredients\n",
    "        return query, query.values()[1]\n",
    "    \n",
    "\n",
    "    \"\"\"Search user by idUser(ObjectId)\"\"\"\n",
    "    def searchUsersById(self, idUser):\n",
    "        idUser = self.isObjectId(idUser)\n",
    "        if idUser == None:\n",
    "            print (\"Id User is not a ObjectId\")\n",
    "            return []\n",
    "        \n",
    "        _collection = 'users'\n",
    "        _field = '_id' # ObjectId\n",
    "        _patro = idUser\n",
    "        query = self.server.searchInCollection(name_collection = _collection, field = _field, patro = _patro)[0]\n",
    "        \n",
    "        return query\n",
    "    \n",
    "    \"\"\"Method that compute a smaller matrix for BestRated\"\"\"\n",
    "    def computeRecommenderMatrixBestRated(self, idRecipe):\n",
    "        # look the ingredients used in the recipe\n",
    "        # look the recipe that use on of the ingridients\n",
    "        # compute Recommender Matrix \n",
    "        return None\n",
    "    \n",
    "    \"\"\"Method that compute a smaller matrix for collaborativeFiltering\"\"\"\n",
    "    def computeRecommenderMatrixCollaborativeFiltering(self, idUser, n=10):\n",
    "        m_ids = []\n",
    "        m_user = []\n",
    "        \n",
    "        idUser = self.isObjectId(idUser)\n",
    "        if idUser == None:\n",
    "            print (\"Id User is not a ObjectId\")\n",
    "            return []\n",
    "        \n",
    "        # look for the ratings of the user\n",
    "        ratingsUser = self.server.searchInCollection(name_collection='ratings', field='user_id', patro=idUser, N=n) \n",
    "        if ratingsUser == []:\n",
    "            print (\"User has no ratings. Cold Start.\")\n",
    "            return None\n",
    "        ratings = []\n",
    "        m_user.append(idUser) \n",
    "        \n",
    "        # obtain ratings from the same recipes\n",
    "        for rating in tqdm(ratingsUser):\n",
    "            m_ids.append(rating['recipe_id'])\n",
    "            # search for more ratings in the same recipe\n",
    "            recipes = self.server.searchInCollection(name_collection='ratings', field='recipe_id', patro=rating['recipe_id'])\n",
    "            \n",
    "            # acumulate the ratings\n",
    "            ratings += recipes\n",
    "            \n",
    "            # look if objectId of recipe is in the list\n",
    "            for recipe in recipes:\n",
    "                if not recipe['recipe_id'] in m_ids:\n",
    "                    m_ids.append(recipe['recipe_id'])\n",
    "                    \n",
    "                if not recipe['user_id'] in m_user:\n",
    "                    m_user.append(recipe['user_id'])\n",
    "\n",
    "        # compute Recommender Matrix \n",
    "        matrix = pd.DataFrame(np.full((len(m_ids), len(m_user)), np.nan), index=m_ids, columns=m_user)\n",
    "        for rates in ratings:\n",
    "            matrix[rates['user_id']][rates['recipe_id']] = rates['rating']\n",
    "        \n",
    "        return matrix\n",
    "    \n",
    "    \"\"\"Method that donwliad the matrix from ratings and generates this one\"\"\"\n",
    "    def generateRatingMatrix(self):\n",
    "        m_ids = set()\n",
    "        m_user = set()\n",
    "        ratings = self.server.getItems('ratings')\n",
    "        for item in ratings:\n",
    "            m_ids.add(item[\"recipe_id\"])\n",
    "            m_user.add(item[\"user_id\"])\n",
    "        \n",
    "        matrix = pd.DataFrame(np.full((len(m_ids), len(m_user)), np.nan), index=m_ids, columns=m_user)\n",
    "        for rates in ratings:\n",
    "            matrix[rates['user_id']][rates['recipe_id']] = rates['rating']\n",
    "        \n",
    "        return matrix\n",
    "            \n",
    "    def computeRecomendation(self):\n",
    "        # Introduce here the distance function for each of the cases\n",
    "        # maybe it is necesary to separete the funciton in two\n",
    "        pass\n",
    "    \n",
    "   \n",
    "    \"\"\"Recommender of Collaborative Filtering\"\"\"\n",
    "    def collaborativeFiltering(self, idUser, N = 6, skip = 0):\n",
    "        # take the ratings of the user\n",
    "        # with the recipes of the user, find which recepes we can generate\n",
    "        # generate the recommender matrix for user\n",
    "        # call the distance function\n",
    "        return self.server.searchInCollection('CollRecom', 'user_id', idUser,  N = N + skip)[0]['recomendations'][skip:skip+N]\n",
    "    \n",
    "    \"\"\" Method that search in function of the ingredients\"\"\"\n",
    "    def searchRecepieByIngredients(self, listIngredients, N = 6, skip = 0):\n",
    "        query = []\n",
    "        for ingredient in listIngredients:\n",
    "            query.append({'ingredients':ingredient})\n",
    "        \n",
    "        respons = self.server.searchWithMultiplyConditions('RecIng', query, N = N, skip = skip)\n",
    "        \n",
    "        objectsIds = []\n",
    "        for recepie in respons:\n",
    "            objectsIds.append(recepie['recipe_id'])\n",
    "            \n",
    "        return objectsIds\n",
    "    \n",
    "    \"\"\" Return top n recipes by maximum mean rating. In case of draw, then by minimum standard deviation rating. \"\"\"\n",
    "    def bestRatedWeb(self, n=10):\n",
    "        data = pd.DataFrame(self.server.getItems('ratings', N = 2000))\n",
    "        # top rated\n",
    "        data[\"rating\"] = data[\"rating\"].astype(float)\n",
    "        recipe_rating_mean = data.groupby(['recipe_id'])['rating'].mean()\n",
    "        recipe_rating_std = data.groupby(['recipe_id'])['rating'].std()\n",
    "        recipe_rating = pd.concat([recipe_rating_mean, recipe_rating_std], axis=1)\n",
    "        recipe_rating.columns=[\"mean\", \"std\"]\n",
    "        recs = recipe_rating.sort_values([\"mean\", \"std\"], ascending=[0,1])\n",
    "        \n",
    "        return list(map(ObjectId, list(recs.index.values)[:int(n)]))\n",
    "    \n",
    "    def distance_recipes(self, ing1, ing2):\n",
    "        rec1 = set(ing1)\n",
    "        rec2 = set(ing2)\n",
    "        d = len(rec1.intersection(rec2))/len(rec1)\n",
    "        if d == 1.0:\n",
    "            return 0\n",
    "        return d\n",
    "\n",
    "    \"\"\"Recommender based on content\"\"\"\n",
    "    def bestRated(self, idRecepie, N = 6, skip = 0):\n",
    "        recipes_dict = self.server.getItems('RecIng', N = 2000)\n",
    "        ingridents = self.server.searchInCollection('RecIng', 'recipe_id', idRecepie)[0]['ingredients']\n",
    "\n",
    "        dis = dict()\n",
    "        for rec in recipes_dict:\n",
    "            dis[rec['recipe_id']] = self.distance_recipes(ingridents, rec['ingredients'])\n",
    "\n",
    "        df_return = sorted(dis.items(), key=operator.itemgetter(1), reverse=True)[skip:N+ skip]\n",
    "\n",
    "        return [obj for obj, rat in df_return]\n",
    "    \n",
    "rec = Recommender({'name':'huang', 'password':'chen1992', 'url':'ds233895.mlab.com:33895', 'dbname': 'agile_data_science_group_3'})\n",
    "\n",
    "#rec.searchRecepieByIngredients(['oil', 'cold', 'water'], 10)\n",
    "#rec.computeRecommenderMatrixCollaborativeFiltering(bson.objectid.ObjectId('5a1aa2cb2cfaa80d6ff251f3'))\n",
    "#rec.generateRatingMatrix()\n",
    "\"\"\"\n",
    "print(rec.bestRated(objectId, N = 4, skip = 0))\n",
    "print(rec.bestRated(objectId, N = 2, skip = 0))\n",
    "print(rec.bestRated(objectId, N = 2, skip = 2))\n",
    "\n",
    "\n",
    "\n",
    "print(rec.searchRecepieByIngredients(['oil', 'water'], N = 4, skip = 0))\n",
    "print(rec.searchRecepieByIngredients(['oil', 'water'], N = 2, skip = 0))\n",
    "print(rec.searchRecepieByIngredients(['oil', 'water'], N = 2, skip = 2))\n",
    "\"\"\"\n",
    "\n",
    "#rec.computeRecommenderMatrixCollaborativeFiltering(rec.server.findOne('users')['_id'], n = 20)\n",
    "#rec.server.searchInCollection('users', 'user_name', 'Amin')\n",
    "#rec.server.findOne('users')\n",
    "rec.collaborativeFiltering(MS.findOne('users')['_id'])\n",
    "rec.collaborativeFiltering(MS.findOne('users')['_id'], 6, 5)"
   ]
  },
  {
   "cell_type": "code",
   "execution_count": 83,
   "metadata": {},
   "outputs": [
    {
     "data": {
      "text/plain": [
       "{'_id': ObjectId('5a1aa2cb2cfaa80d6ff251f3'),\n",
       " 'email': 'Chauncey.Steffen@email.com',\n",
       " 'password': 'Chauncey',\n",
       " 'user_name': 'Chauncey Steffen'}"
      ]
     },
     "execution_count": 83,
     "metadata": {},
     "output_type": "execute_result"
    }
   ],
   "source": [
    "MS.findOne('users')"
   ]
  },
  {
   "cell_type": "code",
   "execution_count": 76,
   "metadata": {},
   "outputs": [
    {
     "name": "stderr",
     "output_type": "stream",
     "text": [
      "C:\\ProgramData\\Anaconda3\\lib\\site-packages\\ipykernel_launcher.py:105: DeprecationWarning: insert is deprecated. Use insert_one or insert_many instead.\n"
     ]
    }
   ],
   "source": [
    "for item in dic:\n",
    "    MS.insertInCollection('CollRecom', {'user_id':item,'recomendations': dic[item]})"
   ]
  },
  {
   "cell_type": "code",
   "execution_count": 61,
   "metadata": {},
   "outputs": [
    {
     "data": {
      "text/plain": [
       "{'_id': ObjectId('5a30678590ea863de40f8d0e'),\n",
       " 'rating': 2,\n",
       " 'recipe_id': ObjectId('59fb0d77eee3642f3c0684a4'),\n",
       " 'user_id': ObjectId('5a1aa2cb2cfaa80d6ff251f3')}"
      ]
     },
     "execution_count": 61,
     "metadata": {},
     "output_type": "execute_result"
    }
   ],
   "source": [
    "MS.findOne('ratings')"
   ]
  },
  {
   "cell_type": "code",
   "execution_count": 68,
   "metadata": {},
   "outputs": [
    {
     "data": {
      "text/plain": [
       "[{'_id': ObjectId('5a1aa2cb2cfaa80d6ff251f3'),\n",
       "  'email': 'Chauncey.Steffen@email.com',\n",
       "  'password': 'Chauncey',\n",
       "  'user_name': 'Chauncey Steffen'}]"
      ]
     },
     "execution_count": 68,
     "metadata": {},
     "output_type": "execute_result"
    }
   ],
   "source": [
    "MS.searchInCollection('users', '_id', t(dic))"
   ]
  },
  {
   "cell_type": "code",
   "execution_count": 67,
   "metadata": {},
   "outputs": [
    {
     "data": {
      "text/plain": [
       "ObjectId('5a1aa2cb2cfaa80d6ff251f3')"
      ]
     },
     "execution_count": 67,
     "metadata": {},
     "output_type": "execute_result"
    }
   ],
   "source": [
    "def t (dic):\n",
    "    for item in dic:\n",
    "        return item\n",
    "t(dic)"
   ]
  },
  {
   "cell_type": "code",
   "execution_count": 77,
   "metadata": {},
   "outputs": [
    {
     "data": {
      "text/plain": [
       "['test',\n",
       " 'users',\n",
       " 'recipes',\n",
       " 'ingredients',\n",
       " 'RecIng',\n",
       " 'system.indexes',\n",
       " 'CollRecom',\n",
       " 'recipes_ingredients',\n",
       " 'ratings']"
      ]
     },
     "execution_count": 77,
     "metadata": {},
     "output_type": "execute_result"
    }
   ],
   "source": [
    "MS.listOfCollections()"
   ]
  },
  {
   "cell_type": "code",
   "execution_count": 72,
   "metadata": {},
   "outputs": [
    {
     "data": {
      "text/plain": [
       "[{'_id': ObjectId('5a073c312cfaa84d14993933'),\n",
       "  'id': 113241,\n",
       "  'image': 'http://www.seriouseats.com/recipes/assets_c/2010/08/20100831-nb-hp-thumb-625xauto-109011.jpg',\n",
       "  'list_ingredients': ['1 sheet of dried pig skin(about 5 by 5 inches)',\n",
       "   '6 cups best-quality pork or vegetable broth',\n",
       "   'a few leaves napa cabbage(bok choy)(or leafy green vegetable of your choice)',\n",
       "   'thinly sliced green onions(to garnish)'],\n",
       "  'name': 'The Nasty Bits: Pork Skin Soup',\n",
       "  'ningredients': 4.0,\n",
       "  'serves': 'four as a soup course in a meal',\n",
       "  'time_min': 'overnight',\n",
       "  'url': 'http://www.seriouseats.com/recipes/2010/08/the-nasty-bits-pork-skin-soup-recipe.html'}]"
      ]
     },
     "execution_count": 72,
     "metadata": {},
     "output_type": "execute_result"
    }
   ],
   "source": [
    "MS.searchInCollection('recipes', '_id', dic[t(dic)][0])"
   ]
  },
  {
   "cell_type": "code",
   "execution_count": 78,
   "metadata": {},
   "outputs": [
    {
     "data": {
      "text/plain": [
       "{'_id': ObjectId('5a329f2390ea86197765c76e'),\n",
       " 'recomendations': [ObjectId('5a073c312cfaa84d14993933'),\n",
       "  ObjectId('5a073c312cfaa84d14994fae'),\n",
       "  ObjectId('5a073c312cfaa84d14995bd8'),\n",
       "  ObjectId('59fb0d77eee3642f3c068685'),\n",
       "  ObjectId('5a073c312cfaa84d14993aa0'),\n",
       "  ObjectId('5a073c312cfaa84d14995092'),\n",
       "  ObjectId('5a073c312cfaa84d14994c83'),\n",
       "  ObjectId('5a073c312cfaa84d14995758'),\n",
       "  ObjectId('5a073c312cfaa84d14993958'),\n",
       "  ObjectId('5a073c312cfaa84d14996a77'),\n",
       "  ObjectId('5a073c312cfaa84d14994c09'),\n",
       "  ObjectId('5a073c312cfaa84d149953f0'),\n",
       "  ObjectId('5a073c312cfaa84d14996080'),\n",
       "  ObjectId('5a073c312cfaa84d149939a4'),\n",
       "  ObjectId('5a073c312cfaa84d14993a58'),\n",
       "  ObjectId('5a073c312cfaa84d149951c8'),\n",
       "  ObjectId('5a073c312cfaa84d149964b2'),\n",
       "  ObjectId('5a073c312cfaa84d14995366'),\n",
       "  ObjectId('5a073c312cfaa84d1499560f'),\n",
       "  ObjectId('5a073c312cfaa84d14996063'),\n",
       "  ObjectId('5a073c312cfaa84d1499430c'),\n",
       "  ObjectId('5a073c312cfaa84d14994fa8'),\n",
       "  ObjectId('5a073c312cfaa84d14994d7d'),\n",
       "  ObjectId('5a073c312cfaa84d14995f18'),\n",
       "  ObjectId('5a073c312cfaa84d149963ef'),\n",
       "  ObjectId('5a073c312cfaa84d149968d2'),\n",
       "  ObjectId('5a073c312cfaa84d14996366'),\n",
       "  ObjectId('5a073c312cfaa84d14994a02'),\n",
       "  ObjectId('5a073c312cfaa84d14995877')],\n",
       " 'user_id': ObjectId('5a1aa2cb2cfaa80d6ff251f3')}"
      ]
     },
     "execution_count": 78,
     "metadata": {},
     "output_type": "execute_result"
    }
   ],
   "source": [
    "MS.findOne('CollRecom')"
   ]
  },
  {
   "cell_type": "code",
   "execution_count": null,
   "metadata": {
    "collapsed": true
   },
   "outputs": [],
   "source": []
  }
 ],
 "metadata": {
  "kernelspec": {
   "display_name": "Python 3",
   "language": "python",
   "name": "python3"
  },
  "language_info": {
   "codemirror_mode": {
    "name": "ipython",
    "version": 3
   },
   "file_extension": ".py",
   "mimetype": "text/x-python",
   "name": "python",
   "nbconvert_exporter": "python",
   "pygments_lexer": "ipython3",
   "version": "3.6.1"
  }
 },
 "nbformat": 4,
 "nbformat_minor": 2
}
