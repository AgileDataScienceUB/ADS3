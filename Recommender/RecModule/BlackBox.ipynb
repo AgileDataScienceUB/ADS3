{
 "cells": [
  {
   "cell_type": "code",
   "execution_count": 7,
   "metadata": {
    "collapsed": true
   },
   "outputs": [],
   "source": [
    "import numpy as np\n",
    "import pandas as pd\n",
    "import pymongo"
   ]
  },
  {
   "cell_type": "code",
   "execution_count": 29,
   "metadata": {},
   "outputs": [
    {
     "data": {
      "text/plain": [
       "Collection(Database(MongoClient(host=['ds233895.mlab.com:33895'], document_class=dict, tz_aware=False, connect=True), 'agile_data_science_group_3'), 'ingredients')"
      ]
     },
     "execution_count": 29,
     "metadata": {},
     "output_type": "execute_result"
    }
   ],
   "source": [
    "class MongoServer():\n",
    "    credentials = None\n",
    "    conn = None\n",
    "    db = None\n",
    "    collections = {}\n",
    "    def __init__(self, run = False, credentials = \"credentials.txt\", db_name = \"agile_data_science_group_3\"):\n",
    "        if run:\n",
    "            if not self.connect2Mongo(credentials):\n",
    "                print(\"Connection to server Failed.\")\n",
    "            \n",
    "            if not self.connect2DataBase(db_name):\n",
    "                print(\"Connection Data Base Failed.\")\n",
    "    \"\"\"Rotine to connect to Mongo DB\"\"\"    \n",
    "    def connect2Mongo(self, credentials = \"credentials.txt\"):\n",
    "        try:\n",
    "            #use your database name, user and password here:\n",
    "            with open(credentials, 'r', encoding='utf-8') as f:\n",
    "                [name,password,url,dbname]=f.read().splitlines()\n",
    "            conn=pymongo.MongoClient(\"mongodb://{}:{}@{}/{}\".format(name,password,url,dbname))\n",
    "            self.conn = conn\n",
    "            return True\n",
    "        except pymongo.errors.ConnectionFailure as e:\n",
    "            return False\n",
    "    \n",
    "    \"\"\"Routine to connect to a Data Base\"\"\"\n",
    "    def connect2DataBase(self, db_name = \"agile_data_science_group_3\"):\n",
    "        try:\n",
    "            self.db = self.conn[db_name]\n",
    "            return True\n",
    "        except:\n",
    "            return False\n",
    "    \n",
    "    def listOfCollections (self):\n",
    "        return self.db.collection_names()\n",
    "    \n",
    "    \"\"\"Routine to get one collection of the Data Base\"\"\"\n",
    "    # return the collection\n",
    "    def getCollectionFromServer (self, name_collection):\n",
    "        if name_collection in self.db.collection_names():\n",
    "            self.collections[name_collection] = self.db.get_collection(name_collection)\n",
    "            print (\"Collection Update in Local.\")\n",
    "        return None\n",
    "    \n",
    "    \"\"\" Take the collection from the local copy\"\"\"\n",
    "    def getCollection(self, name_collection):\n",
    "        if name_collection in self.collections:\n",
    "            return self.collections[name_collection]\n",
    "        return None\n",
    "        \n",
    "MS = MongoServer(True)\n",
    "MS.listOfCollections()\n",
    "MS.getCollectionFromServer('ingredients')"
   ]
  },
  {
   "cell_type": "code",
   "execution_count": 26,
   "metadata": {},
   "outputs": [
    {
     "name": "stdout",
     "output_type": "stream",
     "text": [
      "{'_id': ObjectId('59fb0d77eee3642f3c0683f7'), 'id': '20-minute-carbonara-with-peas', 'url': 'https://www.asdagoodliving.co.uk/food/recipes/20-minute-carbonara-with-peas', 'image': 'https://be35832fa5168a30acd6-5c7e0f2623ae37b4a933167fe83d71b5.ssl.cf3.rackcdn.com/1602/20-minute-carbonara-with-peas__square.jpg', 'name': '20-minute carbonara with peas', 'serves': '4', 'energy_KCal': 431, 'salt_mg': '1805', 'saturated_fat_g': '6.1', 'fat_g': '16.6', 'sugar_g': '5', 'time_min': '20', 'price_p': '115', 'list_ingredients': ['200g spaghetti', '250g frozen peas', '2 medium eggs', '25g Parmesan(grated)', '4 level tbsp reduced-fat crème fraîche', '1 tbsp olive oil', '4 rashers Asda Extra Special Unsmoked Back Bacon(chopped)', '1 shallot(finely chopped)', '1 garlic clove(crushed)', 'Chopped parsley(to serve)'], 'ningredients': 10.0}\n"
     ]
    }
   ],
   "source": [
    "R = Recommender()\n",
    "db = R.getDataBase()\n",
    "R.getCollection(db, \"recipes\")"
   ]
  },
  {
   "cell_type": "code",
   "execution_count": null,
   "metadata": {},
   "outputs": [],
   "source": [
    "print(db.collection_names())\n",
    "recipes = db.recipes\n",
    "print()\n",
    "print(recipes)"
   ]
  },
  {
   "cell_type": "code",
   "execution_count": null,
   "metadata": {},
   "outputs": [],
   "source": [
    "recipes.count()"
   ]
  },
  {
   "cell_type": "code",
   "execution_count": null,
   "metadata": {},
   "outputs": [],
   "source": [
    "for ing in recipes.find():\n",
    "    print(ing)"
   ]
  },
  {
   "cell_type": "code",
   "execution_count": null,
   "metadata": {
    "collapsed": true
   },
   "outputs": [],
   "source": [
    "class Recommender:\n",
    "    \n",
    "    def __init__(self):\n",
    "        pass\n"
   ]
  }
 ],
 "metadata": {
  "kernelspec": {
   "display_name": "Python 3",
   "language": "python",
   "name": "python3"
  },
  "language_info": {
   "codemirror_mode": {
    "name": "ipython",
    "version": 3
   },
   "file_extension": ".py",
   "mimetype": "text/x-python",
   "name": "python",
   "nbconvert_exporter": "python",
   "pygments_lexer": "ipython3",
   "version": "3.6.1"
  }
 },
 "nbformat": 4,
 "nbformat_minor": 2
}
