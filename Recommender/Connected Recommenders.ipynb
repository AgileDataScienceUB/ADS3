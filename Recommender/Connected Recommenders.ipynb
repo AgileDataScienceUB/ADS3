{
 "cells": [
  {
   "cell_type": "markdown",
   "metadata": {},
   "source": [
    "# Connected Recommenders"
   ]
  },
  {
   "cell_type": "code",
   "execution_count": 1,
   "metadata": {
    "collapsed": true
   },
   "outputs": [],
   "source": [
    "import pandas as pd\n",
    "import pymongo\n",
    "\n",
    "def _connect_mongo():\n",
    "    \"\"\" Connects to Mongo \"\"\"\n",
    "    global conn\n",
    "    try:\n",
    "        #use your database name, user and password here:\n",
    "        #mongodb://<dbuser>:<dbpassword>@<mlab_url>.mlab.com:57066/<database_name>\n",
    "        with open(\"credentials.txt\", 'r') as f:\n",
    "            [name,password,url,dbname]=f.read().splitlines()\n",
    "        conn=pymongo.MongoClient(\"mongodb://{}:{}@{}/{}\".format(name,password,url,dbname))\n",
    "        \n",
    "        print (\"Connected successfully to\", dbname)\n",
    "\n",
    "    except pymongo.errors.ConnectionFailure as e:\n",
    "        print (\"Could not connect to MongoDB: %s\" % e) \n",
    "        \n",
    "    print(conn)\n",
    "    db=conn[\"agile_data_science_group_3\"]\n",
    "    \n",
    "    return db\n",
    "\n",
    "\n",
    "def read_collection_as_df(collection_name, no_id=True):\n",
    "    \"\"\" Read from Mongo and Store into DataFrame \"\"\"\n",
    "\n",
    "    # Connect to MongoDB\n",
    "    db = _connect_mongo()\n",
    "    \n",
    "    collection = db[collection_name]\n",
    "    \n",
    "    # Make a query to the specific DB and Collection\n",
    "    cursor = collection.find()\n",
    "\n",
    "    # Expand the cursor and construct the DataFrame\n",
    "    df =  pd.DataFrame(list(cursor)) \n",
    "\n",
    "    conn.close()\n",
    "    \n",
    "    return df\n",
    "\n",
    "def read_collection_as_dict(collection_name):\n",
    "    \"\"\" Read from Mongo and Store into dict \"\"\"\n",
    "\n",
    "    # Connect to MongoDB\n",
    "    db = _connect_mongo()\n",
    "    \n",
    "    collection = db[collection_name]\n",
    "\n",
    "    l=list()\n",
    "    for d in collection.find():\n",
    "        l.append(d)\n",
    "      \n",
    "    dic=dict()\n",
    "    for d in l:\n",
    "        for key, value in d.items():\n",
    "            if key!='_id':\n",
    "                dic[key] = value\n",
    "    \n",
    "    conn.close()\n",
    "    \n",
    "    return dic"
   ]
  },
  {
   "cell_type": "code",
   "execution_count": 2,
   "metadata": {},
   "outputs": [
    {
     "name": "stdout",
     "output_type": "stream",
     "text": [
      "('Connected successfully to', 'agile_data_science_group_3')\n",
      "MongoClient(host=['ds233895.mlab.com:33895'], document_class=dict, tz_aware=False, connect=True)\n",
      "('Connected successfully to', 'agile_data_science_group_3')\n",
      "MongoClient(host=['ds233895.mlab.com:33895'], document_class=dict, tz_aware=False, connect=True)\n"
     ]
    }
   ],
   "source": [
    "users_recipes_ratings_df = read_collection_as_df(\"users_recipes_ratings\")\n",
    "recipes_ingredients_dic = read_collection_as_dict(\"recipes_ingredients\")"
   ]
  },
  {
   "cell_type": "code",
   "execution_count": 3,
   "metadata": {},
   "outputs": [
    {
     "data": {
      "text/html": [
       "<div>\n",
       "<table border=\"1\" class=\"dataframe\">\n",
       "  <thead>\n",
       "    <tr style=\"text-align: right;\">\n",
       "      <th></th>\n",
       "      <th>_id</th>\n",
       "      <th>rating</th>\n",
       "      <th>recipe</th>\n",
       "      <th>user</th>\n",
       "    </tr>\n",
       "  </thead>\n",
       "  <tbody>\n",
       "    <tr>\n",
       "      <th>0</th>\n",
       "      <td>5a298de1166d3310bc8207d1</td>\n",
       "      <td>4</td>\n",
       "      <td>236853</td>\n",
       "      <td>user_1</td>\n",
       "    </tr>\n",
       "    <tr>\n",
       "      <th>1</th>\n",
       "      <td>5a298de1166d3310bc8207d2</td>\n",
       "      <td>5</td>\n",
       "      <td>241469</td>\n",
       "      <td>user_1</td>\n",
       "    </tr>\n",
       "    <tr>\n",
       "      <th>2</th>\n",
       "      <td>5a298de1166d3310bc8207d3</td>\n",
       "      <td>5</td>\n",
       "      <td>85980</td>\n",
       "      <td>user_1</td>\n",
       "    </tr>\n",
       "    <tr>\n",
       "      <th>3</th>\n",
       "      <td>5a298de1166d3310bc8207d4</td>\n",
       "      <td>5</td>\n",
       "      <td>224046</td>\n",
       "      <td>user_2</td>\n",
       "    </tr>\n",
       "    <tr>\n",
       "      <th>4</th>\n",
       "      <td>5a298de1166d3310bc8207d5</td>\n",
       "      <td>5</td>\n",
       "      <td>297457</td>\n",
       "      <td>user_2</td>\n",
       "    </tr>\n",
       "  </tbody>\n",
       "</table>\n",
       "</div>"
      ],
      "text/plain": [
       "                        _id  rating  recipe    user\n",
       "0  5a298de1166d3310bc8207d1       4  236853  user_1\n",
       "1  5a298de1166d3310bc8207d2       5  241469  user_1\n",
       "2  5a298de1166d3310bc8207d3       5   85980  user_1\n",
       "3  5a298de1166d3310bc8207d4       5  224046  user_2\n",
       "4  5a298de1166d3310bc8207d5       5  297457  user_2"
      ]
     },
     "execution_count": 3,
     "metadata": {},
     "output_type": "execute_result"
    }
   ],
   "source": [
    "users_recipes_ratings_df.head()"
   ]
  },
  {
   "cell_type": "code",
   "execution_count": 4,
   "metadata": {},
   "outputs": [
    {
     "data": {
      "text/plain": [
       "[{u'chicken-pumpkin-curry': [u'ghee',\n",
       "   u'oil',\n",
       "   u'onion',\n",
       "   u'pack',\n",
       "   u'asda',\n",
       "   u'chicken',\n",
       "   u'thigh',\n",
       "   u'fillet',\n",
       "   u'skin',\n",
       "   u'garlic',\n",
       "   u'clove',\n",
       "   u'ginger',\n",
       "   u'turmeric',\n",
       "   u'cumin',\n",
       "   u'asda',\n",
       "   u'garam',\n",
       "   u'masala',\n",
       "   u'chillie',\n",
       "   u'can',\n",
       "   u'coconut',\n",
       "   u'milk',\n",
       "   u'pumpkin',\n",
       "   u'skin',\n",
       "   u'fibre',\n",
       "   u'cornflour',\n",
       "   u'cold',\n",
       "   u'water',\n",
       "   u'make',\n",
       "   u'paste',\n",
       "   u'coriander',\n",
       "   u'rice',\n",
       "   u'serve']},\n",
       " {u'masterclass-pulled-ham-creamy-herb-salad': [u'butcher\\u2019',\n",
       "   u'gammon',\n",
       "   u'joint',\n",
       "   u'cider',\n",
       "   u'bag',\n",
       "   u'asda',\n",
       "   u'tender',\n",
       "   u'leaf',\n",
       "   u'salad',\n",
       "   u'caper',\n",
       "   u'frozen',\n",
       "   u'pea',\n",
       "   u'minute',\n",
       "   u'radishe',\n",
       "   u'chosen',\n",
       "   u'gherkin',\n",
       "   u'cider',\n",
       "   u'vinegar',\n",
       "   u'olive',\n",
       "   u'oil',\n",
       "   u'fat',\n",
       "   u'cr\\xe8me',\n",
       "   u'fra\\xeeche',\n",
       "   u'dijon',\n",
       "   u'mustard',\n",
       "   u'parsley']},\n",
       " {u'tuna-with-couscous': [u'couscou',\n",
       "   u'lemon',\n",
       "   u'olive',\n",
       "   u'oil',\n",
       "   u'olive',\n",
       "   u'onion',\n",
       "   u'tomatoe',\n",
       "   u'parsley',\n",
       "   u'tuna',\n",
       "   u'steak']},\n",
       " {u'easy-peasy-fish-cakes': [u'pack',\n",
       "   u'smash',\n",
       "   u'instant',\n",
       "   u'mash',\n",
       "   u'potato',\n",
       "   u'can',\n",
       "   u'asda',\n",
       "   u'tuna',\n",
       "   u'chunk',\n",
       "   u'water',\n",
       "   u'chive',\n",
       "   u'pinch',\n",
       "   u'cayenne',\n",
       "   u'egg',\n",
       "   u'beaten',\n",
       "   u'butter',\n",
       "   u'asda',\n",
       "   u'cornflake',\n",
       "   u'breadcrumb',\n",
       "   u'filippo',\n",
       "   u'berio',\n",
       "   u'spray',\n",
       "   u'oil',\n",
       "   u'asparagu',\n",
       "   u'serve',\n",
       "   u'pea',\n",
       "   u'serve',\n",
       "   u'sweetcorn',\n",
       "   u'serve']},\n",
       " {u'fruity-fro-yo-bombe': [u'banana',\n",
       "   u'frozen',\n",
       "   u'solid',\n",
       "   u'can',\n",
       "   u'ambrosia',\n",
       "   u'light',\n",
       "   u'devon',\n",
       "   u'custard',\n",
       "   u'frozen',\n",
       "   u'hr',\n",
       "   u'pot',\n",
       "   u'yeo',\n",
       "   u'valley',\n",
       "   u'fat',\n",
       "   u'greek',\n",
       "   u'style',\n",
       "   u'honey',\n",
       "   u'asda',\n",
       "   u'natural',\n",
       "   u'food',\n",
       "   u'green',\n",
       "   u'frozen',\n",
       "   u'raspberrie',\n",
       "   u'chocolate',\n",
       "   u'chip']}]"
      ]
     },
     "execution_count": 4,
     "metadata": {},
     "output_type": "execute_result"
    }
   ],
   "source": [
    "[{key:val} for key, val in recipes_ingredients_dic.items()][:5]"
   ]
  },
  {
   "cell_type": "markdown",
   "metadata": {},
   "source": [
    "### Search Engine"
   ]
  },
  {
   "cell_type": "code",
   "execution_count": 5,
   "metadata": {},
   "outputs": [
    {
     "name": "stdout",
     "output_type": "stream",
     "text": [
      "('Connected successfully to', 'agile_data_science_group_3')\n",
      "MongoClient(host=['ds233895.mlab.com:33895'], document_class=dict, tz_aware=False, connect=True)\n"
     ]
    }
   ],
   "source": [
    "import operator\n",
    "def search_engine(user_input, recipes_dict = read_collection_as_dict(\"recipes_ingredients\")):\n",
    "    \"\"\"\n",
    "    Given a list of ingredients from user and the \"recipes: [ingredients]\" dictionary, order the recipes by a score of suitability.\n",
    "    It also provides those matching ingredients and missing ingredients for each recommendation. \n",
    "    \n",
    "    Input: \n",
    "    - user_input as list. Example:[\"ingedient1\", \"ingredient2\", ...]\n",
    "    - recipes_dict as dictionary. Example: \"{recipe1: [ingredients], recipe2: [ingredients] recipe3: [ingredients], ...}\"\n",
    "    \n",
    "    The output are: \n",
    "    - recomendations as list. Example: [recipe134, recipe43234, recipe544, ...]\n",
    "    - matchings as list of sets. Example: [{ingedient1, ingedient2}, {ingedient1}, ...]\n",
    "    - missings as list of sets. Example: [{}, {ingredient43}, {ingredient32, ingredient45}, ...]\n",
    "    \"\"\"\n",
    "    \n",
    "    matching = dict()\n",
    "    missing = dict()\n",
    "    score = dict()\n",
    "    \n",
    "    user_ingredients = set(user_input)\n",
    "    \n",
    "    for recipe in recipes_dict.keys():\n",
    "        \n",
    "        recom_ingredients = set(recipes_dict[recipe])\n",
    "        \n",
    "        matching[recipe] = user_ingredients.intersection(recom_ingredients)   # ingredients in user_input & in recommendation  \n",
    "        missing[recipe] = recom_ingredients.difference(user_ingredients)   # ingredients from recommendation that user_input not have\n",
    "        score[recipe] = 10*len(matching[recipe])/(len(missing[recipe])+ len(matching[recipe]))\n",
    "    \n",
    "    recommendations_sorted = sorted(score.items(), key=operator.itemgetter(1), reverse=True)\n",
    "    matching_sorted = [matching[recipe] for recipe, score in dict(recommendations_sorted).items()]\n",
    "    missing_sorted = [missing[recipe] for recipe, score in dict(recommendations_sorted).items()]\n",
    "    recommendations_sorted = [recipe_score[0] for recipe_score in recommendations_sorted]\n",
    "    \n",
    "    return recommendations_sorted, matching_sorted, missing_sorted"
   ]
  },
  {
   "cell_type": "code",
   "execution_count": 6,
   "metadata": {
    "collapsed": true
   },
   "outputs": [],
   "source": [
    "grocery = [\"egg\", \"chicken\"]\n",
    "\n",
    "recom_list, matching_ingredients, missing_ingredients = search_engine(grocery, recipes_ingredients_dic)"
   ]
  },
  {
   "cell_type": "code",
   "execution_count": 7,
   "metadata": {},
   "outputs": [
    {
     "data": {
      "text/plain": [
       "[u'basic-royal-icing',\n",
       " u'icing-recipe',\n",
       " u'oven-cooked-new-potatoes',\n",
       " u'miguel-barclays-green-shakshuka',\n",
       " u'sausage-mummies',\n",
       " u'meringue-bones-and-blood-dip',\n",
       " u'clementine-lemon-curd',\n",
       " u'paprika-chicken',\n",
       " u'meringue-nests',\n",
       " u'chicken-noodle-stir-fry']"
      ]
     },
     "execution_count": 7,
     "metadata": {},
     "output_type": "execute_result"
    }
   ],
   "source": [
    "recom_list[:10]"
   ]
  },
  {
   "cell_type": "code",
   "execution_count": 8,
   "metadata": {},
   "outputs": [
    {
     "data": {
      "text/plain": [
       "[{'chicken'},\n",
       " set(),\n",
       " {'egg'},\n",
       " {'egg'},\n",
       " set(),\n",
       " set(),\n",
       " set(),\n",
       " {'egg'},\n",
       " {'egg'},\n",
       " set()]"
      ]
     },
     "execution_count": 8,
     "metadata": {},
     "output_type": "execute_result"
    }
   ],
   "source": [
    "matching_ingredients[:10]"
   ]
  },
  {
   "cell_type": "code",
   "execution_count": 9,
   "metadata": {},
   "outputs": [
    {
     "data": {
      "text/plain": [
       "[{u'asda',\n",
       "  u'can',\n",
       "  u'chillie',\n",
       "  u'clove',\n",
       "  u'coconut',\n",
       "  u'cold',\n",
       "  u'coriander',\n",
       "  u'cornflour',\n",
       "  u'cumin',\n",
       "  u'fibre',\n",
       "  u'fillet',\n",
       "  u'garam',\n",
       "  u'garlic',\n",
       "  u'ghee',\n",
       "  u'ginger',\n",
       "  u'make',\n",
       "  u'masala',\n",
       "  u'milk',\n",
       "  u'oil',\n",
       "  u'onion',\n",
       "  u'pack',\n",
       "  u'paste',\n",
       "  u'pumpkin',\n",
       "  u'rice',\n",
       "  u'serve',\n",
       "  u'skin',\n",
       "  u'thigh',\n",
       "  u'turmeric',\n",
       "  u'water'},\n",
       " {u'asda',\n",
       "  u'bag',\n",
       "  u'butcher\\u2019',\n",
       "  u'caper',\n",
       "  u'chosen',\n",
       "  u'cider',\n",
       "  u'cr\\xe8me',\n",
       "  u'dijon',\n",
       "  u'fat',\n",
       "  u'fra\\xeeche',\n",
       "  u'frozen',\n",
       "  u'gammon',\n",
       "  u'gherkin',\n",
       "  u'joint',\n",
       "  u'leaf',\n",
       "  u'minute',\n",
       "  u'mustard',\n",
       "  u'oil',\n",
       "  u'olive',\n",
       "  u'parsley',\n",
       "  u'pea',\n",
       "  u'radishe',\n",
       "  u'salad',\n",
       "  u'tender',\n",
       "  u'vinegar'},\n",
       " {u'banana',\n",
       "  u'beaten',\n",
       "  u'brown',\n",
       "  u'butter',\n",
       "  u'cinnamon',\n",
       "  u'date',\n",
       "  u'flour',\n",
       "  u'light',\n",
       "  u'pecan',\n",
       "  u'piece',\n",
       "  u'plu',\n",
       "  u'powder',\n",
       "  u'raisin-size',\n",
       "  u'ripe',\n",
       "  u'salt',\n",
       "  u'soft',\n",
       "  u'sugar',\n",
       "  u'weight'},\n",
       " {u'asda',\n",
       "  u'asparagu',\n",
       "  u'beaten',\n",
       "  u'berio',\n",
       "  u'breadcrumb',\n",
       "  u'butter',\n",
       "  u'can',\n",
       "  u'cayenne',\n",
       "  u'chive',\n",
       "  u'chunk',\n",
       "  u'cornflake',\n",
       "  u'filippo',\n",
       "  u'instant',\n",
       "  u'mash',\n",
       "  u'oil',\n",
       "  u'pack',\n",
       "  u'pea',\n",
       "  u'pinch',\n",
       "  u'potato',\n",
       "  u'serve',\n",
       "  u'smash',\n",
       "  u'spray',\n",
       "  u'sweetcorn',\n",
       "  u'tuna',\n",
       "  u'water'},\n",
       " {u'ambrosia',\n",
       "  u'asda',\n",
       "  u'banana',\n",
       "  u'can',\n",
       "  u'chip',\n",
       "  u'chocolate',\n",
       "  u'custard',\n",
       "  u'devon',\n",
       "  u'fat',\n",
       "  u'food',\n",
       "  u'frozen',\n",
       "  u'greek',\n",
       "  u'green',\n",
       "  u'honey',\n",
       "  u'hr',\n",
       "  u'light',\n",
       "  u'natural',\n",
       "  u'pot',\n",
       "  u'raspberrie',\n",
       "  u'solid',\n",
       "  u'style',\n",
       "  u'valley',\n",
       "  u'yeo'},\n",
       " {u'avocado',\n",
       "  u'basmati',\n",
       "  u'chilli',\n",
       "  u'coriander',\n",
       "  u'fillet',\n",
       "  u'grapefruit',\n",
       "  u'juice',\n",
       "  u'lime',\n",
       "  u'mild',\n",
       "  u'oil',\n",
       "  u'olive',\n",
       "  u'onion',\n",
       "  u'piece',\n",
       "  u'pink',\n",
       "  u'plu',\n",
       "  u'rice',\n",
       "  u'ripe',\n",
       "  u'salmon',\n",
       "  u'zest'},\n",
       " {u'american-style',\n",
       "  u'aromatico',\n",
       "  u'asda',\n",
       "  u'bacon',\n",
       "  u'cheddar',\n",
       "  u'chive',\n",
       "  u'chosen',\n",
       "  u'cream',\n",
       "  u'crispy',\n",
       "  u'leicester',\n",
       "  u'light',\n",
       "  u'macaroni',\n",
       "  u'mayonnaise',\n",
       "  u'mustard',\n",
       "  u'oil',\n",
       "  u'olive',\n",
       "  u'pepper',\n",
       "  u'sour',\n",
       "  u'special',\n",
       "  u'sweet',\n",
       "  u'tomatoe'},\n",
       " {u'ball',\n",
       "  u'brown',\n",
       "  u'butter',\n",
       "  u'dark',\n",
       "  u'flour',\n",
       "  u'ginger',\n",
       "  u'golden',\n",
       "  u'jar',\n",
       "  u'milk',\n",
       "  u'opie',\n",
       "  u'optional',\n",
       "  u'plu',\n",
       "  u'serve',\n",
       "  u'soft',\n",
       "  u'spice',\n",
       "  u'stem',\n",
       "  u'sugar',\n",
       "  u'sultana',\n",
       "  u'syrup',\n",
       "  u'treacle'},\n",
       " {u'banana',\n",
       "  u'blueberrie',\n",
       "  u'brown',\n",
       "  u'flour',\n",
       "  u'light',\n",
       "  u'milk',\n",
       "  u'oat',\n",
       "  u'oil',\n",
       "  u'porridge',\n",
       "  u'powder',\n",
       "  u'raspberrie',\n",
       "  u'ripe',\n",
       "  u'soft',\n",
       "  u'sugar',\n",
       "  u'sunflower'},\n",
       " {u'balsamic',\n",
       "  u'bean',\n",
       "  u'broad',\n",
       "  u'bunch',\n",
       "  u'can',\n",
       "  u'cannellini',\n",
       "  u'celery',\n",
       "  u'dijon',\n",
       "  u'frozen',\n",
       "  u'jar',\n",
       "  u'kidney',\n",
       "  u'mustard',\n",
       "  u'oil',\n",
       "  u'olive',\n",
       "  u'onion',\n",
       "  u'stick',\n",
       "  u'tomatoe',\n",
       "  u'vinegar'}]"
      ]
     },
     "execution_count": 9,
     "metadata": {},
     "output_type": "execute_result"
    }
   ],
   "source": [
    "missing_ingredients[:10]"
   ]
  },
  {
   "cell_type": "markdown",
   "metadata": {},
   "source": [
    "Testing:"
   ]
  },
  {
   "cell_type": "code",
   "execution_count": 10,
   "metadata": {},
   "outputs": [
    {
     "data": {
      "text/plain": [
       "{u'egg', u'sugar'}"
      ]
     },
     "execution_count": 10,
     "metadata": {},
     "output_type": "execute_result"
    }
   ],
   "source": [
    "set(recipes_ingredients_dic['icing-recipe'])"
   ]
  },
  {
   "cell_type": "code",
   "execution_count": 11,
   "metadata": {
    "scrolled": true
   },
   "outputs": [
    {
     "data": {
      "text/plain": [
       "{u'egg', u'sugar'}"
      ]
     },
     "execution_count": 11,
     "metadata": {},
     "output_type": "execute_result"
    }
   ],
   "source": [
    "set(recipes_ingredients_dic['basic-royal-icing'])"
   ]
  },
  {
   "cell_type": "markdown",
   "metadata": {},
   "source": [
    "### Best Rated"
   ]
  },
  {
   "cell_type": "code",
   "execution_count": 12,
   "metadata": {},
   "outputs": [],
   "source": [
    "import numpy as np\n",
    "import pandas as pd\n",
    "import csv"
   ]
  },
  {
   "cell_type": "code",
   "execution_count": 13,
   "metadata": {},
   "outputs": [],
   "source": [
    "def best_rated(data=users_recipes_ratings_df, n=10):\n",
    "    \"\"\"\n",
    "    Return top n recipes by maximum mean rating. In case of draw, then by minimum standard deviation rating.\n",
    "    \"\"\"\n",
    "    # top rated\n",
    "    recipe_rating_mean = users_recipes_ratings_df.groupby(['recipe'])['rating'].mean()\n",
    "    recipe_rating_std = users_recipes_ratings_df.groupby(['recipe'])['rating'].std()\n",
    "    recipe_rating = pd.concat([recipe_rating_mean, recipe_rating_std], axis=1)\n",
    "    recipe_rating.columns=[\"mean\", \"std\"]\n",
    "    recs = recipe_rating.sort([\"mean\", \"std\"], ascending=[0,1])\n",
    "    \n",
    "    return list(recs.index.values)[:n]"
   ]
  },
  {
   "cell_type": "code",
   "execution_count": 14,
   "metadata": {},
   "outputs": [
    {
     "name": "stderr",
     "output_type": "stream",
     "text": [
      "/home/gonzalo_espinosa/anaconda3/envs/gl-env/lib/python2.7/site-packages/ipykernel/__main__.py:10: FutureWarning: sort(columns=....) is deprecated, use sort_values(by=.....)\n"
     ]
    },
    {
     "data": {
      "text/plain": [
       "[u'106881',\n",
       " u'107166',\n",
       " u'107668',\n",
       " u'107680',\n",
       " u'108930',\n",
       " u'110600',\n",
       " u'111322',\n",
       " u'112629',\n",
       " u'113252',\n",
       " u'113789']"
      ]
     },
     "execution_count": 14,
     "metadata": {},
     "output_type": "execute_result"
    }
   ],
   "source": [
    "best_rated(100)"
   ]
  },
  {
   "cell_type": "markdown",
   "metadata": {},
   "source": [
    "### Collaborative filtering"
   ]
  },
  {
   "cell_type": "code",
   "execution_count": 15,
   "metadata": {
    "collapsed": true
   },
   "outputs": [],
   "source": [
    "import numpy as np\n",
    "import pandas as pd\n",
    "import csv\n",
    "import graphlab as gl"
   ]
  },
  {
   "cell_type": "markdown",
   "metadata": {},
   "source": [
    "#### Option 1: Built the recommender + recommend\n",
    "Execution time: 3.13 s"
   ]
  },
  {
   "cell_type": "code",
   "execution_count": 16,
   "metadata": {
    "collapsed": true
   },
   "outputs": [],
   "source": [
    "def collaborative_filtering(data=users_recipes_ratings_df, user=[\"user_1\"], n=10):\n",
    "    \n",
    "    t1 = time\n",
    "    # select only user, recipe, ratings (what we need)\n",
    "    df = users_recipes_ratings_df[[\"user\",\"recipe\", \"rating\"]]\n",
    "    df[\"rating\"] = df[\"rating\"].astype(float)\n",
    "    \n",
    "    sf = gl.SFrame(df)\n",
    "                                       \n",
    "    collaborative_filtering = gl.item_similarity_recommender.create(sf, user_id='user', item_id='recipe', target='rating',                                                similarity_type='pearson')\n",
    "    pred_itemitem_pearson = collaborative_filtering.predict(sf)\n",
    "    recs_itemitem_pearson = collaborative_filtering.recommend(users=user, k=n)     # top 10 collaborative filtering recomendations\n",
    "\n",
    "    return list(recs_itemitem_pearson[\"recipe\"])"
   ]
  },
  {
   "cell_type": "code",
   "execution_count": 17,
   "metadata": {},
   "outputs": [
    {
     "name": "stderr",
     "output_type": "stream",
     "text": [
      "/home/gonzalo_espinosa/anaconda3/envs/gl-env/lib/python2.7/site-packages/ipykernel/__main__.py:6: SettingWithCopyWarning: \n",
      "A value is trying to be set on a copy of a slice from a DataFrame.\n",
      "Try using .loc[row_indexer,col_indexer] = value instead\n",
      "\n",
      "See the caveats in the documentation: http://pandas.pydata.org/pandas-docs/stable/indexing.html#indexing-view-versus-copy\n"
     ]
    },
    {
     "name": "stdout",
     "output_type": "stream",
     "text": [
      "This non-commercial license of GraphLab Create for academic use is assigned to gonzaloespinosaduelo@gmail.com and will expire on November 08, 2018.\n"
     ]
    },
    {
     "name": "stderr",
     "output_type": "stream",
     "text": [
      "[INFO] graphlab.cython.cy_server: GraphLab Create v2.1 started. Logging: /tmp/graphlab_server_1512764733.log\n"
     ]
    },
    {
     "data": {
      "text/html": [
       "<pre>Recsys training: model = item_similarity</pre>"
      ],
      "text/plain": [
       "Recsys training: model = item_similarity"
      ]
     },
     "metadata": {},
     "output_type": "display_data"
    },
    {
     "data": {
      "text/html": [
       "<pre>Preparing data set.</pre>"
      ],
      "text/plain": [
       "Preparing data set."
      ]
     },
     "metadata": {},
     "output_type": "display_data"
    },
    {
     "data": {
      "text/html": [
       "<pre>    Data has 59742 observations with 10000 users and 15210 items.</pre>"
      ],
      "text/plain": [
       "    Data has 59742 observations with 10000 users and 15210 items."
      ]
     },
     "metadata": {},
     "output_type": "display_data"
    },
    {
     "data": {
      "text/html": [
       "<pre>    Data prepared in: 0.167308s</pre>"
      ],
      "text/plain": [
       "    Data prepared in: 0.167308s"
      ]
     },
     "metadata": {},
     "output_type": "display_data"
    },
    {
     "data": {
      "text/html": [
       "<pre>Training model from provided data.</pre>"
      ],
      "text/plain": [
       "Training model from provided data."
      ]
     },
     "metadata": {},
     "output_type": "display_data"
    },
    {
     "data": {
      "text/html": [
       "<pre>Gathering per-item and per-user statistics.</pre>"
      ],
      "text/plain": [
       "Gathering per-item and per-user statistics."
      ]
     },
     "metadata": {},
     "output_type": "display_data"
    },
    {
     "data": {
      "text/html": [
       "<pre>+--------------------------------+------------+</pre>"
      ],
      "text/plain": [
       "+--------------------------------+------------+"
      ]
     },
     "metadata": {},
     "output_type": "display_data"
    },
    {
     "data": {
      "text/html": [
       "<pre>| Elapsed Time (Item Statistics) | % Complete |</pre>"
      ],
      "text/plain": [
       "| Elapsed Time (Item Statistics) | % Complete |"
      ]
     },
     "metadata": {},
     "output_type": "display_data"
    },
    {
     "data": {
      "text/html": [
       "<pre>+--------------------------------+------------+</pre>"
      ],
      "text/plain": [
       "+--------------------------------+------------+"
      ]
     },
     "metadata": {},
     "output_type": "display_data"
    },
    {
     "data": {
      "text/html": [
       "<pre>| 2.565ms                        | 10         |</pre>"
      ],
      "text/plain": [
       "| 2.565ms                        | 10         |"
      ]
     },
     "metadata": {},
     "output_type": "display_data"
    },
    {
     "data": {
      "text/html": [
       "<pre>| 10.538ms                       | 100        |</pre>"
      ],
      "text/plain": [
       "| 10.538ms                       | 100        |"
      ]
     },
     "metadata": {},
     "output_type": "display_data"
    },
    {
     "data": {
      "text/html": [
       "<pre>+--------------------------------+------------+</pre>"
      ],
      "text/plain": [
       "+--------------------------------+------------+"
      ]
     },
     "metadata": {},
     "output_type": "display_data"
    },
    {
     "data": {
      "text/html": [
       "<pre>Setting up lookup tables.</pre>"
      ],
      "text/plain": [
       "Setting up lookup tables."
      ]
     },
     "metadata": {},
     "output_type": "display_data"
    },
    {
     "data": {
      "text/html": [
       "<pre>Processing data in one pass using dense lookup tables.</pre>"
      ],
      "text/plain": [
       "Processing data in one pass using dense lookup tables."
      ]
     },
     "metadata": {},
     "output_type": "display_data"
    },
    {
     "data": {
      "text/html": [
       "<pre>+-------------------------------------+------------------+-----------------+</pre>"
      ],
      "text/plain": [
       "+-------------------------------------+------------------+-----------------+"
      ]
     },
     "metadata": {},
     "output_type": "display_data"
    },
    {
     "data": {
      "text/html": [
       "<pre>| Elapsed Time (Constructing Lookups) | Total % Complete | Items Processed |</pre>"
      ],
      "text/plain": [
       "| Elapsed Time (Constructing Lookups) | Total % Complete | Items Processed |"
      ]
     },
     "metadata": {},
     "output_type": "display_data"
    },
    {
     "data": {
      "text/html": [
       "<pre>+-------------------------------------+------------------+-----------------+</pre>"
      ],
      "text/plain": [
       "+-------------------------------------+------------------+-----------------+"
      ]
     },
     "metadata": {},
     "output_type": "display_data"
    },
    {
     "data": {
      "text/html": [
       "<pre>| 209.058ms                           | 0                | 0               |</pre>"
      ],
      "text/plain": [
       "| 209.058ms                           | 0                | 0               |"
      ]
     },
     "metadata": {},
     "output_type": "display_data"
    },
    {
     "data": {
      "text/html": [
       "<pre>| 1.85s                               | 100              | 15210           |</pre>"
      ],
      "text/plain": [
       "| 1.85s                               | 100              | 15210           |"
      ]
     },
     "metadata": {},
     "output_type": "display_data"
    },
    {
     "data": {
      "text/html": [
       "<pre>+-------------------------------------+------------------+-----------------+</pre>"
      ],
      "text/plain": [
       "+-------------------------------------+------------------+-----------------+"
      ]
     },
     "metadata": {},
     "output_type": "display_data"
    },
    {
     "data": {
      "text/html": [
       "<pre>Finalizing lookup tables.</pre>"
      ],
      "text/plain": [
       "Finalizing lookup tables."
      ]
     },
     "metadata": {},
     "output_type": "display_data"
    },
    {
     "data": {
      "text/html": [
       "<pre>Generating candidate set for working with new users.</pre>"
      ],
      "text/plain": [
       "Generating candidate set for working with new users."
      ]
     },
     "metadata": {},
     "output_type": "display_data"
    },
    {
     "data": {
      "text/html": [
       "<pre>Finished training in 2.87042s</pre>"
      ],
      "text/plain": [
       "Finished training in 2.87042s"
      ]
     },
     "metadata": {},
     "output_type": "display_data"
    },
    {
     "name": "stdout",
     "output_type": "stream",
     "text": [
      "('Execution time:', 5.351465940475464)\n",
      "['96181', '205980', '295802', '300909', 'sticky-toffee-puddings', '296256', '296621', '80843', '268707', '300037']\n"
     ]
    }
   ],
   "source": [
    "import time\n",
    "start = time.time()\n",
    "recs = collaborative_filtering()\n",
    "\n",
    "print(\"Execution time:\", time.time()-start)\n",
    "print(recs)\n"
   ]
  },
  {
   "cell_type": "markdown",
   "metadata": {},
   "source": [
    "#### Option 2: Load recommender and recommend in two parts\n",
    "Recommendation time execution: 0.61s"
   ]
  },
  {
   "cell_type": "code",
   "execution_count": 18,
   "metadata": {},
   "outputs": [],
   "source": [
    "def load_collaborative_filtering(data=users_recipes_ratings_df):\n",
    "    \n",
    "    # select only user, recipe, ratings (what we need)\n",
    "    df = users_recipes_ratings_df[[\"user\",\"recipe\", \"rating\"]]\n",
    "    df[\"rating\"] = df[\"rating\"].astype(float)\n",
    "    \n",
    "    global sf\n",
    "    sf = gl.SFrame(df)\n",
    "                                       \n",
    "    collaborative_filtering = gl.item_similarity_recommender.create(sf, user_id='user', item_id='recipe', target='rating',                                                similarity_type='pearson')\n",
    "    return collaborative_filtering"
   ]
  },
  {
   "cell_type": "code",
   "execution_count": 19,
   "metadata": {},
   "outputs": [
    {
     "name": "stderr",
     "output_type": "stream",
     "text": [
      "/home/gonzalo_espinosa/anaconda3/envs/gl-env/lib/python2.7/site-packages/ipykernel/__main__.py:5: SettingWithCopyWarning: \n",
      "A value is trying to be set on a copy of a slice from a DataFrame.\n",
      "Try using .loc[row_indexer,col_indexer] = value instead\n",
      "\n",
      "See the caveats in the documentation: http://pandas.pydata.org/pandas-docs/stable/indexing.html#indexing-view-versus-copy\n"
     ]
    },
    {
     "data": {
      "text/html": [
       "<pre>Recsys training: model = item_similarity</pre>"
      ],
      "text/plain": [
       "Recsys training: model = item_similarity"
      ]
     },
     "metadata": {},
     "output_type": "display_data"
    },
    {
     "data": {
      "text/html": [
       "<pre>Preparing data set.</pre>"
      ],
      "text/plain": [
       "Preparing data set."
      ]
     },
     "metadata": {},
     "output_type": "display_data"
    },
    {
     "data": {
      "text/html": [
       "<pre>    Data has 59742 observations with 10000 users and 15210 items.</pre>"
      ],
      "text/plain": [
       "    Data has 59742 observations with 10000 users and 15210 items."
      ]
     },
     "metadata": {},
     "output_type": "display_data"
    },
    {
     "data": {
      "text/html": [
       "<pre>    Data prepared in: 0.148184s</pre>"
      ],
      "text/plain": [
       "    Data prepared in: 0.148184s"
      ]
     },
     "metadata": {},
     "output_type": "display_data"
    },
    {
     "data": {
      "text/html": [
       "<pre>Training model from provided data.</pre>"
      ],
      "text/plain": [
       "Training model from provided data."
      ]
     },
     "metadata": {},
     "output_type": "display_data"
    },
    {
     "data": {
      "text/html": [
       "<pre>Gathering per-item and per-user statistics.</pre>"
      ],
      "text/plain": [
       "Gathering per-item and per-user statistics."
      ]
     },
     "metadata": {},
     "output_type": "display_data"
    },
    {
     "data": {
      "text/html": [
       "<pre>+--------------------------------+------------+</pre>"
      ],
      "text/plain": [
       "+--------------------------------+------------+"
      ]
     },
     "metadata": {},
     "output_type": "display_data"
    },
    {
     "data": {
      "text/html": [
       "<pre>| Elapsed Time (Item Statistics) | % Complete |</pre>"
      ],
      "text/plain": [
       "| Elapsed Time (Item Statistics) | % Complete |"
      ]
     },
     "metadata": {},
     "output_type": "display_data"
    },
    {
     "data": {
      "text/html": [
       "<pre>+--------------------------------+------------+</pre>"
      ],
      "text/plain": [
       "+--------------------------------+------------+"
      ]
     },
     "metadata": {},
     "output_type": "display_data"
    },
    {
     "data": {
      "text/html": [
       "<pre>| 591us                          | 20         |</pre>"
      ],
      "text/plain": [
       "| 591us                          | 20         |"
      ]
     },
     "metadata": {},
     "output_type": "display_data"
    },
    {
     "data": {
      "text/html": [
       "<pre>| 15.501ms                       | 100        |</pre>"
      ],
      "text/plain": [
       "| 15.501ms                       | 100        |"
      ]
     },
     "metadata": {},
     "output_type": "display_data"
    },
    {
     "data": {
      "text/html": [
       "<pre>+--------------------------------+------------+</pre>"
      ],
      "text/plain": [
       "+--------------------------------+------------+"
      ]
     },
     "metadata": {},
     "output_type": "display_data"
    },
    {
     "data": {
      "text/html": [
       "<pre>Setting up lookup tables.</pre>"
      ],
      "text/plain": [
       "Setting up lookup tables."
      ]
     },
     "metadata": {},
     "output_type": "display_data"
    },
    {
     "data": {
      "text/html": [
       "<pre>Processing data in one pass using dense lookup tables.</pre>"
      ],
      "text/plain": [
       "Processing data in one pass using dense lookup tables."
      ]
     },
     "metadata": {},
     "output_type": "display_data"
    },
    {
     "data": {
      "text/html": [
       "<pre>+-------------------------------------+------------------+-----------------+</pre>"
      ],
      "text/plain": [
       "+-------------------------------------+------------------+-----------------+"
      ]
     },
     "metadata": {},
     "output_type": "display_data"
    },
    {
     "data": {
      "text/html": [
       "<pre>| Elapsed Time (Constructing Lookups) | Total % Complete | Items Processed |</pre>"
      ],
      "text/plain": [
       "| Elapsed Time (Constructing Lookups) | Total % Complete | Items Processed |"
      ]
     },
     "metadata": {},
     "output_type": "display_data"
    },
    {
     "data": {
      "text/html": [
       "<pre>+-------------------------------------+------------------+-----------------+</pre>"
      ],
      "text/plain": [
       "+-------------------------------------+------------------+-----------------+"
      ]
     },
     "metadata": {},
     "output_type": "display_data"
    },
    {
     "data": {
      "text/html": [
       "<pre>| 205.165ms                           | 0                | 0               |</pre>"
      ],
      "text/plain": [
       "| 205.165ms                           | 0                | 0               |"
      ]
     },
     "metadata": {},
     "output_type": "display_data"
    },
    {
     "data": {
      "text/html": [
       "<pre>| 1.95s                               | 100              | 15210           |</pre>"
      ],
      "text/plain": [
       "| 1.95s                               | 100              | 15210           |"
      ]
     },
     "metadata": {},
     "output_type": "display_data"
    },
    {
     "data": {
      "text/html": [
       "<pre>+-------------------------------------+------------------+-----------------+</pre>"
      ],
      "text/plain": [
       "+-------------------------------------+------------------+-----------------+"
      ]
     },
     "metadata": {},
     "output_type": "display_data"
    },
    {
     "data": {
      "text/html": [
       "<pre>Finalizing lookup tables.</pre>"
      ],
      "text/plain": [
       "Finalizing lookup tables."
      ]
     },
     "metadata": {},
     "output_type": "display_data"
    },
    {
     "data": {
      "text/html": [
       "<pre>Generating candidate set for working with new users.</pre>"
      ],
      "text/plain": [
       "Generating candidate set for working with new users."
      ]
     },
     "metadata": {},
     "output_type": "display_data"
    },
    {
     "data": {
      "text/html": [
       "<pre>Finished training in 1.97797s</pre>"
      ],
      "text/plain": [
       "Finished training in 1.97797s"
      ]
     },
     "metadata": {},
     "output_type": "display_data"
    }
   ],
   "source": [
    "recom = load_collaborative_filtering(data=users_recipes_ratings_df)"
   ]
  },
  {
   "cell_type": "code",
   "execution_count": 20,
   "metadata": {},
   "outputs": [],
   "source": [
    "def recommend_collaborative_filtering(recommender_object, user=[\"user_1\"], n=10):\n",
    "\n",
    "    pred_itemitem_pearson = recommender_object.predict(sf)\n",
    "    recs_itemitem_pearson = recommender_object.recommend(users=user, k=n)     # top 10 collaborative filtering recomendations\n",
    "\n",
    "    return list(recs_itemitem_pearson[\"recipe\"])"
   ]
  },
  {
   "cell_type": "code",
   "execution_count": 21,
   "metadata": {},
   "outputs": [
    {
     "name": "stdout",
     "output_type": "stream",
     "text": [
      "('Execution time:', 0.6640620231628418)\n",
      "['96181', '205980', '295802', '300909', 'sticky-toffee-puddings', '296256', '296621', '80843', '268707', '300037']\n"
     ]
    }
   ],
   "source": [
    "import time\n",
    "start = time.time()\n",
    "recs = recommend_collaborative_filtering(recom, user=[\"user_1\"], n=10)\n",
    "\n",
    "print(\"Execution time:\", time.time()-start)\n",
    "\n",
    "print(recs)"
   ]
  },
  {
   "cell_type": "markdown",
   "metadata": {},
   "source": [
    "### Content-based Recommender\n",
    "\n",
    "recipes_ingredients_dic"
   ]
  },
  {
   "cell_type": "code",
   "execution_count": null,
   "metadata": {
    "collapsed": true
   },
   "outputs": [],
   "source": []
  }
 ],
 "metadata": {
  "kernelspec": {
   "display_name": "Python [conda env:gl-env]",
   "language": "python",
   "name": "conda-env-gl-env-py"
  },
  "language_info": {
   "codemirror_mode": {
    "name": "ipython",
    "version": 2
   },
   "file_extension": ".py",
   "mimetype": "text/x-python",
   "name": "python",
   "nbconvert_exporter": "python",
   "pygments_lexer": "ipython2",
   "version": "2.7.11"
  }
 },
 "nbformat": 4,
 "nbformat_minor": 2
}
