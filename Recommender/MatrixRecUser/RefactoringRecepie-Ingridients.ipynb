{
 "cells": [
  {
   "cell_type": "code",
   "execution_count": 25,
   "metadata": {
    "collapsed": true
   },
   "outputs": [],
   "source": [
    "import numpy as np\n",
    "import pandas as pd\n",
    "import pymongo\n",
    "import bson\n",
    "from tqdm import tqdm"
   ]
  },
  {
   "cell_type": "code",
   "execution_count": 26,
   "metadata": {
    "collapsed": true
   },
   "outputs": [],
   "source": [
    "class MongoServer():\n",
    "    credentials = None\n",
    "    conn = None\n",
    "    db = None\n",
    "    collections = {}\n",
    "    def __init__(self, run = False, credentials = \"credentials.txt\", db_name = \"agile_data_science_group_3\"):\n",
    "        if run:\n",
    "            if not self.connect2Mongo(credentials):\n",
    "                print(\"Connection to server Failed.\")\n",
    "            \n",
    "            if not self.connect2DataBase(db_name):\n",
    "                print(\"Connection Data Base Failed.\")\n",
    "    \"\"\"Rotine to connect to Mongo DB\"\"\"    \n",
    "    def connect2Mongo(self, credentials = \"credentials.txt\"):\n",
    "        try:\n",
    "            #use your database name, user and password here:\n",
    "            with open(credentials, 'r', encoding='utf-8') as f:\n",
    "                [name,password,url,dbname]=f.read().splitlines()\n",
    "            conn=pymongo.MongoClient(\"mongodb://{}:{}@{}/{}\".format(name,password,url,dbname))\n",
    "            self.conn = conn\n",
    "            return True\n",
    "        except pymongo.errors.ConnectionFailure as e:\n",
    "            return False\n",
    "    \n",
    "    \"\"\"Routine to connect to a Data Base\"\"\"\n",
    "    def connect2DataBase(self, db_name = \"agile_data_science_group_3\"):\n",
    "        try:\n",
    "            self.db = self.conn[db_name]\n",
    "            return True\n",
    "        except:\n",
    "            return False\n",
    "    \n",
    "    \"\"\"Return the available collections in a data base\"\"\"\n",
    "    def listOfCollections (self):\n",
    "        return self.db.collection_names()\n",
    "    \n",
    "    \"\"\"Donwload all the ollections from the data base\"\"\"\n",
    "    def getAllCollections (self):\n",
    "        collections = self.listOfCollections()\n",
    "        for col in collections:\n",
    "            self.getCollectionFromServer(col)\n",
    "        return True\n",
    "    \n",
    "    \n",
    "    \"\"\"Routine to get one collection of the Data Base\"\"\"\n",
    "    # return the collection\n",
    "    def getCollectionFromServer (self, name_collection):\n",
    "        if name_collection in self.db.collection_names():\n",
    "            self.collections[name_collection] = self.db.get_collection(name_collection)\n",
    "            print (\"Collection \",name_collection,\" Update in Local.\")\n",
    "            return True\n",
    "        return False\n",
    "    \n",
    "    \"\"\" Take the collection from the local copy\"\"\"\n",
    "    def getCollection(self, name_collection):\n",
    "        if not name_collection in self.collections:\n",
    "            if not self.getCollectionFromServer(name_collection):\n",
    "                return False\n",
    "        return self.collections[name_collection]\n",
    "    \n",
    "    \"\"\" Gets all the items of the collection\"\"\"\n",
    "    def getItems(self, name_collection):\n",
    "        if not name_collection in self.collections:\n",
    "            if not self.getCollectionFromServer(name_collection):\n",
    "                return False\n",
    "        return [element for element in self.collections[name_collection].find()]\n",
    "    \n",
    "    \"\"\"Query in one Collection\"\"\"\n",
    "    def searchInCollection(self, name_collection, field, patro):\n",
    "        return [element for element in self.collections[name_collection].find({field:patro})]\n",
    "    \n",
    "    \"\"\"Query in all the Collections\"\"\"\n",
    "    def searchInDB (self, field, patro):\n",
    "        query = {}\n",
    "        for collection in self.db.collection_names():\n",
    "            query[collection] = [element for element in self.db.get_collection(collection).find({field:patro})]\n",
    "        return query\n",
    "    \n",
    "    \"\"\"Find one in the collection\"\"\"\n",
    "    def findOne(self, collection_name):\n",
    "        return self.db.get_collection(collection_name).find_one()\n",
    "    \n",
    "    \"\"\"Froce Brute search\"\"\"\n",
    "    def searchInDBForceBrute(self, patro):\n",
    "        query = {}\n",
    "        for collection in self.db.collection_names():\n",
    "            query[collection] = []\n",
    "            \n",
    "            self.searchInCollection(collection, )\n",
    "            print(self.getItems(collection))\n",
    "            for element in self.getItems(collection)[0]:\n",
    "                for key in element.keys():\n",
    "                    query[collection] = [element for element in self.db.get_collection(collection).find({field:patro})]\n",
    "                    \n",
    "    def findNElement(self, collection_name, N):\n",
    "        query = []\n",
    "        for item in self.db.get_collection(collection_name).find().limit( N ):\n",
    "            query.append(item)\n",
    "        return query\n",
    "    \n",
    "    def insertInCollection (self, collection_name,  item):\n",
    "        assert type(item) == dict, \"Item must be a dictionary\"\n",
    "        return self.db.get_collection(collection_name).insert_one(item)\n",
    "        \n",
    "                \n",
    "        \n",
    "MS = MongoServer(True)   \n"
   ]
  },
  {
   "cell_type": "code",
   "execution_count": 52,
   "metadata": {},
   "outputs": [
    {
     "data": {
      "text/plain": [
       "ObjectId('59fb0d77eee3642f3c0684bd')"
      ]
     },
     "execution_count": 52,
     "metadata": {},
     "output_type": "execute_result"
    }
   ],
   "source": [
    "MS.searchInCollection('recipes', 'id', name)[0]['_id']"
   ]
  },
  {
   "cell_type": "code",
   "execution_count": 53,
   "metadata": {},
   "outputs": [
    {
     "name": "stderr",
     "output_type": "stream",
     "text": [
      "100%|██████████████████████████████████████████████████████████████████████████████| 2467/2467 [05:22<00:00,  7.65it/s]\n"
     ]
    }
   ],
   "source": [
    "for item in tqdm(MS.getItems('recipes_ingredients')):\n",
    "    ingredients = list(item.values())[1]\n",
    "    name = list(item)[1]\n",
    "    recepie_id = MS.searchInCollection('recipes', 'id', name)[0]['_id']\n",
    "    \n",
    "    MS.insertInCollection('RecIng', {'recipe_id': recepie_id, 'ingredients':ingredients})"
   ]
  },
  {
   "cell_type": "code",
   "execution_count": 65,
   "metadata": {},
   "outputs": [
    {
     "name": "stdout",
     "output_type": "stream",
     "text": [
      "Collection  ratings  Update in Local.\n"
     ]
    },
    {
     "data": {
      "text/plain": [
       "Collection(Database(MongoClient(host=['ds233895.mlab.com:33895'], document_class=dict, tz_aware=False, connect=True), 'agile_data_science_group_3'), 'ratings')"
      ]
     },
     "execution_count": 65,
     "metadata": {},
     "output_type": "execute_result"
    }
   ],
   "source": [
    "MS.getCollection('ratings')"
   ]
  },
  {
   "cell_type": "code",
   "execution_count": null,
   "metadata": {
    "collapsed": true
   },
   "outputs": [],
   "source": []
  }
 ],
 "metadata": {
  "kernelspec": {
   "display_name": "Python 3",
   "language": "python",
   "name": "python3"
  },
  "language_info": {
   "codemirror_mode": {
    "name": "ipython",
    "version": 3
   },
   "file_extension": ".py",
   "mimetype": "text/x-python",
   "name": "python",
   "nbconvert_exporter": "python",
   "pygments_lexer": "ipython3",
   "version": "3.6.1"
  }
 },
 "nbformat": 4,
 "nbformat_minor": 2
}
