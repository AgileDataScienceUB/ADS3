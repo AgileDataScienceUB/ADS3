{
 "cells": [
  {
   "cell_type": "code",
   "execution_count": 25,
   "metadata": {
    "collapsed": true
   },
   "outputs": [],
   "source": [
    "import numpy as np\n",
    "import pandas as pd\n",
    "import pymongo\n",
    "import bson\n",
    "from tqdm import tqdm"
   ]
  },
  {
   "cell_type": "code",
   "execution_count": 26,
   "metadata": {
    "collapsed": true
   },
   "outputs": [],
   "source": [
    "class MongoServer():\n",
    "    credentials = None\n",
    "    conn = None\n",
    "    db = None\n",
    "    collections = {}\n",
    "    def __init__(self, run = False, credentials = \"credentials.txt\", db_name = \"agile_data_science_group_3\"):\n",
    "        if run:\n",
    "            if not self.connect2Mongo(credentials):\n",
    "                print(\"Connection to server Failed.\")\n",
    "            \n",
    "            if not self.connect2DataBase(db_name):\n",
    "                print(\"Connection Data Base Failed.\")\n",
    "    \"\"\"Rotine to connect to Mongo DB\"\"\"    \n",
    "    def connect2Mongo(self, credentials = \"credentials.txt\"):\n",
    "        try:\n",
    "            #use your database name, user and password here:\n",
    "            with open(credentials, 'r', encoding='utf-8') as f:\n",
    "                [name,password,url,dbname]=f.read().splitlines()\n",
    "            conn=pymongo.MongoClient(\"mongodb://{}:{}@{}/{}\".format(name,password,url,dbname))\n",
    "            self.conn = conn\n",
    "            return True\n",
    "        except pymongo.errors.ConnectionFailure as e:\n",
    "            return False\n",
    "    \n",
    "    \"\"\"Routine to connect to a Data Base\"\"\"\n",
    "    def connect2DataBase(self, db_name = \"agile_data_science_group_3\"):\n",
    "        try:\n",
    "            self.db = self.conn[db_name]\n",
    "            return True\n",
    "        except:\n",
    "            return False\n",
    "    \n",
    "    \"\"\"Return the available collections in a data base\"\"\"\n",
    "    def listOfCollections (self):\n",
    "        return self.db.collection_names()\n",
    "    \n",
    "    \"\"\"Donwload all the ollections from the data base\"\"\"\n",
    "    def getAllCollections (self):\n",
    "        collections = self.listOfCollections()\n",
    "        for col in collections:\n",
    "            self.getCollectionFromServer(col)\n",
    "        return True\n",
    "    \n",
    "    \n",
    "    \"\"\"Routine to get one collection of the Data Base\"\"\"\n",
    "    # return the collection\n",
    "    def getCollectionFromServer (self, name_collection):\n",
    "        if name_collection in self.db.collection_names():\n",
    "            self.collections[name_collection] = self.db.get_collection(name_collection)\n",
    "            print (\"Collection \",name_collection,\" Update in Local.\")\n",
    "            return True\n",
    "        return False\n",
    "    \n",
    "    \"\"\" Take the collection from the local copy\"\"\"\n",
    "    def getCollection(self, name_collection):\n",
    "        if not name_collection in self.collections:\n",
    "            if not self.getCollectionFromServer(name_collection):\n",
    "                return False\n",
    "        return self.collections[name_collection]\n",
    "    \n",
    "    \"\"\" Gets all the items of the collection\"\"\"\n",
    "    def getItems(self, name_collection):\n",
    "        if not name_collection in self.collections:\n",
    "            if not self.getCollectionFromServer(name_collection):\n",
    "                return False\n",
    "        return [element for element in self.collections[name_collection].find()]\n",
    "    \n",
    "    \"\"\"Query in one Collection\"\"\"\n",
    "    def searchInCollection(self, name_collection, field, patro):\n",
    "        return [element for element in self.collections[name_collection].find({field:patro})]\n",
    "    \n",
    "    \"\"\"Query in all the Collections\"\"\"\n",
    "    def searchInDB (self, field, patro):\n",
    "        query = {}\n",
    "        for collection in self.db.collection_names():\n",
    "            query[collection] = [element for element in self.db.get_collection(collection).find({field:patro})]\n",
    "        return query\n",
    "    \n",
    "    \"\"\"Find one in the collection\"\"\"\n",
    "    def findOne(self, collection_name):\n",
    "        return self.db.get_collection(collection_name).find_one()\n",
    "    \n",
    "    \"\"\"Froce Brute search\"\"\"\n",
    "    def searchInDBForceBrute(self, patro):\n",
    "        query = {}\n",
    "        for collection in self.db.collection_names():\n",
    "            query[collection] = []\n",
    "            \n",
    "            self.searchInCollection(collection, )\n",
    "            print(self.getItems(collection))\n",
    "            for element in self.getItems(collection)[0]:\n",
    "                for key in element.keys():\n",
    "                    query[collection] = [element for element in self.db.get_collection(collection).find({field:patro})]\n",
    "                    \n",
    "    def findNElement(self, collection_name, N):\n",
    "        query = []\n",
    "        for item in self.db.get_collection(collection_name).find().limit( N ):\n",
    "            query.append(item)\n",
    "        return query\n",
    "    \n",
    "    def insertInCollection (self, collection_name,  item):\n",
    "        assert type(item) == dict, \"Item must be a dictionary\"\n",
    "        return self.db.get_collection(collection_name).insert_one(item)\n",
    "        \n",
    "                \n",
    "        \n",
    "MS = MongoServer(True)   \n"
   ]
  },
  {
   "cell_type": "code",
   "execution_count": 52,
   "metadata": {},
   "outputs": [
    {
     "data": {
      "text/plain": [
       "ObjectId('59fb0d77eee3642f3c0684bd')"
      ]
     },
     "execution_count": 52,
     "metadata": {},
     "output_type": "execute_result"
    }
   ],
   "source": [
    "MS.searchInCollection('recipes', 'id', name)[0]['_id']"
   ]
  },
  {
   "cell_type": "code",
   "execution_count": null,
   "metadata": {},
   "outputs": [
    {
     "name": "stderr",
     "output_type": "stream",
     "text": [
      " 37%|█████████████████████████████                                                  | 909/2467 [01:53<03:15,  7.98it/s]"
     ]
    }
   ],
   "source": [
    "for item in tqdm(MS.getItems('recipes_ingredients')):\n",
    "    ingredients = list(item.values())[1]\n",
    "    name = list(item)[1]\n",
    "    recepie_id = MS.searchInCollection('recipes', 'id', name)[0]['_id']\n",
    "    \n",
    "    MS.insertInCollection('RecIng', {'recipe_id': recepie_id, 'ingredients':ingredients})"
   ]
  },
  {
   "cell_type": "code",
   "execution_count": 49,
   "metadata": {},
   "outputs": [
    {
     "data": {
      "text/plain": [
       "{'_id': ObjectId('59fb0d77eee3642f3c0683f7'),\n",
       " 'energy_KCal': 431,\n",
       " 'fat_g': '16.6',\n",
       " 'id': '20-minute-carbonara-with-peas',\n",
       " 'image': 'https://be35832fa5168a30acd6-5c7e0f2623ae37b4a933167fe83d71b5.ssl.cf3.rackcdn.com/1602/20-minute-carbonara-with-peas__square.jpg',\n",
       " 'list_ingredients': ['200g spaghetti',\n",
       "  '250g frozen peas',\n",
       "  '2 medium eggs',\n",
       "  '25g Parmesan(grated)',\n",
       "  '4 level tbsp reduced-fat crème fraîche',\n",
       "  '1 tbsp olive oil',\n",
       "  '4 rashers Asda Extra Special Unsmoked Back Bacon(chopped)',\n",
       "  '1 shallot(finely chopped)',\n",
       "  '1 garlic clove(crushed)',\n",
       "  'Chopped parsley(to serve)'],\n",
       " 'name': '20-minute carbonara with peas',\n",
       " 'ningredients': 10.0,\n",
       " 'price_p': '115',\n",
       " 'salt_mg': '1805',\n",
       " 'saturated_fat_g': '6.1',\n",
       " 'serves': '4',\n",
       " 'sugar_g': '5',\n",
       " 'time_min': '20',\n",
       " 'url': 'https://www.asdagoodliving.co.uk/food/recipes/20-minute-carbonara-with-peas'}"
      ]
     },
     "execution_count": 49,
     "metadata": {},
     "output_type": "execute_result"
    }
   ],
   "source": [
    "MS.findOne('recipes')"
   ]
  },
  {
   "cell_type": "code",
   "execution_count": null,
   "metadata": {
    "collapsed": true
   },
   "outputs": [],
   "source": []
  }
 ],
 "metadata": {
  "kernelspec": {
   "display_name": "Python 3",
   "language": "python",
   "name": "python3"
  },
  "language_info": {
   "codemirror_mode": {
    "name": "ipython",
    "version": 3
   },
   "file_extension": ".py",
   "mimetype": "text/x-python",
   "name": "python",
   "nbconvert_exporter": "python",
   "pygments_lexer": "ipython3",
   "version": "3.6.1"
  }
 },
 "nbformat": 4,
 "nbformat_minor": 2
}
