{
 "cells": [
  {
   "cell_type": "markdown",
   "metadata": {},
   "source": [
    "## Generate User, Recipes, Ratings"
   ]
  },
  {
   "cell_type": "code",
   "execution_count": 6,
   "metadata": {
    "collapsed": true
   },
   "outputs": [],
   "source": [
    "import numpy as np\n",
    "import pandas as pd\n",
    "import csv"
   ]
  },
  {
   "cell_type": "code",
   "execution_count": 15,
   "metadata": {},
   "outputs": [],
   "source": [
    "ingredients = pd.read_csv('Source1Ingredients.csv')\n",
    "ingredients2 = pd.read_csv('Source2Ingredients.csv')\n",
    "\n",
    "# create rating files\n",
    "\n",
    "ids1 = set(ingredients['id'])\n",
    "ids2 = set(ingredients2['id'])\n",
    "ids1.update(ids2)\n",
    "ids = list(ids1)\n",
    "\n",
    "users = ['user_'+str(i) for i in range(1, 10001, 1)]\n",
    "\n",
    "rating_distrib = [1] * 1000 + [2] * 1000  + [3] * 2000 + [4] * 3000 + [5] * 3000\n",
    "\n",
    "data = list()\n",
    "for user in users:\n",
    "    num_rec = np.random.randint(3,10)\n",
    "    rec = list(np.random.choice(ids, num_rec))\n",
    "    for recipe in rec:\n",
    "        rating = np.random.choice(rating_distrib)\n",
    "        data.append((user, recipe, rating))\n",
    "        \n",
    "with open('ratings.csv', 'w') as f:\n",
    "    w = csv.writer(f, delimiter=',', lineterminator='\\n')\n",
    "    caption = [(\"user\", \"recipe\",\"rating\")]\n",
    "    w.writerows(caption)\n",
    "    w.writerows(data)"
   ]
  }
 ],
 "metadata": {
  "kernelspec": {
   "display_name": "Python [conda root]",
   "language": "python",
   "name": "conda-root-py"
  },
  "language_info": {
   "codemirror_mode": {
    "name": "ipython",
    "version": 3
   },
   "file_extension": ".py",
   "mimetype": "text/x-python",
   "name": "python",
   "nbconvert_exporter": "python",
   "pygments_lexer": "ipython3",
   "version": "3.6.2"
  }
 },
 "nbformat": 4,
 "nbformat_minor": 2
}
