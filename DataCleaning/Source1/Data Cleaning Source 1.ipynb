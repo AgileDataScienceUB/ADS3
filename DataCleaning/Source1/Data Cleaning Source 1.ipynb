{
 "cells": [
  {
   "cell_type": "code",
   "execution_count": 1,
   "metadata": {},
   "outputs": [
    {
     "name": "stdout",
     "output_type": "stream",
     "text": [
      "Requirement already satisfied: tqdm in c:\\programdata\\anaconda3\\lib\\site-packages\n"
     ]
    }
   ],
   "source": [
    "!pip install tqdm"
   ]
  },
  {
   "cell_type": "code",
   "execution_count": 1,
   "metadata": {
    "collapsed": true
   },
   "outputs": [],
   "source": [
    "import numpy as np\n",
    "import pandas as pd"
   ]
  },
  {
   "cell_type": "code",
   "execution_count": 2,
   "metadata": {},
   "outputs": [
    {
     "name": "stdout",
     "output_type": "stream",
     "text": [
      "(2469, 12) (22760, 2)\n"
     ]
    }
   ],
   "source": [
    "recepies = pd.read_csv('Source1Recipes.csv')\n",
    "ingredients = pd.read_csv('Source1Ingredients.csv')\n",
    "print (recepies.shape, ingredients.shape)"
   ]
  },
  {
   "cell_type": "code",
   "execution_count": 3,
   "metadata": {
    "collapsed": true
   },
   "outputs": [],
   "source": [
    "recepies['saturated_fat_g'] = recepies['saturated_fat']\n",
    "recepies['fat_g'] = recepies['fat']\n",
    "recepies['sugar_g'] = recepies['sugar']\n",
    "\n",
    "recepies = recepies.drop(labels = ['saturated_fat','fat','sugar'],axis=1)\n"
   ]
  },
  {
   "cell_type": "code",
   "execution_count": 4,
   "metadata": {
    "collapsed": true
   },
   "outputs": [],
   "source": [
    "data_columns = recepies.columns"
   ]
  },
  {
   "cell_type": "code",
   "execution_count": 5,
   "metadata": {
    "collapsed": true
   },
   "outputs": [],
   "source": [
    "recepies[data_columns[-3:]] = recepies[data_columns[-3:]].replace(r'[^0-9\\.]','', regex=True)"
   ]
  },
  {
   "cell_type": "code",
   "execution_count": 6,
   "metadata": {
    "collapsed": true
   },
   "outputs": [],
   "source": [
    "recepies['time_min'] = recepies['time']\n",
    "\n",
    "recepies = recepies.drop(labels = ['time'],axis=1)\n",
    "recepies['time_min'] = recepies['time_min'].replace(r'[^0-9\\.]','', regex=True)\n"
   ]
  },
  {
   "cell_type": "code",
   "execution_count": 7,
   "metadata": {
    "collapsed": true
   },
   "outputs": [],
   "source": [
    "recepies['price_p'] = recepies['price']\n",
    "\n",
    "recepies = recepies.drop(labels = ['price'],axis=1)\n",
    "recepies['price_p'] = recepies['price_p'].replace(r'[^0-9]','', regex=True)"
   ]
  },
  {
   "cell_type": "code",
   "execution_count": 8,
   "metadata": {},
   "outputs": [
    {
     "data": {
      "text/html": [
       "<div>\n",
       "<style>\n",
       "    .dataframe thead tr:only-child th {\n",
       "        text-align: right;\n",
       "    }\n",
       "\n",
       "    .dataframe thead th {\n",
       "        text-align: left;\n",
       "    }\n",
       "\n",
       "    .dataframe tbody tr th {\n",
       "        vertical-align: top;\n",
       "    }\n",
       "</style>\n",
       "<table border=\"1\" class=\"dataframe\">\n",
       "  <thead>\n",
       "    <tr style=\"text-align: right;\">\n",
       "      <th></th>\n",
       "      <th>id</th>\n",
       "      <th>url</th>\n",
       "      <th>image</th>\n",
       "      <th>name</th>\n",
       "      <th>serves</th>\n",
       "      <th>energy</th>\n",
       "      <th>salt</th>\n",
       "      <th>saturated_fat_g</th>\n",
       "      <th>fat_g</th>\n",
       "      <th>sugar_g</th>\n",
       "      <th>time_min</th>\n",
       "      <th>price_p</th>\n",
       "    </tr>\n",
       "  </thead>\n",
       "  <tbody>\n",
       "    <tr>\n",
       "      <th>0</th>\n",
       "      <td>20-minute-carbonara-with-peas</td>\n",
       "      <td>https://www.asdagoodliving.co.uk/food/recipes/...</td>\n",
       "      <td>https://be35832fa5168a30acd6-5c7e0f2623ae37b4a...</td>\n",
       "      <td>20-minute carbonara with peas</td>\n",
       "      <td>4</td>\n",
       "      <td>431</td>\n",
       "      <td>1805</td>\n",
       "      <td>6.1</td>\n",
       "      <td>16.6</td>\n",
       "      <td>5</td>\n",
       "      <td>20</td>\n",
       "      <td>115</td>\n",
       "    </tr>\n",
       "    <tr>\n",
       "      <th>1</th>\n",
       "      <td>alcoholic-orange-sorbet</td>\n",
       "      <td>https://www.asdagoodliving.co.uk/food/recipes/...</td>\n",
       "      <td>https://be35832fa5168a30acd6-5c7e0f2623ae37b4a...</td>\n",
       "      <td>Alcoholic orange sorbet</td>\n",
       "      <td>2 (with 6 portions left over)</td>\n",
       "      <td>109</td>\n",
       "      <td>0.01</td>\n",
       "      <td>0.0</td>\n",
       "      <td>0.1</td>\n",
       "      <td>21.4</td>\n",
       "      <td>15</td>\n",
       "      <td>191</td>\n",
       "    </tr>\n",
       "    <tr>\n",
       "      <th>2</th>\n",
       "      <td>alfajores</td>\n",
       "      <td>https://www.asdagoodliving.co.uk/food/recipes/...</td>\n",
       "      <td>https://be35832fa5168a30acd6-5c7e0f2623ae37b4a...</td>\n",
       "      <td>Argentinian Alfajores Biscuits</td>\n",
       "      <td>18</td>\n",
       "      <td>149</td>\n",
       "      <td>0.12</td>\n",
       "      <td>3.8</td>\n",
       "      <td>6.2</td>\n",
       "      <td>14.8</td>\n",
       "      <td>30</td>\n",
       "      <td>13</td>\n",
       "    </tr>\n",
       "    <tr>\n",
       "      <th>3</th>\n",
       "      <td>alice-in-wonderland-teapot-cake</td>\n",
       "      <td>https://www.asdagoodliving.co.uk/food/recipes/...</td>\n",
       "      <td>https://be35832fa5168a30acd6-5c7e0f2623ae37b4a...</td>\n",
       "      <td>Alice in Wonderland teapot cake</td>\n",
       "      <td>32</td>\n",
       "      <td>343</td>\n",
       "      <td>0.44</td>\n",
       "      <td>6.4</td>\n",
       "      <td>12.2</td>\n",
       "      <td>40.9</td>\n",
       "      <td>105</td>\n",
       "      <td>83</td>\n",
       "    </tr>\n",
       "    <tr>\n",
       "      <th>4</th>\n",
       "      <td>almond-herb-crusted-salmon</td>\n",
       "      <td>https://www.asdagoodliving.co.uk/food/recipes/...</td>\n",
       "      <td>https://be35832fa5168a30acd6-5c7e0f2623ae37b4a...</td>\n",
       "      <td>Almond and herb crusted salmon</td>\n",
       "      <td>4</td>\n",
       "      <td>685</td>\n",
       "      <td>0.56</td>\n",
       "      <td>7.9</td>\n",
       "      <td>47.9</td>\n",
       "      <td>1.1</td>\n",
       "      <td>40</td>\n",
       "      <td>330</td>\n",
       "    </tr>\n",
       "  </tbody>\n",
       "</table>\n",
       "</div>"
      ],
      "text/plain": [
       "                                id  \\\n",
       "0    20-minute-carbonara-with-peas   \n",
       "1          alcoholic-orange-sorbet   \n",
       "2                        alfajores   \n",
       "3  alice-in-wonderland-teapot-cake   \n",
       "4       almond-herb-crusted-salmon   \n",
       "\n",
       "                                                 url  \\\n",
       "0  https://www.asdagoodliving.co.uk/food/recipes/...   \n",
       "1  https://www.asdagoodliving.co.uk/food/recipes/...   \n",
       "2  https://www.asdagoodliving.co.uk/food/recipes/...   \n",
       "3  https://www.asdagoodliving.co.uk/food/recipes/...   \n",
       "4  https://www.asdagoodliving.co.uk/food/recipes/...   \n",
       "\n",
       "                                               image  \\\n",
       "0  https://be35832fa5168a30acd6-5c7e0f2623ae37b4a...   \n",
       "1  https://be35832fa5168a30acd6-5c7e0f2623ae37b4a...   \n",
       "2  https://be35832fa5168a30acd6-5c7e0f2623ae37b4a...   \n",
       "3  https://be35832fa5168a30acd6-5c7e0f2623ae37b4a...   \n",
       "4  https://be35832fa5168a30acd6-5c7e0f2623ae37b4a...   \n",
       "\n",
       "                              name                         serves  energy  \\\n",
       "0    20-minute carbonara with peas                              4     431   \n",
       "1          Alcoholic orange sorbet  2 (with 6 portions left over)     109   \n",
       "2   Argentinian Alfajores Biscuits                             18     149   \n",
       "3  Alice in Wonderland teapot cake                             32     343   \n",
       "4   Almond and herb crusted salmon                              4     685   \n",
       "\n",
       "   salt saturated_fat_g fat_g sugar_g time_min price_p  \n",
       "0  1805             6.1  16.6       5       20     115  \n",
       "1  0.01             0.0   0.1    21.4       15     191  \n",
       "2  0.12             3.8   6.2    14.8       30      13  \n",
       "3  0.44             6.4  12.2    40.9      105      83  \n",
       "4  0.56             7.9  47.9     1.1       40     330  "
      ]
     },
     "execution_count": 8,
     "metadata": {},
     "output_type": "execute_result"
    }
   ],
   "source": [
    "recepies.head()"
   ]
  },
  {
   "cell_type": "code",
   "execution_count": null,
   "metadata": {
    "collapsed": true
   },
   "outputs": [],
   "source": []
  },
  {
   "cell_type": "code",
   "execution_count": 9,
   "metadata": {
    "collapsed": true
   },
   "outputs": [],
   "source": [
    "# crear una matriu de NAN i introduir els ingredients"
   ]
  },
  {
   "cell_type": "code",
   "execution_count": 10,
   "metadata": {
    "collapsed": true
   },
   "outputs": [],
   "source": [
    "import pandas as pd\n",
    "import numpy as np"
   ]
  },
  {
   "cell_type": "code",
   "execution_count": 11,
   "metadata": {
    "collapsed": true
   },
   "outputs": [],
   "source": [
    "nRecepies = 2469\n",
    "nMaxIngridients = 35\n",
    "\n",
    "columnsData = []\n",
    "for i in range(1, 36):\n",
    "    columnsData.append('ingredient_'+str(i))\n",
    "    \n",
    "data = np.empty((nRecepies, nMaxIngridients,))\n",
    "data[:] = np.NAN\n",
    "data.shape\n",
    "\n",
    "data = pd.DataFrame(data, columns=columnsData )"
   ]
  },
  {
   "cell_type": "code",
   "execution_count": 12,
   "metadata": {
    "collapsed": true
   },
   "outputs": [],
   "source": [
    "ids = np.unique(ingredients['id'])\n",
    "ids = pd.DataFrame(ids, columns=['id'])"
   ]
  },
  {
   "cell_type": "code",
   "execution_count": 13,
   "metadata": {
    "collapsed": true
   },
   "outputs": [],
   "source": [
    "_, c = np.unique(ingredients['id'], return_counts = True)\n",
    "counts = pd.DataFrame(c, columns=['ningredients'])"
   ]
  },
  {
   "cell_type": "code",
   "execution_count": 14,
   "metadata": {
    "collapsed": true
   },
   "outputs": [],
   "source": [
    "dataIngr = pd.concat([ids, data, counts],axis =1 )"
   ]
  },
  {
   "cell_type": "code",
   "execution_count": 15,
   "metadata": {
    "scrolled": true
   },
   "outputs": [
    {
     "data": {
      "text/plain": [
       "((2469, 37), (2469, 35), (2467, 1), (2467, 1))"
      ]
     },
     "execution_count": 15,
     "metadata": {},
     "output_type": "execute_result"
    }
   ],
   "source": [
    "dataIngr.shape, data.shape, ids.shape, counts.shape"
   ]
  },
  {
   "cell_type": "code",
   "execution_count": 16,
   "metadata": {},
   "outputs": [
    {
     "data": {
      "text/html": [
       "<div>\n",
       "<style>\n",
       "    .dataframe thead tr:only-child th {\n",
       "        text-align: right;\n",
       "    }\n",
       "\n",
       "    .dataframe thead th {\n",
       "        text-align: left;\n",
       "    }\n",
       "\n",
       "    .dataframe tbody tr th {\n",
       "        vertical-align: top;\n",
       "    }\n",
       "</style>\n",
       "<table border=\"1\" class=\"dataframe\">\n",
       "  <thead>\n",
       "    <tr style=\"text-align: right;\">\n",
       "      <th></th>\n",
       "      <th>id</th>\n",
       "      <th>ingredient</th>\n",
       "    </tr>\n",
       "  </thead>\n",
       "  <tbody>\n",
       "    <tr>\n",
       "      <th>0</th>\n",
       "      <td>20-minute-carbonara-with-peas</td>\n",
       "      <td>200g spaghetti</td>\n",
       "    </tr>\n",
       "    <tr>\n",
       "      <th>1</th>\n",
       "      <td>20-minute-carbonara-with-peas</td>\n",
       "      <td>250g frozen peas</td>\n",
       "    </tr>\n",
       "    <tr>\n",
       "      <th>2</th>\n",
       "      <td>20-minute-carbonara-with-peas</td>\n",
       "      <td>2 medium eggs</td>\n",
       "    </tr>\n",
       "    <tr>\n",
       "      <th>3</th>\n",
       "      <td>20-minute-carbonara-with-peas</td>\n",
       "      <td>25g Parmesan, grated</td>\n",
       "    </tr>\n",
       "    <tr>\n",
       "      <th>4</th>\n",
       "      <td>20-minute-carbonara-with-peas</td>\n",
       "      <td>4 level tbsp reduced-fat crème fraîche</td>\n",
       "    </tr>\n",
       "  </tbody>\n",
       "</table>\n",
       "</div>"
      ],
      "text/plain": [
       "                              id                              ingredient\n",
       "0  20-minute-carbonara-with-peas                          200g spaghetti\n",
       "1  20-minute-carbonara-with-peas                        250g frozen peas\n",
       "2  20-minute-carbonara-with-peas                           2 medium eggs\n",
       "3  20-minute-carbonara-with-peas                    25g Parmesan, grated\n",
       "4  20-minute-carbonara-with-peas  4 level tbsp reduced-fat crème fraîche"
      ]
     },
     "execution_count": 16,
     "metadata": {},
     "output_type": "execute_result"
    }
   ],
   "source": [
    "ingredients.head()"
   ]
  },
  {
   "cell_type": "code",
   "execution_count": 17,
   "metadata": {},
   "outputs": [
    {
     "name": "stderr",
     "output_type": "stream",
     "text": [
      "100%|███████████████████████████████████████████████████████████████████████████| 22760/22760 [00:36<00:00, 620.79it/s]\n"
     ]
    }
   ],
   "source": [
    "from tqdm import tqdm\n",
    "old_recepie = None\n",
    "countIngridient = 1\n",
    "for recepie, ingridient in tqdm(ingredients.values):\n",
    "    if old_recepie != recepie:\n",
    "        old_recepie = recepie\n",
    "        countIngridient = 1\n",
    "    else:\n",
    "        countIngridient += 1\n",
    "    \n",
    "    column = \"ingredient_\"+str(countIngridient)\n",
    "    dataIngr.loc[dataIngr['id'] == recepie, column] = ingridient\n"
   ]
  },
  {
   "cell_type": "code",
   "execution_count": 18,
   "metadata": {},
   "outputs": [
    {
     "data": {
      "text/html": [
       "<div>\n",
       "<style>\n",
       "    .dataframe thead tr:only-child th {\n",
       "        text-align: right;\n",
       "    }\n",
       "\n",
       "    .dataframe thead th {\n",
       "        text-align: left;\n",
       "    }\n",
       "\n",
       "    .dataframe tbody tr th {\n",
       "        vertical-align: top;\n",
       "    }\n",
       "</style>\n",
       "<table border=\"1\" class=\"dataframe\">\n",
       "  <thead>\n",
       "    <tr style=\"text-align: right;\">\n",
       "      <th></th>\n",
       "      <th>id</th>\n",
       "      <th>ingredient_1</th>\n",
       "      <th>ingredient_2</th>\n",
       "      <th>ingredient_3</th>\n",
       "      <th>ingredient_4</th>\n",
       "      <th>ingredient_5</th>\n",
       "      <th>ingredient_6</th>\n",
       "      <th>ingredient_7</th>\n",
       "      <th>ingredient_8</th>\n",
       "      <th>ingredient_9</th>\n",
       "      <th>...</th>\n",
       "      <th>ingredient_27</th>\n",
       "      <th>ingredient_28</th>\n",
       "      <th>ingredient_29</th>\n",
       "      <th>ingredient_30</th>\n",
       "      <th>ingredient_31</th>\n",
       "      <th>ingredient_32</th>\n",
       "      <th>ingredient_33</th>\n",
       "      <th>ingredient_34</th>\n",
       "      <th>ingredient_35</th>\n",
       "      <th>ningredients</th>\n",
       "    </tr>\n",
       "  </thead>\n",
       "  <tbody>\n",
       "    <tr>\n",
       "      <th>0</th>\n",
       "      <td>20-minute-carbonara-with-peas</td>\n",
       "      <td>200g spaghetti</td>\n",
       "      <td>250g frozen peas</td>\n",
       "      <td>2 medium eggs</td>\n",
       "      <td>25g Parmesan, grated</td>\n",
       "      <td>4 level tbsp reduced-fat crème fraîche</td>\n",
       "      <td>1 tbsp olive oil</td>\n",
       "      <td>4 rashers Asda Extra Special Unsmoked Back Bac...</td>\n",
       "      <td>1 shallot, finely chopped</td>\n",
       "      <td>1 garlic clove, crushed</td>\n",
       "      <td>...</td>\n",
       "      <td>NaN</td>\n",
       "      <td>NaN</td>\n",
       "      <td>NaN</td>\n",
       "      <td>NaN</td>\n",
       "      <td>NaN</td>\n",
       "      <td>NaN</td>\n",
       "      <td>NaN</td>\n",
       "      <td>NaN</td>\n",
       "      <td>NaN</td>\n",
       "      <td>10.0</td>\n",
       "    </tr>\n",
       "    <tr>\n",
       "      <th>1</th>\n",
       "      <td>Beetroot-dip</td>\n",
       "      <td>2 medium raw beetroots, unpeeled</td>\n",
       "      <td>1tbsp Extra Special Cold-Pressed Rapeseed Oil</td>\n",
       "      <td>1 clove garlic, unpeeled</td>\n",
       "      <td>2tbsp pumpkin seeds</td>\n",
       "      <td>2tbsp flat-leaf parsley, chopped</td>\n",
       "      <td>1tbsp Cheddar, grated</td>\n",
       "      <td>Juice and zest  ½ lemon</td>\n",
       "      <td>2 pitta breads</td>\n",
       "      <td>NaN</td>\n",
       "      <td>...</td>\n",
       "      <td>NaN</td>\n",
       "      <td>NaN</td>\n",
       "      <td>NaN</td>\n",
       "      <td>NaN</td>\n",
       "      <td>NaN</td>\n",
       "      <td>NaN</td>\n",
       "      <td>NaN</td>\n",
       "      <td>NaN</td>\n",
       "      <td>NaN</td>\n",
       "      <td>8.0</td>\n",
       "    </tr>\n",
       "    <tr>\n",
       "      <th>2</th>\n",
       "      <td>Christmas-ginger-and-fruitcake-recipe</td>\n",
       "      <td>For the cake:</td>\n",
       "      <td>Finely grated zest and juice 2 oranges</td>\n",
       "      <td>3tbsp Cointreau</td>\n",
       "      <td>800g mixed raisins</td>\n",
       "      <td>200g dried chopped apricots or mango</td>\n",
       "      <td>75g crystallised pineapple or ginger</td>\n",
       "      <td>75g mixed peel</td>\n",
       "      <td>250g butter, softened</td>\n",
       "      <td>250g soft light brown sugar</td>\n",
       "      <td>...</td>\n",
       "      <td>1 egg white</td>\n",
       "      <td>225g royal icing sugar</td>\n",
       "      <td>To Decorate:</td>\n",
       "      <td>4 battery tealights</td>\n",
       "      <td>Green food colouring</td>\n",
       "      <td>1 packet Asda Giant White Chocolate Buttons</td>\n",
       "      <td>2 packets Asda 12 Shimmer Snowflakes</td>\n",
       "      <td>1tbsp Asda Holly and Berry Sprinkles</td>\n",
       "      <td>3 x Asda cake toppers (reindeer, santa, snowman)</td>\n",
       "      <td>35.0</td>\n",
       "    </tr>\n",
       "    <tr>\n",
       "      <th>3</th>\n",
       "      <td>Edible-Christmas-trees</td>\n",
       "      <td>35g butter</td>\n",
       "      <td>200g white marshmallows</td>\n",
       "      <td>100g Rice Krispies</td>\n",
       "      <td>Green food colouring</td>\n",
       "      <td>18 Reese's Peanut Butter Cups</td>\n",
       "      <td>Sprinkles and Sweets, to decorate</td>\n",
       "      <td>NaN</td>\n",
       "      <td>NaN</td>\n",
       "      <td>NaN</td>\n",
       "      <td>...</td>\n",
       "      <td>NaN</td>\n",
       "      <td>NaN</td>\n",
       "      <td>NaN</td>\n",
       "      <td>NaN</td>\n",
       "      <td>NaN</td>\n",
       "      <td>NaN</td>\n",
       "      <td>NaN</td>\n",
       "      <td>NaN</td>\n",
       "      <td>NaN</td>\n",
       "      <td>6.0</td>\n",
       "    </tr>\n",
       "    <tr>\n",
       "      <th>4</th>\n",
       "      <td>Gin-christmas-cocktail1</td>\n",
       "      <td>6 dried figs, quartered</td>\n",
       "      <td>150ml gin</td>\n",
       "      <td>200ml lemonade</td>\n",
       "      <td>NaN</td>\n",
       "      <td>NaN</td>\n",
       "      <td>NaN</td>\n",
       "      <td>NaN</td>\n",
       "      <td>NaN</td>\n",
       "      <td>NaN</td>\n",
       "      <td>...</td>\n",
       "      <td>NaN</td>\n",
       "      <td>NaN</td>\n",
       "      <td>NaN</td>\n",
       "      <td>NaN</td>\n",
       "      <td>NaN</td>\n",
       "      <td>NaN</td>\n",
       "      <td>NaN</td>\n",
       "      <td>NaN</td>\n",
       "      <td>NaN</td>\n",
       "      <td>3.0</td>\n",
       "    </tr>\n",
       "  </tbody>\n",
       "</table>\n",
       "<p>5 rows × 37 columns</p>\n",
       "</div>"
      ],
      "text/plain": [
       "                                      id                      ingredient_1  \\\n",
       "0          20-minute-carbonara-with-peas                    200g spaghetti   \n",
       "1                           Beetroot-dip  2 medium raw beetroots, unpeeled   \n",
       "2  Christmas-ginger-and-fruitcake-recipe                     For the cake:   \n",
       "3                 Edible-Christmas-trees                        35g butter   \n",
       "4                Gin-christmas-cocktail1          6 dried figs, quartered    \n",
       "\n",
       "                                     ingredient_2              ingredient_3  \\\n",
       "0                                250g frozen peas             2 medium eggs   \n",
       "1  1tbsp Extra Special Cold-Pressed Rapeseed Oil   1 clove garlic, unpeeled   \n",
       "2          Finely grated zest and juice 2 oranges           3tbsp Cointreau   \n",
       "3                         200g white marshmallows        100g Rice Krispies   \n",
       "4                                      150ml gin            200ml lemonade    \n",
       "\n",
       "           ingredient_4                            ingredient_5  \\\n",
       "0  25g Parmesan, grated  4 level tbsp reduced-fat crème fraîche   \n",
       "1  2tbsp pumpkin seeds        2tbsp flat-leaf parsley, chopped    \n",
       "2    800g mixed raisins    200g dried chopped apricots or mango   \n",
       "3  Green food colouring          18 Reese's Peanut Butter Cups    \n",
       "4                   NaN                                     NaN   \n",
       "\n",
       "                           ingredient_6  \\\n",
       "0                      1 tbsp olive oil   \n",
       "1                 1tbsp Cheddar, grated   \n",
       "2  75g crystallised pineapple or ginger   \n",
       "3     Sprinkles and Sweets, to decorate   \n",
       "4                                   NaN   \n",
       "\n",
       "                                        ingredient_7  \\\n",
       "0  4 rashers Asda Extra Special Unsmoked Back Bac...   \n",
       "1                            Juice and zest  ½ lemon   \n",
       "2                                     75g mixed peel   \n",
       "3                                                NaN   \n",
       "4                                                NaN   \n",
       "\n",
       "                ingredient_8                 ingredient_9     ...       \\\n",
       "0  1 shallot, finely chopped      1 garlic clove, crushed     ...        \n",
       "1             2 pitta breads                          NaN     ...        \n",
       "2      250g butter, softened  250g soft light brown sugar     ...        \n",
       "3                        NaN                          NaN     ...        \n",
       "4                        NaN                          NaN     ...        \n",
       "\n",
       "  ingredient_27           ingredient_28 ingredient_29        ingredient_30  \\\n",
       "0           NaN                     NaN           NaN                  NaN   \n",
       "1           NaN                     NaN           NaN                  NaN   \n",
       "2   1 egg white  225g royal icing sugar  To Decorate:  4 battery tealights   \n",
       "3           NaN                     NaN           NaN                  NaN   \n",
       "4           NaN                     NaN           NaN                  NaN   \n",
       "\n",
       "          ingredient_31                                ingredient_32  \\\n",
       "0                   NaN                                          NaN   \n",
       "1                   NaN                                          NaN   \n",
       "2  Green food colouring  1 packet Asda Giant White Chocolate Buttons   \n",
       "3                   NaN                                          NaN   \n",
       "4                   NaN                                          NaN   \n",
       "\n",
       "                          ingredient_33                         ingredient_34  \\\n",
       "0                                   NaN                                   NaN   \n",
       "1                                   NaN                                   NaN   \n",
       "2  2 packets Asda 12 Shimmer Snowflakes  1tbsp Asda Holly and Berry Sprinkles   \n",
       "3                                   NaN                                   NaN   \n",
       "4                                   NaN                                   NaN   \n",
       "\n",
       "                                      ingredient_35 ningredients  \n",
       "0                                               NaN         10.0  \n",
       "1                                               NaN          8.0  \n",
       "2  3 x Asda cake toppers (reindeer, santa, snowman)         35.0  \n",
       "3                                               NaN          6.0  \n",
       "4                                               NaN          3.0  \n",
       "\n",
       "[5 rows x 37 columns]"
      ]
     },
     "execution_count": 18,
     "metadata": {},
     "output_type": "execute_result"
    }
   ],
   "source": [
    "dataIngr.head()"
   ]
  },
  {
   "cell_type": "code",
   "execution_count": 19,
   "metadata": {},
   "outputs": [
    {
     "data": {
      "text/plain": [
       "array([False, False,  True, ..., False, False, False], dtype=bool)"
      ]
     },
     "execution_count": 19,
     "metadata": {},
     "output_type": "execute_result"
    }
   ],
   "source": [
    "dataIngr.index == 2"
   ]
  },
  {
   "cell_type": "code",
   "execution_count": null,
   "metadata": {
    "collapsed": true
   },
   "outputs": [],
   "source": []
  },
  {
   "cell_type": "code",
   "execution_count": 25,
   "metadata": {},
   "outputs": [],
   "source": [
    "merge = recepies.merge(dataIngr,how=\"outer\",on=\"id\")"
   ]
  },
  {
   "cell_type": "code",
   "execution_count": 26,
   "metadata": {
    "collapsed": true
   },
   "outputs": [],
   "source": [
    "merge.to_csv('mergeSource1.csv')"
   ]
  },
  {
   "cell_type": "code",
   "execution_count": null,
   "metadata": {
    "collapsed": true
   },
   "outputs": [],
   "source": []
  }
 ],
 "metadata": {
  "kernelspec": {
   "display_name": "Python 3",
   "language": "python",
   "name": "python3"
  },
  "language_info": {
   "codemirror_mode": {
    "name": "ipython",
    "version": 3
   },
   "file_extension": ".py",
   "mimetype": "text/x-python",
   "name": "python",
   "nbconvert_exporter": "python",
   "pygments_lexer": "ipython3",
   "version": "3.6.1"
  }
 },
 "nbformat": 4,
 "nbformat_minor": 2
}
