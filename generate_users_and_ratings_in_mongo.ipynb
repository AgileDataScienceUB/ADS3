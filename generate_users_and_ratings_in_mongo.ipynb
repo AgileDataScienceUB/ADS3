{
 "cells": [
  {
   "cell_type": "code",
   "execution_count": 1,
   "metadata": {
    "collapsed": true
   },
   "outputs": [],
   "source": [
    "import pymongo\n",
    "import numpy as np\n",
    "import pandas as pd "
   ]
  },
  {
   "cell_type": "code",
   "execution_count": 2,
   "metadata": {},
   "outputs": [
    {
     "name": "stdout",
     "output_type": "stream",
     "text": [
      "Connected successfully!!!\n"
     ]
    },
    {
     "data": {
      "text/plain": [
       "MongoClient(host=['ds233895.mlab.com:33895'], document_class=dict, tz_aware=False, connect=True)"
      ]
     },
     "execution_count": 2,
     "metadata": {},
     "output_type": "execute_result"
    }
   ],
   "source": [
    "try:\n",
    "    #use your database name, user and password here:\n",
    "    #mongodb://<dbuser>:<dbpassword>@<mlab_url>.mlab.com:57066/<database_name>\n",
    "    with open(\"credentials.txt\", 'r', encoding='utf-8') as f:\n",
    "        [name,password,url,dbname]=f.read().splitlines()\n",
    "    conn=pymongo.MongoClient(\"mongodb://{}:{}@{}/{}\".format(name,password,url,dbname))\n",
    "    print (\"Connected successfully!!!\")\n",
    "    \n",
    "except pymongo.errors.ConnectionFailure as e:\n",
    "    print (\"Could not connect to MongoDB: %s\" % e) \n",
    "conn"
   ]
  },
  {
   "cell_type": "code",
   "execution_count": 4,
   "metadata": {
    "collapsed": true
   },
   "outputs": [],
   "source": [
    "db=conn[\"agile_data_science_group_3\"]"
   ]
  },
  {
   "cell_type": "code",
   "execution_count": 5,
   "metadata": {},
   "outputs": [
    {
     "data": {
      "text/plain": [
       "['system.indexes', 'resource_1']"
      ]
     },
     "execution_count": 5,
     "metadata": {},
     "output_type": "execute_result"
    }
   ],
   "source": [
    "conn[\"agile_data_science_group_3\"].collection_names()"
   ]
  },
  {
   "cell_type": "code",
   "execution_count": 12,
   "metadata": {
    "collapsed": true
   },
   "outputs": [],
   "source": [
    "#db.resource_1.find_one()"
   ]
  },
  {
   "cell_type": "markdown",
   "metadata": {
    "collapsed": true
   },
   "source": [
    "#### Create users from generated name list"
   ]
  },
  {
   "cell_type": "code",
   "execution_count": 17,
   "metadata": {},
   "outputs": [],
   "source": [
    "user_data = pd.read_csv('generated_names', header = None)\n"
   ]
  },
  {
   "cell_type": "code",
   "execution_count": 20,
   "metadata": {},
   "outputs": [],
   "source": [
    "user_data.columns = ['user_name']"
   ]
  },
  {
   "cell_type": "code",
   "execution_count": 27,
   "metadata": {},
   "outputs": [],
   "source": [
    "user_data['email'] = (user_data['user_name'].replace(' ','.')+'@email.com')\n"
   ]
  },
  {
   "cell_type": "code",
   "execution_count": 40,
   "metadata": {},
   "outputs": [],
   "source": [
    "for i in range(0,50):\n",
    "    user_data['email'][i]=user_data['email'][i].replace(' ','.')"
   ]
  },
  {
   "cell_type": "code",
   "execution_count": 42,
   "metadata": {},
   "outputs": [
    {
     "data": {
      "text/html": [
       "<div>\n",
       "<style>\n",
       "    .dataframe thead tr:only-child th {\n",
       "        text-align: right;\n",
       "    }\n",
       "\n",
       "    .dataframe thead th {\n",
       "        text-align: left;\n",
       "    }\n",
       "\n",
       "    .dataframe tbody tr th {\n",
       "        vertical-align: top;\n",
       "    }\n",
       "</style>\n",
       "<table border=\"1\" class=\"dataframe\">\n",
       "  <thead>\n",
       "    <tr style=\"text-align: right;\">\n",
       "      <th></th>\n",
       "      <th>user_name</th>\n",
       "      <th>email</th>\n",
       "    </tr>\n",
       "  </thead>\n",
       "  <tbody>\n",
       "    <tr>\n",
       "      <th>0</th>\n",
       "      <td>Chauncey Steffen</td>\n",
       "      <td>Chauncey.Steffen@email.com</td>\n",
       "    </tr>\n",
       "    <tr>\n",
       "      <th>1</th>\n",
       "      <td>Kala Welter</td>\n",
       "      <td>Kala.Welter@email.com</td>\n",
       "    </tr>\n",
       "    <tr>\n",
       "      <th>2</th>\n",
       "      <td>Daron Kirtley</td>\n",
       "      <td>Daron.Kirtley@email.com</td>\n",
       "    </tr>\n",
       "    <tr>\n",
       "      <th>3</th>\n",
       "      <td>Wilfredo Jacobi</td>\n",
       "      <td>Wilfredo.Jacobi@email.com</td>\n",
       "    </tr>\n",
       "    <tr>\n",
       "      <th>4</th>\n",
       "      <td>Bess Fiala</td>\n",
       "      <td>Bess.Fiala@email.com</td>\n",
       "    </tr>\n",
       "  </tbody>\n",
       "</table>\n",
       "</div>"
      ],
      "text/plain": [
       "          user_name                       email\n",
       "0  Chauncey Steffen  Chauncey.Steffen@email.com\n",
       "1       Kala Welter       Kala.Welter@email.com\n",
       "2     Daron Kirtley     Daron.Kirtley@email.com\n",
       "3   Wilfredo Jacobi   Wilfredo.Jacobi@email.com\n",
       "4        Bess Fiala        Bess.Fiala@email.com"
      ]
     },
     "execution_count": 42,
     "metadata": {},
     "output_type": "execute_result"
    }
   ],
   "source": [
    "user_data.head()"
   ]
  },
  {
   "cell_type": "code",
   "execution_count": 49,
   "metadata": {},
   "outputs": [],
   "source": [
    "user_data['password'] = ''\n",
    "for i in range(0,50):\n",
    "    user_data['password'][i] = user_data['user_name'][i].split()[0]\n"
   ]
  },
  {
   "cell_type": "code",
   "execution_count": 50,
   "metadata": {},
   "outputs": [
    {
     "data": {
      "text/html": [
       "<div>\n",
       "<style>\n",
       "    .dataframe thead tr:only-child th {\n",
       "        text-align: right;\n",
       "    }\n",
       "\n",
       "    .dataframe thead th {\n",
       "        text-align: left;\n",
       "    }\n",
       "\n",
       "    .dataframe tbody tr th {\n",
       "        vertical-align: top;\n",
       "    }\n",
       "</style>\n",
       "<table border=\"1\" class=\"dataframe\">\n",
       "  <thead>\n",
       "    <tr style=\"text-align: right;\">\n",
       "      <th></th>\n",
       "      <th>user_name</th>\n",
       "      <th>email</th>\n",
       "      <th>password</th>\n",
       "    </tr>\n",
       "  </thead>\n",
       "  <tbody>\n",
       "    <tr>\n",
       "      <th>0</th>\n",
       "      <td>Chauncey Steffen</td>\n",
       "      <td>Chauncey.Steffen@email.com</td>\n",
       "      <td>Chauncey</td>\n",
       "    </tr>\n",
       "    <tr>\n",
       "      <th>1</th>\n",
       "      <td>Kala Welter</td>\n",
       "      <td>Kala.Welter@email.com</td>\n",
       "      <td>Kala</td>\n",
       "    </tr>\n",
       "    <tr>\n",
       "      <th>2</th>\n",
       "      <td>Daron Kirtley</td>\n",
       "      <td>Daron.Kirtley@email.com</td>\n",
       "      <td>Daron</td>\n",
       "    </tr>\n",
       "    <tr>\n",
       "      <th>3</th>\n",
       "      <td>Wilfredo Jacobi</td>\n",
       "      <td>Wilfredo.Jacobi@email.com</td>\n",
       "      <td>Wilfredo</td>\n",
       "    </tr>\n",
       "    <tr>\n",
       "      <th>4</th>\n",
       "      <td>Bess Fiala</td>\n",
       "      <td>Bess.Fiala@email.com</td>\n",
       "      <td>Bess</td>\n",
       "    </tr>\n",
       "  </tbody>\n",
       "</table>\n",
       "</div>"
      ],
      "text/plain": [
       "          user_name                       email  password\n",
       "0  Chauncey Steffen  Chauncey.Steffen@email.com  Chauncey\n",
       "1       Kala Welter       Kala.Welter@email.com      Kala\n",
       "2     Daron Kirtley     Daron.Kirtley@email.com     Daron\n",
       "3   Wilfredo Jacobi   Wilfredo.Jacobi@email.com  Wilfredo\n",
       "4        Bess Fiala        Bess.Fiala@email.com      Bess"
      ]
     },
     "execution_count": 50,
     "metadata": {},
     "output_type": "execute_result"
    }
   ],
   "source": [
    "user_data.head()"
   ]
  },
  {
   "cell_type": "code",
   "execution_count": 51,
   "metadata": {
    "collapsed": true
   },
   "outputs": [],
   "source": [
    "### adding this data frame to mongo"
   ]
  },
  {
   "cell_type": "code",
   "execution_count": 57,
   "metadata": {},
   "outputs": [],
   "source": [
    "#db.create_collection(\"users\", { 'user_name': \"string\",\n",
    "#                              'email': \"string\",\n",
    "#                              'password': \"string\" } )"
   ]
  },
  {
   "cell_type": "code",
   "execution_count": 58,
   "metadata": {},
   "outputs": [],
   "source": [
    "collection = db.users"
   ]
  },
  {
   "cell_type": "code",
   "execution_count": 59,
   "metadata": {
    "collapsed": true
   },
   "outputs": [],
   "source": [
    "collection.find_one()"
   ]
  },
  {
   "cell_type": "code",
   "execution_count": 62,
   "metadata": {},
   "outputs": [],
   "source": [
    "#user_data.to_dict(\"records\")"
   ]
  },
  {
   "cell_type": "code",
   "execution_count": 63,
   "metadata": {},
   "outputs": [
    {
     "data": {
      "text/plain": [
       "<pymongo.results.InsertManyResult at 0x109bdd848>"
      ]
     },
     "execution_count": 63,
     "metadata": {},
     "output_type": "execute_result"
    }
   ],
   "source": [
    "collection.insert_many(user_data.to_dict(\"records\"))"
   ]
  },
  {
   "cell_type": "code",
   "execution_count": 65,
   "metadata": {},
   "outputs": [
    {
     "data": {
      "text/plain": [
       "{'_id': ObjectId('5a1aa2cb2cfaa80d6ff251f3'),\n",
       " 'email': 'Chauncey.Steffen@email.com',\n",
       " 'password': 'Chauncey',\n",
       " 'user_name': 'Chauncey Steffen'}"
      ]
     },
     "execution_count": 65,
     "metadata": {},
     "output_type": "execute_result"
    }
   ],
   "source": [
    "collection.find_one()"
   ]
  },
  {
   "cell_type": "code",
   "execution_count": null,
   "metadata": {
    "collapsed": true
   },
   "outputs": [],
   "source": []
  },
  {
   "cell_type": "markdown",
   "metadata": {},
   "source": [
    "#### Generate ratings"
   ]
  },
  {
   "cell_type": "markdown",
   "metadata": {},
   "source": [
    "For each user I select number of recipes he will rate (1 to 5), then from recipes I select random recipes and add them random rating (1 to 5)."
   ]
  },
  {
   "cell_type": "code",
   "execution_count": 78,
   "metadata": {},
   "outputs": [],
   "source": [
    "user_ids = collection.find({})\n"
   ]
  },
  {
   "cell_type": "code",
   "execution_count": 85,
   "metadata": {
    "collapsed": true
   },
   "outputs": [],
   "source": [
    "recipe_coll = db.resource_1"
   ]
  },
  {
   "cell_type": "code",
   "execution_count": 102,
   "metadata": {},
   "outputs": [],
   "source": [
    "### select random recipe\n",
    "import random\n",
    "\n",
    "def get_random_recipe():\n",
    "    count = recipe_coll.count()\n",
    "    return recipe_coll.find()[random.randrange(count)]"
   ]
  },
  {
   "cell_type": "code",
   "execution_count": null,
   "metadata": {},
   "outputs": [],
   "source": []
  },
  {
   "cell_type": "code",
   "execution_count": 97,
   "metadata": {
    "collapsed": true
   },
   "outputs": [],
   "source": [
    "rating_coll = db.ratings"
   ]
  },
  {
   "cell_type": "code",
   "execution_count": 123,
   "metadata": {},
   "outputs": [],
   "source": [
    "for i in range(0,50):\n",
    "    user = user_ids[i][\"_id\"]\n",
    "    rec_count = random.randrange(1,5)\n",
    "    for j in range(0,rec_count):\n",
    "        recipe = get_random_recipe()\n",
    "        #print(recipe[\"_id\"])\n",
    "        rate = random.randrange(0,5)\n",
    "        rating_coll.insert_one({'user_id': user, 'recipe_id': recipe[\"_id\"], 'rating':rate})"
   ]
  },
  {
   "cell_type": "code",
   "execution_count": 127,
   "metadata": {},
   "outputs": [
    {
     "data": {
      "text/plain": [
       "{'_id': ObjectId('5a1aa9612cfaa80d6ff25315'),\n",
       " 'rating': 1,\n",
       " 'recipe_id': ObjectId('5a073c312cfaa84d14994d8e'),\n",
       " 'user_id': ObjectId('5a1aa2cb2cfaa80d6ff251f4')}"
      ]
     },
     "execution_count": 127,
     "metadata": {},
     "output_type": "execute_result"
    }
   ],
   "source": [
    "db.ratings.find_one()"
   ]
  },
  {
   "cell_type": "code",
   "execution_count": 132,
   "metadata": {},
   "outputs": [
    {
     "name": "stdout",
     "output_type": "stream",
     "text": [
      "{'_id': ObjectId('5a1aa9612cfaa80d6ff25315'), 'user_id': ObjectId('5a1aa2cb2cfaa80d6ff251f4'), 'recipe_id': ObjectId('5a073c312cfaa84d14994d8e'), 'rating': 1}\n",
      "{'_id': ObjectId('5a1aa9612cfaa80d6ff25316'), 'user_id': ObjectId('5a1aa2cb2cfaa80d6ff251f4'), 'recipe_id': ObjectId('5a073c312cfaa84d14994994'), 'rating': 1}\n",
      "{'_id': ObjectId('5a1aa9632cfaa80d6ff2531f'), 'user_id': ObjectId('5a1aa2cb2cfaa80d6ff251f7'), 'recipe_id': ObjectId('5a073c312cfaa84d14995dc5'), 'rating': 3}\n",
      "{'_id': ObjectId('5a1aa9632cfaa80d6ff25320'), 'user_id': ObjectId('5a1aa2cb2cfaa80d6ff251f8'), 'recipe_id': ObjectId('5a073c312cfaa84d14996b2f'), 'rating': 1}\n",
      "{'_id': ObjectId('5a1aa9632cfaa80d6ff25321'), 'user_id': ObjectId('5a1aa2cb2cfaa80d6ff251f8'), 'recipe_id': ObjectId('5a073c312cfaa84d14994986'), 'rating': 1}\n",
      "{'_id': ObjectId('5a1aa9632cfaa80d6ff25322'), 'user_id': ObjectId('5a1aa2cb2cfaa80d6ff251f8'), 'recipe_id': ObjectId('5a073c312cfaa84d1499541b'), 'rating': 4}\n",
      "{'_id': ObjectId('5a1aa9602cfaa80d6ff25313'), 'user_id': ObjectId('5a1aa2cb2cfaa80d6ff251f3'), 'recipe_id': ObjectId('5a073c312cfaa84d14993edd'), 'rating': 4}\n",
      "{'_id': ObjectId('5a1aa9602cfaa80d6ff25314'), 'user_id': ObjectId('5a1aa2cb2cfaa80d6ff251f3'), 'recipe_id': ObjectId('59fb0d77eee3642f3c06857b'), 'rating': 4}\n",
      "{'_id': ObjectId('5a1aa9622cfaa80d6ff2531b'), 'user_id': ObjectId('5a1aa2cb2cfaa80d6ff251f5'), 'recipe_id': ObjectId('5a073c312cfaa84d14993f4f'), 'rating': 4}\n",
      "{'_id': ObjectId('5a1aa9622cfaa80d6ff2531c'), 'user_id': ObjectId('5a1aa2cb2cfaa80d6ff251f6'), 'recipe_id': ObjectId('5a073c312cfaa84d14994819'), 'rating': 3}\n",
      "{'_id': ObjectId('5a1aa9622cfaa80d6ff2531d'), 'user_id': ObjectId('5a1aa2cb2cfaa80d6ff251f7'), 'recipe_id': ObjectId('5a073c312cfaa84d149937de'), 'rating': 3}\n",
      "{'_id': ObjectId('5a1aa9622cfaa80d6ff2531e'), 'user_id': ObjectId('5a1aa2cb2cfaa80d6ff251f7'), 'recipe_id': ObjectId('5a073c312cfaa84d14993dd2'), 'rating': 1}\n",
      "{'_id': ObjectId('5a1aa9612cfaa80d6ff25317'), 'user_id': ObjectId('5a1aa2cb2cfaa80d6ff251f4'), 'recipe_id': ObjectId('59fb0d77eee3642f3c068b92'), 'rating': 3}\n",
      "{'_id': ObjectId('5a1aa9612cfaa80d6ff25318'), 'user_id': ObjectId('5a1aa2cb2cfaa80d6ff251f5'), 'recipe_id': ObjectId('5a073c312cfaa84d149957a2'), 'rating': 3}\n",
      "{'_id': ObjectId('5a1aa9612cfaa80d6ff25319'), 'user_id': ObjectId('5a1aa2cb2cfaa80d6ff251f5'), 'recipe_id': ObjectId('5a073c312cfaa84d14996585'), 'rating': 3}\n",
      "{'_id': ObjectId('5a1aa9622cfaa80d6ff2531a'), 'user_id': ObjectId('5a1aa2cb2cfaa80d6ff251f5'), 'recipe_id': ObjectId('5a073c312cfaa84d14995eee'), 'rating': 2}\n",
      "{'_id': ObjectId('5a1aa9632cfaa80d6ff25323'), 'user_id': ObjectId('5a1aa2cb2cfaa80d6ff251f9'), 'recipe_id': ObjectId('5a073c312cfaa84d149960a7'), 'rating': 2}\n",
      "{'_id': ObjectId('5a1aa9642cfaa80d6ff25324'), 'user_id': ObjectId('5a1aa2cb2cfaa80d6ff251fa'), 'recipe_id': ObjectId('5a073c312cfaa84d14993a44'), 'rating': 2}\n",
      "{'_id': ObjectId('5a1aa9642cfaa80d6ff25325'), 'user_id': ObjectId('5a1aa2cb2cfaa80d6ff251fa'), 'recipe_id': ObjectId('59fb0d77eee3642f3c068640'), 'rating': 2}\n",
      "{'_id': ObjectId('5a1aa9642cfaa80d6ff25326'), 'user_id': ObjectId('5a1aa2cb2cfaa80d6ff251fa'), 'recipe_id': ObjectId('5a073c312cfaa84d14996235'), 'rating': 1}\n",
      "{'_id': ObjectId('5a1aa9642cfaa80d6ff25327'), 'user_id': ObjectId('5a1aa2cb2cfaa80d6ff251fb'), 'recipe_id': ObjectId('5a073c312cfaa84d149963e2'), 'rating': 2}\n",
      "{'_id': ObjectId('5a1aa9642cfaa80d6ff25328'), 'user_id': ObjectId('5a1aa2cb2cfaa80d6ff251fc'), 'recipe_id': ObjectId('5a073c312cfaa84d149951c5'), 'rating': 2}\n",
      "{'_id': ObjectId('5a1aa9642cfaa80d6ff25329'), 'user_id': ObjectId('5a1aa2cb2cfaa80d6ff251fc'), 'recipe_id': ObjectId('5a073c312cfaa84d14995cf7'), 'rating': 0}\n",
      "{'_id': ObjectId('5a1aa9652cfaa80d6ff2532a'), 'user_id': ObjectId('5a1aa2cb2cfaa80d6ff251fc'), 'recipe_id': ObjectId('5a073c312cfaa84d149948e4'), 'rating': 2}\n",
      "{'_id': ObjectId('5a1aa9652cfaa80d6ff2532b'), 'user_id': ObjectId('5a1aa2cb2cfaa80d6ff251fd'), 'recipe_id': ObjectId('5a073c312cfaa84d14993f34'), 'rating': 3}\n",
      "{'_id': ObjectId('5a1aa9652cfaa80d6ff2532c'), 'user_id': ObjectId('5a1aa2cb2cfaa80d6ff251fe'), 'recipe_id': ObjectId('59fb0d77eee3642f3c06858e'), 'rating': 2}\n",
      "{'_id': ObjectId('5a1aa9652cfaa80d6ff2532d'), 'user_id': ObjectId('5a1aa2cb2cfaa80d6ff251fe'), 'recipe_id': ObjectId('5a073c312cfaa84d14993ed5'), 'rating': 4}\n",
      "{'_id': ObjectId('5a1aa9652cfaa80d6ff2532e'), 'user_id': ObjectId('5a1aa2cb2cfaa80d6ff251fe'), 'recipe_id': ObjectId('5a073c312cfaa84d1499515a'), 'rating': 2}\n",
      "{'_id': ObjectId('5a1aa9662cfaa80d6ff2532f'), 'user_id': ObjectId('5a1aa2cb2cfaa80d6ff251ff'), 'recipe_id': ObjectId('5a073c312cfaa84d14994c56'), 'rating': 1}\n",
      "{'_id': ObjectId('5a1aa9662cfaa80d6ff25330'), 'user_id': ObjectId('5a1aa2cb2cfaa80d6ff25200'), 'recipe_id': ObjectId('5a073c312cfaa84d149956f2'), 'rating': 4}\n",
      "{'_id': ObjectId('5a1aa9662cfaa80d6ff25331'), 'user_id': ObjectId('5a1aa2cb2cfaa80d6ff25200'), 'recipe_id': ObjectId('5a073c312cfaa84d14996531'), 'rating': 0}\n",
      "{'_id': ObjectId('5a1aa9662cfaa80d6ff25332'), 'user_id': ObjectId('5a1aa2cb2cfaa80d6ff25201'), 'recipe_id': ObjectId('5a073c312cfaa84d14995603'), 'rating': 3}\n",
      "{'_id': ObjectId('5a1aa9662cfaa80d6ff25333'), 'user_id': ObjectId('5a1aa2cb2cfaa80d6ff25201'), 'recipe_id': ObjectId('5a073c312cfaa84d149961eb'), 'rating': 2}\n",
      "{'_id': ObjectId('5a1aa9662cfaa80d6ff25334'), 'user_id': ObjectId('5a1aa2cb2cfaa80d6ff25202'), 'recipe_id': ObjectId('5a073c312cfaa84d1499527a'), 'rating': 2}\n",
      "{'_id': ObjectId('5a1aa9672cfaa80d6ff25335'), 'user_id': ObjectId('5a1aa2cb2cfaa80d6ff25202'), 'recipe_id': ObjectId('5a073c312cfaa84d149945ec'), 'rating': 0}\n",
      "{'_id': ObjectId('5a1aa9672cfaa80d6ff25336'), 'user_id': ObjectId('5a1aa2cb2cfaa80d6ff25203'), 'recipe_id': ObjectId('5a073c312cfaa84d14993d40'), 'rating': 4}\n",
      "{'_id': ObjectId('5a1aa9672cfaa80d6ff25337'), 'user_id': ObjectId('5a1aa2cb2cfaa80d6ff25203'), 'recipe_id': ObjectId('5a073c312cfaa84d1499624d'), 'rating': 3}\n",
      "{'_id': ObjectId('5a1aa9672cfaa80d6ff25338'), 'user_id': ObjectId('5a1aa2cb2cfaa80d6ff25204'), 'recipe_id': ObjectId('5a073c312cfaa84d14994a41'), 'rating': 0}\n",
      "{'_id': ObjectId('5a1aa9672cfaa80d6ff25339'), 'user_id': ObjectId('5a1aa2cb2cfaa80d6ff25204'), 'recipe_id': ObjectId('5a073c312cfaa84d1499671e'), 'rating': 2}\n",
      "{'_id': ObjectId('5a1aa9672cfaa80d6ff2533a'), 'user_id': ObjectId('5a1aa2cb2cfaa80d6ff25204'), 'recipe_id': ObjectId('59fb0d77eee3642f3c068b1f'), 'rating': 2}\n",
      "{'_id': ObjectId('5a1aa9682cfaa80d6ff2533b'), 'user_id': ObjectId('5a1aa2cb2cfaa80d6ff25204'), 'recipe_id': ObjectId('59fb0d77eee3642f3c068af4'), 'rating': 3}\n",
      "{'_id': ObjectId('5a1aa9682cfaa80d6ff2533c'), 'user_id': ObjectId('5a1aa2cb2cfaa80d6ff25205'), 'recipe_id': ObjectId('59fb0d77eee3642f3c0684e8'), 'rating': 2}\n",
      "{'_id': ObjectId('5a1aa9682cfaa80d6ff2533d'), 'user_id': ObjectId('5a1aa2cb2cfaa80d6ff25205'), 'recipe_id': ObjectId('59fb0d77eee3642f3c0684fd'), 'rating': 4}\n",
      "{'_id': ObjectId('5a1aa9682cfaa80d6ff2533e'), 'user_id': ObjectId('5a1aa2cb2cfaa80d6ff25205'), 'recipe_id': ObjectId('5a073c312cfaa84d14995910'), 'rating': 2}\n",
      "{'_id': ObjectId('5a1aa9682cfaa80d6ff2533f'), 'user_id': ObjectId('5a1aa2cb2cfaa80d6ff25205'), 'recipe_id': ObjectId('5a073c312cfaa84d14995598'), 'rating': 0}\n",
      "{'_id': ObjectId('5a1aa9682cfaa80d6ff25340'), 'user_id': ObjectId('5a1aa2cb2cfaa80d6ff25206'), 'recipe_id': ObjectId('5a073c312cfaa84d1499582b'), 'rating': 3}\n",
      "{'_id': ObjectId('5a1aa9692cfaa80d6ff25341'), 'user_id': ObjectId('5a1aa2cb2cfaa80d6ff25207'), 'recipe_id': ObjectId('5a073c312cfaa84d14995ca7'), 'rating': 3}\n",
      "{'_id': ObjectId('5a1aa9692cfaa80d6ff25342'), 'user_id': ObjectId('5a1aa2cb2cfaa80d6ff25207'), 'recipe_id': ObjectId('5a073c312cfaa84d14993a15'), 'rating': 3}\n",
      "{'_id': ObjectId('5a1aa9692cfaa80d6ff25343'), 'user_id': ObjectId('5a1aa2cb2cfaa80d6ff25207'), 'recipe_id': ObjectId('5a073c312cfaa84d149943f4'), 'rating': 2}\n",
      "{'_id': ObjectId('5a1aa9692cfaa80d6ff25344'), 'user_id': ObjectId('5a1aa2cb2cfaa80d6ff25208'), 'recipe_id': ObjectId('5a073c312cfaa84d14995923'), 'rating': 4}\n",
      "{'_id': ObjectId('5a1aa9692cfaa80d6ff25345'), 'user_id': ObjectId('5a1aa2cb2cfaa80d6ff25208'), 'recipe_id': ObjectId('5a073c312cfaa84d14996709'), 'rating': 0}\n",
      "{'_id': ObjectId('5a1aa96a2cfaa80d6ff25346'), 'user_id': ObjectId('5a1aa2cb2cfaa80d6ff25209'), 'recipe_id': ObjectId('5a073c312cfaa84d14993be4'), 'rating': 0}\n",
      "{'_id': ObjectId('5a1aa96a2cfaa80d6ff25347'), 'user_id': ObjectId('5a1aa2cb2cfaa80d6ff25209'), 'recipe_id': ObjectId('5a073c312cfaa84d14994afa'), 'rating': 0}\n",
      "{'_id': ObjectId('5a1aa96a2cfaa80d6ff25348'), 'user_id': ObjectId('5a1aa2cb2cfaa80d6ff25209'), 'recipe_id': ObjectId('5a073c312cfaa84d149965ee'), 'rating': 3}\n",
      "{'_id': ObjectId('5a1aa96a2cfaa80d6ff25349'), 'user_id': ObjectId('5a1aa2cb2cfaa80d6ff2520a'), 'recipe_id': ObjectId('5a073c312cfaa84d149961c2'), 'rating': 0}\n",
      "{'_id': ObjectId('5a1aa96a2cfaa80d6ff2534a'), 'user_id': ObjectId('5a1aa2cb2cfaa80d6ff2520a'), 'recipe_id': ObjectId('59fb0d77eee3642f3c06870c'), 'rating': 2}\n",
      "{'_id': ObjectId('5a1aa96a2cfaa80d6ff2534b'), 'user_id': ObjectId('5a1aa2cb2cfaa80d6ff2520b'), 'recipe_id': ObjectId('5a073c312cfaa84d1499496c'), 'rating': 4}\n",
      "{'_id': ObjectId('5a1aa96b2cfaa80d6ff2534c'), 'user_id': ObjectId('5a1aa2cb2cfaa80d6ff2520c'), 'recipe_id': ObjectId('5a073c312cfaa84d14994d7d'), 'rating': 3}\n",
      "{'_id': ObjectId('5a1aa96b2cfaa80d6ff2534d'), 'user_id': ObjectId('5a1aa2cb2cfaa80d6ff2520c'), 'recipe_id': ObjectId('59fb0d77eee3642f3c0688cf'), 'rating': 4}\n",
      "{'_id': ObjectId('5a1aa96b2cfaa80d6ff2534e'), 'user_id': ObjectId('5a1aa2cb2cfaa80d6ff2520c'), 'recipe_id': ObjectId('5a073c312cfaa84d149964b9'), 'rating': 0}\n",
      "{'_id': ObjectId('5a1aa96b2cfaa80d6ff2534f'), 'user_id': ObjectId('5a1aa2cb2cfaa80d6ff2520d'), 'recipe_id': ObjectId('5a073c312cfaa84d14994a9c'), 'rating': 0}\n",
      "{'_id': ObjectId('5a1aa96b2cfaa80d6ff25350'), 'user_id': ObjectId('5a1aa2cb2cfaa80d6ff2520d'), 'recipe_id': ObjectId('5a073c312cfaa84d149950d6'), 'rating': 0}\n",
      "{'_id': ObjectId('5a1aa96c2cfaa80d6ff25351'), 'user_id': ObjectId('5a1aa2cb2cfaa80d6ff2520e'), 'recipe_id': ObjectId('5a073c312cfaa84d149960ee'), 'rating': 2}\n",
      "{'_id': ObjectId('5a1aa96c2cfaa80d6ff25352'), 'user_id': ObjectId('5a1aa2cb2cfaa80d6ff2520e'), 'recipe_id': ObjectId('5a073c312cfaa84d14995a13'), 'rating': 1}\n",
      "{'_id': ObjectId('5a1aa96c2cfaa80d6ff25353'), 'user_id': ObjectId('5a1aa2cb2cfaa80d6ff2520f'), 'recipe_id': ObjectId('5a073c312cfaa84d14994f6f'), 'rating': 1}\n",
      "{'_id': ObjectId('5a1aa96c2cfaa80d6ff25354'), 'user_id': ObjectId('5a1aa2cb2cfaa80d6ff25210'), 'recipe_id': ObjectId('5a073c312cfaa84d1499628b'), 'rating': 4}\n",
      "{'_id': ObjectId('5a1aa96c2cfaa80d6ff25355'), 'user_id': ObjectId('5a1aa2cb2cfaa80d6ff25210'), 'recipe_id': ObjectId('5a073c312cfaa84d14995e9c'), 'rating': 0}\n",
      "{'_id': ObjectId('5a1aa96c2cfaa80d6ff25356'), 'user_id': ObjectId('5a1aa2cb2cfaa80d6ff25210'), 'recipe_id': ObjectId('59fb0d77eee3642f3c06886b'), 'rating': 0}\n",
      "{'_id': ObjectId('5a1aa96d2cfaa80d6ff25357'), 'user_id': ObjectId('5a1aa2cb2cfaa80d6ff25211'), 'recipe_id': ObjectId('5a073c312cfaa84d149958df'), 'rating': 2}\n",
      "{'_id': ObjectId('5a1aa96d2cfaa80d6ff25358'), 'user_id': ObjectId('5a1aa2cb2cfaa80d6ff25211'), 'recipe_id': ObjectId('5a073c312cfaa84d149962d0'), 'rating': 1}\n",
      "{'_id': ObjectId('5a1aa96d2cfaa80d6ff25359'), 'user_id': ObjectId('5a1aa2cb2cfaa80d6ff25211'), 'recipe_id': ObjectId('5a073c312cfaa84d149959dd'), 'rating': 0}\n",
      "{'_id': ObjectId('5a1aa96d2cfaa80d6ff2535a'), 'user_id': ObjectId('5a1aa2cb2cfaa80d6ff25212'), 'recipe_id': ObjectId('5a073c312cfaa84d14994b79'), 'rating': 4}\n",
      "{'_id': ObjectId('5a1aa96d2cfaa80d6ff2535b'), 'user_id': ObjectId('5a1aa2cb2cfaa80d6ff25213'), 'recipe_id': ObjectId('5a073c312cfaa84d149951ab'), 'rating': 0}\n",
      "{'_id': ObjectId('5a1aa96e2cfaa80d6ff2535c'), 'user_id': ObjectId('5a1aa2cb2cfaa80d6ff25214'), 'recipe_id': ObjectId('5a073c312cfaa84d14995fbd'), 'rating': 3}\n",
      "{'_id': ObjectId('5a1aa96e2cfaa80d6ff2535d'), 'user_id': ObjectId('5a1aa2cb2cfaa80d6ff25214'), 'recipe_id': ObjectId('5a073c312cfaa84d14995fdc'), 'rating': 2}\n",
      "{'_id': ObjectId('5a1aa96e2cfaa80d6ff2535e'), 'user_id': ObjectId('5a1aa2cb2cfaa80d6ff25214'), 'recipe_id': ObjectId('5a073c312cfaa84d149943ba'), 'rating': 0}\n",
      "{'_id': ObjectId('5a1aa96e2cfaa80d6ff2535f'), 'user_id': ObjectId('5a1aa2cb2cfaa80d6ff25214'), 'recipe_id': ObjectId('5a073c312cfaa84d14994a41'), 'rating': 0}\n",
      "{'_id': ObjectId('5a1aa96e2cfaa80d6ff25360'), 'user_id': ObjectId('5a1aa2cb2cfaa80d6ff25215'), 'recipe_id': ObjectId('5a073c312cfaa84d14994622'), 'rating': 4}\n",
      "{'_id': ObjectId('5a1aa96f2cfaa80d6ff25361'), 'user_id': ObjectId('5a1aa2cb2cfaa80d6ff25216'), 'recipe_id': ObjectId('5a073c312cfaa84d14994a93'), 'rating': 0}\n",
      "{'_id': ObjectId('5a1aa96f2cfaa80d6ff25362'), 'user_id': ObjectId('5a1aa2cb2cfaa80d6ff25217'), 'recipe_id': ObjectId('5a073c312cfaa84d14995264'), 'rating': 1}\n",
      "{'_id': ObjectId('5a1aa96f2cfaa80d6ff25363'), 'user_id': ObjectId('5a1aa2cb2cfaa80d6ff25217'), 'recipe_id': ObjectId('5a073c312cfaa84d14995e9a'), 'rating': 3}\n",
      "{'_id': ObjectId('5a1aa96f2cfaa80d6ff25364'), 'user_id': ObjectId('5a1aa2cb2cfaa80d6ff25218'), 'recipe_id': ObjectId('5a073c312cfaa84d1499581e'), 'rating': 3}\n",
      "{'_id': ObjectId('5a1aa96f2cfaa80d6ff25365'), 'user_id': ObjectId('5a1aa2cb2cfaa80d6ff25219'), 'recipe_id': ObjectId('5a073c312cfaa84d14994279'), 'rating': 4}\n",
      "{'_id': ObjectId('5a1aa96f2cfaa80d6ff25366'), 'user_id': ObjectId('5a1aa2cb2cfaa80d6ff25219'), 'recipe_id': ObjectId('5a073c312cfaa84d14995702'), 'rating': 0}\n",
      "{'_id': ObjectId('5a1aa9702cfaa80d6ff25367'), 'user_id': ObjectId('5a1aa2cb2cfaa80d6ff25219'), 'recipe_id': ObjectId('59fb0d77eee3642f3c068bf4'), 'rating': 4}\n",
      "{'_id': ObjectId('5a1aa9702cfaa80d6ff25368'), 'user_id': ObjectId('5a1aa2cb2cfaa80d6ff25219'), 'recipe_id': ObjectId('5a073c312cfaa84d1499629d'), 'rating': 2}\n",
      "{'_id': ObjectId('5a1aa9702cfaa80d6ff25369'), 'user_id': ObjectId('5a1aa2cb2cfaa80d6ff2521a'), 'recipe_id': ObjectId('5a073c312cfaa84d14993790'), 'rating': 3}\n",
      "{'_id': ObjectId('5a1aa9702cfaa80d6ff2536a'), 'user_id': ObjectId('5a1aa2cb2cfaa80d6ff2521a'), 'recipe_id': ObjectId('5a073c312cfaa84d1499691f'), 'rating': 0}\n",
      "{'_id': ObjectId('5a1aa9702cfaa80d6ff2536b'), 'user_id': ObjectId('5a1aa2cb2cfaa80d6ff2521b'), 'recipe_id': ObjectId('5a073c312cfaa84d14994ff4'), 'rating': 1}\n",
      "{'_id': ObjectId('5a1aa9702cfaa80d6ff2536c'), 'user_id': ObjectId('5a1aa2cb2cfaa80d6ff2521b'), 'recipe_id': ObjectId('59fb0d77eee3642f3c068d53'), 'rating': 0}\n",
      "{'_id': ObjectId('5a1aa9712cfaa80d6ff2536d'), 'user_id': ObjectId('5a1aa2cb2cfaa80d6ff2521b'), 'recipe_id': ObjectId('5a073c312cfaa84d14995aaf'), 'rating': 2}\n",
      "{'_id': ObjectId('5a1aa9712cfaa80d6ff2536e'), 'user_id': ObjectId('5a1aa2cb2cfaa80d6ff2521c'), 'recipe_id': ObjectId('5a073c312cfaa84d14994b09'), 'rating': 4}\n",
      "{'_id': ObjectId('5a1aa9712cfaa80d6ff2536f'), 'user_id': ObjectId('5a1aa2cb2cfaa80d6ff2521c'), 'recipe_id': ObjectId('5a073c312cfaa84d14996776'), 'rating': 1}\n",
      "{'_id': ObjectId('5a1aa9712cfaa80d6ff25370'), 'user_id': ObjectId('5a1aa2cb2cfaa80d6ff2521c'), 'recipe_id': ObjectId('5a073c312cfaa84d149965f3'), 'rating': 0}\n",
      "{'_id': ObjectId('5a1aa9712cfaa80d6ff25371'), 'user_id': ObjectId('5a1aa2cb2cfaa80d6ff2521c'), 'recipe_id': ObjectId('5a073c312cfaa84d14993e96'), 'rating': 2}\n",
      "{'_id': ObjectId('5a1aa9722cfaa80d6ff25372'), 'user_id': ObjectId('5a1aa2cb2cfaa80d6ff2521d'), 'recipe_id': ObjectId('5a073c312cfaa84d14995a23'), 'rating': 2}\n",
      "{'_id': ObjectId('5a1aa9722cfaa80d6ff25373'), 'user_id': ObjectId('5a1aa2cb2cfaa80d6ff2521d'), 'recipe_id': ObjectId('5a073c312cfaa84d14993b40'), 'rating': 4}\n",
      "{'_id': ObjectId('5a1aa9722cfaa80d6ff25374'), 'user_id': ObjectId('5a1aa2cb2cfaa80d6ff2521d'), 'recipe_id': ObjectId('5a073c312cfaa84d14995eae'), 'rating': 3}\n",
      "{'_id': ObjectId('5a1aa9722cfaa80d6ff25375'), 'user_id': ObjectId('5a1aa2cb2cfaa80d6ff2521d'), 'recipe_id': ObjectId('5a073c312cfaa84d14996519'), 'rating': 0}\n",
      "{'_id': ObjectId('5a1aa9722cfaa80d6ff25376'), 'user_id': ObjectId('5a1aa2cb2cfaa80d6ff2521e'), 'recipe_id': ObjectId('5a073c312cfaa84d14995056'), 'rating': 2}\n",
      "{'_id': ObjectId('5a1aa9722cfaa80d6ff25377'), 'user_id': ObjectId('5a1aa2cb2cfaa80d6ff2521e'), 'recipe_id': ObjectId('5a073c312cfaa84d1499415e'), 'rating': 0}\n",
      "{'_id': ObjectId('5a1aa9732cfaa80d6ff25378'), 'user_id': ObjectId('5a1aa2cb2cfaa80d6ff2521e'), 'recipe_id': ObjectId('5a073c312cfaa84d14994834'), 'rating': 4}\n",
      "{'_id': ObjectId('5a1aa9732cfaa80d6ff25379'), 'user_id': ObjectId('5a1aa2cb2cfaa80d6ff2521e'), 'recipe_id': ObjectId('5a073c312cfaa84d149937c0'), 'rating': 0}\n",
      "{'_id': ObjectId('5a1aa9732cfaa80d6ff2537a'), 'user_id': ObjectId('5a1aa2cb2cfaa80d6ff2521f'), 'recipe_id': ObjectId('59fb0d77eee3642f3c068416'), 'rating': 2}\n",
      "{'_id': ObjectId('5a1aa9732cfaa80d6ff2537b'), 'user_id': ObjectId('5a1aa2cb2cfaa80d6ff2521f'), 'recipe_id': ObjectId('5a073c312cfaa84d14995b3d'), 'rating': 4}\n",
      "{'_id': ObjectId('5a1aa9732cfaa80d6ff2537c'), 'user_id': ObjectId('5a1aa2cb2cfaa80d6ff2521f'), 'recipe_id': ObjectId('5a073c312cfaa84d149966bd'), 'rating': 3}\n",
      "{'_id': ObjectId('5a1aa9732cfaa80d6ff2537d'), 'user_id': ObjectId('5a1aa2cb2cfaa80d6ff2521f'), 'recipe_id': ObjectId('59fb0d77eee3642f3c068d65'), 'rating': 4}\n",
      "{'_id': ObjectId('5a1aa9742cfaa80d6ff2537e'), 'user_id': ObjectId('5a1aa2cb2cfaa80d6ff25220'), 'recipe_id': ObjectId('5a073c312cfaa84d14995b45'), 'rating': 2}\n",
      "{'_id': ObjectId('5a1aa9742cfaa80d6ff2537f'), 'user_id': ObjectId('5a1aa2cb2cfaa80d6ff25221'), 'recipe_id': ObjectId('5a073c312cfaa84d14994d03'), 'rating': 2}\n",
      "{'_id': ObjectId('5a1aa9742cfaa80d6ff25380'), 'user_id': ObjectId('5a1aa2cb2cfaa80d6ff25221'), 'recipe_id': ObjectId('5a073c312cfaa84d14993ef1'), 'rating': 1}\n",
      "{'_id': ObjectId('5a1aa9742cfaa80d6ff25381'), 'user_id': ObjectId('5a1aa2cb2cfaa80d6ff25222'), 'recipe_id': ObjectId('5a073c312cfaa84d1499630b'), 'rating': 0}\n",
      "{'_id': ObjectId('5a1aa9742cfaa80d6ff25382'), 'user_id': ObjectId('5a1aa2cb2cfaa80d6ff25222'), 'recipe_id': ObjectId('5a073c312cfaa84d1499598f'), 'rating': 4}\n",
      "{'_id': ObjectId('5a1aa9742cfaa80d6ff25383'), 'user_id': ObjectId('5a1aa2cb2cfaa80d6ff25223'), 'recipe_id': ObjectId('5a073c312cfaa84d14994f93'), 'rating': 4}\n",
      "{'_id': ObjectId('5a1aa9752cfaa80d6ff25384'), 'user_id': ObjectId('5a1aa2cb2cfaa80d6ff25223'), 'recipe_id': ObjectId('5a073c312cfaa84d1499475a'), 'rating': 2}\n",
      "{'_id': ObjectId('5a1aa9752cfaa80d6ff25385'), 'user_id': ObjectId('5a1aa2cb2cfaa80d6ff25223'), 'recipe_id': ObjectId('5a073c312cfaa84d1499486a'), 'rating': 2}\n",
      "{'_id': ObjectId('5a1aa9752cfaa80d6ff25386'), 'user_id': ObjectId('5a1aa2cb2cfaa80d6ff25224'), 'recipe_id': ObjectId('5a073c312cfaa84d14994df4'), 'rating': 0}\n",
      "{'_id': ObjectId('5a1aa9752cfaa80d6ff25387'), 'user_id': ObjectId('5a1aa2cb2cfaa80d6ff25224'), 'recipe_id': ObjectId('5a073c312cfaa84d14995903'), 'rating': 2}\n",
      "{'_id': ObjectId('5a1aa9752cfaa80d6ff25388'), 'user_id': ObjectId('5a1aa2cb2cfaa80d6ff25224'), 'recipe_id': ObjectId('5a073c312cfaa84d14995f5a'), 'rating': 2}\n"
     ]
    }
   ],
   "source": [
    "for elem in db.ratings.find({}):\n",
    "    print(elem)\n"
   ]
  },
  {
   "cell_type": "code",
   "execution_count": 135,
   "metadata": {},
   "outputs": [
    {
     "data": {
      "text/plain": [
       "118"
      ]
     },
     "execution_count": 135,
     "metadata": {},
     "output_type": "execute_result"
    }
   ],
   "source": [
    "db.ratings.find({}).count(True)"
   ]
  },
  {
   "cell_type": "code",
   "execution_count": null,
   "metadata": {
    "collapsed": true
   },
   "outputs": [],
   "source": []
  }
 ],
 "metadata": {
  "kernelspec": {
   "display_name": "Python 3",
   "language": "python",
   "name": "python3"
  },
  "language_info": {
   "codemirror_mode": {
    "name": "ipython",
    "version": 3
   },
   "file_extension": ".py",
   "mimetype": "text/x-python",
   "name": "python",
   "nbconvert_exporter": "python",
   "pygments_lexer": "ipython3",
   "version": "3.6.1"
  }
 },
 "nbformat": 4,
 "nbformat_minor": 2
}
