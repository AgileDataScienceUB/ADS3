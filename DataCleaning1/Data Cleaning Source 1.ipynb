{
 "cells": [
  {
   "cell_type": "code",
   "execution_count": 1,
   "metadata": {
    "collapsed": true
   },
   "outputs": [],
   "source": [
    "import numpy as np\n",
    "import pandas as pd"
   ]
  },
  {
   "cell_type": "code",
   "execution_count": 3,
   "metadata": {},
   "outputs": [
    {
     "name": "stdout",
     "output_type": "stream",
     "text": [
      "(2469, 12)\n"
     ]
    }
   ],
   "source": [
    "recepies = pd.read_csv('Source1Recipes.csv')\n",
    "print (recepies.shape)"
   ]
  },
  {
   "cell_type": "code",
   "execution_count": 4,
   "metadata": {},
   "outputs": [],
   "source": [
    "recepies['saturated_fat_g'] = recepies['saturated_fat']\n",
    "recepies['fat_g'] = recepies['fat']\n",
    "recepies['sugar_g'] = recepies['sugar']\n",
    "\n",
    "recepies = recepies.drop(labels = ['saturated_fat','fat','sugar'],axis=1)\n"
   ]
  },
  {
   "cell_type": "code",
   "execution_count": 5,
   "metadata": {},
   "outputs": [
    {
     "data": {
      "text/plain": [
       "Index(['saturated_fat_g', 'fat_g', 'sugar_g'], dtype='object')"
      ]
     },
     "execution_count": 5,
     "metadata": {},
     "output_type": "execute_result"
    }
   ],
   "source": [
    "data_columns = recepies.columns"
   ]
  },
  {
   "cell_type": "code",
   "execution_count": 6,
   "metadata": {
    "collapsed": true
   },
   "outputs": [],
   "source": [
    "recepies[data_columns[-3:]] = recepies[data_columns[-3:]].replace(r'[^0-9\\.]','', regex=True)"
   ]
  },
  {
   "cell_type": "code",
   "execution_count": 7,
   "metadata": {},
   "outputs": [],
   "source": [
    "recepies['time_min'] = recepies['time']\n",
    "\n",
    "recepies = recepies.drop(labels = ['time'],axis=1)\n",
    "recepies['time_min'] = recepies['time_min'].replace(r'[^0-9\\.]','', regex=True)\n"
   ]
  },
  {
   "cell_type": "code",
   "execution_count": 8,
   "metadata": {},
   "outputs": [],
   "source": [
    "recepies['price_p'] = recepies['price']\n",
    "\n",
    "recepies = recepies.drop(labels = ['price'],axis=1)\n",
    "recepies['price_p'] = recepies['price_p'].replace(r'[^0-9]','', regex=True)"
   ]
  },
  {
   "cell_type": "code",
   "execution_count": 10,
   "metadata": {},
   "outputs": [
    {
     "data": {
      "text/html": [
       "<div>\n",
       "<style>\n",
       "    .dataframe thead tr:only-child th {\n",
       "        text-align: right;\n",
       "    }\n",
       "\n",
       "    .dataframe thead th {\n",
       "        text-align: left;\n",
       "    }\n",
       "\n",
       "    .dataframe tbody tr th {\n",
       "        vertical-align: top;\n",
       "    }\n",
       "</style>\n",
       "<table border=\"1\" class=\"dataframe\">\n",
       "  <thead>\n",
       "    <tr style=\"text-align: right;\">\n",
       "      <th></th>\n",
       "      <th>id</th>\n",
       "      <th>url</th>\n",
       "      <th>image</th>\n",
       "      <th>name</th>\n",
       "      <th>serves</th>\n",
       "      <th>energy</th>\n",
       "      <th>salt</th>\n",
       "      <th>saturated_fat_g</th>\n",
       "      <th>fat_g</th>\n",
       "      <th>sugar_g</th>\n",
       "      <th>time_min</th>\n",
       "      <th>price_p</th>\n",
       "    </tr>\n",
       "  </thead>\n",
       "  <tbody>\n",
       "    <tr>\n",
       "      <th>0</th>\n",
       "      <td>20-minute-carbonara-with-peas</td>\n",
       "      <td>https://www.asdagoodliving.co.uk/food/recipes/...</td>\n",
       "      <td>https://be35832fa5168a30acd6-5c7e0f2623ae37b4a...</td>\n",
       "      <td>20-minute carbonara with peas</td>\n",
       "      <td>4</td>\n",
       "      <td>431</td>\n",
       "      <td>1805</td>\n",
       "      <td>6.1</td>\n",
       "      <td>16.6</td>\n",
       "      <td>5</td>\n",
       "      <td>20</td>\n",
       "      <td>115</td>\n",
       "    </tr>\n",
       "    <tr>\n",
       "      <th>1</th>\n",
       "      <td>alcoholic-orange-sorbet</td>\n",
       "      <td>https://www.asdagoodliving.co.uk/food/recipes/...</td>\n",
       "      <td>https://be35832fa5168a30acd6-5c7e0f2623ae37b4a...</td>\n",
       "      <td>Alcoholic orange sorbet</td>\n",
       "      <td>2 (with 6 portions left over)</td>\n",
       "      <td>109</td>\n",
       "      <td>0.01</td>\n",
       "      <td>0.0</td>\n",
       "      <td>0.1</td>\n",
       "      <td>21.4</td>\n",
       "      <td>15</td>\n",
       "      <td>191</td>\n",
       "    </tr>\n",
       "    <tr>\n",
       "      <th>2</th>\n",
       "      <td>alfajores</td>\n",
       "      <td>https://www.asdagoodliving.co.uk/food/recipes/...</td>\n",
       "      <td>https://be35832fa5168a30acd6-5c7e0f2623ae37b4a...</td>\n",
       "      <td>Argentinian Alfajores Biscuits</td>\n",
       "      <td>18</td>\n",
       "      <td>149</td>\n",
       "      <td>0.12</td>\n",
       "      <td>3.8</td>\n",
       "      <td>6.2</td>\n",
       "      <td>14.8</td>\n",
       "      <td>30</td>\n",
       "      <td>13</td>\n",
       "    </tr>\n",
       "    <tr>\n",
       "      <th>3</th>\n",
       "      <td>alice-in-wonderland-teapot-cake</td>\n",
       "      <td>https://www.asdagoodliving.co.uk/food/recipes/...</td>\n",
       "      <td>https://be35832fa5168a30acd6-5c7e0f2623ae37b4a...</td>\n",
       "      <td>Alice in Wonderland teapot cake</td>\n",
       "      <td>32</td>\n",
       "      <td>343</td>\n",
       "      <td>0.44</td>\n",
       "      <td>6.4</td>\n",
       "      <td>12.2</td>\n",
       "      <td>40.9</td>\n",
       "      <td>105</td>\n",
       "      <td>83</td>\n",
       "    </tr>\n",
       "    <tr>\n",
       "      <th>4</th>\n",
       "      <td>almond-herb-crusted-salmon</td>\n",
       "      <td>https://www.asdagoodliving.co.uk/food/recipes/...</td>\n",
       "      <td>https://be35832fa5168a30acd6-5c7e0f2623ae37b4a...</td>\n",
       "      <td>Almond and herb crusted salmon</td>\n",
       "      <td>4</td>\n",
       "      <td>685</td>\n",
       "      <td>0.56</td>\n",
       "      <td>7.9</td>\n",
       "      <td>47.9</td>\n",
       "      <td>1.1</td>\n",
       "      <td>40</td>\n",
       "      <td>330</td>\n",
       "    </tr>\n",
       "  </tbody>\n",
       "</table>\n",
       "</div>"
      ],
      "text/plain": [
       "                                id  \\\n",
       "0    20-minute-carbonara-with-peas   \n",
       "1          alcoholic-orange-sorbet   \n",
       "2                        alfajores   \n",
       "3  alice-in-wonderland-teapot-cake   \n",
       "4       almond-herb-crusted-salmon   \n",
       "\n",
       "                                                 url  \\\n",
       "0  https://www.asdagoodliving.co.uk/food/recipes/...   \n",
       "1  https://www.asdagoodliving.co.uk/food/recipes/...   \n",
       "2  https://www.asdagoodliving.co.uk/food/recipes/...   \n",
       "3  https://www.asdagoodliving.co.uk/food/recipes/...   \n",
       "4  https://www.asdagoodliving.co.uk/food/recipes/...   \n",
       "\n",
       "                                               image  \\\n",
       "0  https://be35832fa5168a30acd6-5c7e0f2623ae37b4a...   \n",
       "1  https://be35832fa5168a30acd6-5c7e0f2623ae37b4a...   \n",
       "2  https://be35832fa5168a30acd6-5c7e0f2623ae37b4a...   \n",
       "3  https://be35832fa5168a30acd6-5c7e0f2623ae37b4a...   \n",
       "4  https://be35832fa5168a30acd6-5c7e0f2623ae37b4a...   \n",
       "\n",
       "                              name                         serves  energy  \\\n",
       "0    20-minute carbonara with peas                              4     431   \n",
       "1          Alcoholic orange sorbet  2 (with 6 portions left over)     109   \n",
       "2   Argentinian Alfajores Biscuits                             18     149   \n",
       "3  Alice in Wonderland teapot cake                             32     343   \n",
       "4   Almond and herb crusted salmon                              4     685   \n",
       "\n",
       "   salt saturated_fat_g fat_g sugar_g time_min price_p  \n",
       "0  1805             6.1  16.6       5       20     115  \n",
       "1  0.01             0.0   0.1    21.4       15     191  \n",
       "2  0.12             3.8   6.2    14.8       30      13  \n",
       "3  0.44             6.4  12.2    40.9      105      83  \n",
       "4  0.56             7.9  47.9     1.1       40     330  "
      ]
     },
     "execution_count": 10,
     "metadata": {},
     "output_type": "execute_result"
    }
   ],
   "source": [
    "recepies.head()"
   ]
  },
  {
   "cell_type": "code",
   "execution_count": null,
   "metadata": {
    "collapsed": true
   },
   "outputs": [],
   "source": []
  },
  {
   "cell_type": "code",
   "execution_count": null,
   "metadata": {
    "collapsed": true
   },
   "outputs": [],
   "source": []
  },
  {
   "cell_type": "code",
   "execution_count": 13,
   "metadata": {},
   "outputs": [
    {
     "name": "stdout",
     "output_type": "stream",
     "text": [
      "(22760, 2)\n"
     ]
    },
    {
     "data": {
      "text/html": [
       "<div>\n",
       "<style>\n",
       "    .dataframe thead tr:only-child th {\n",
       "        text-align: right;\n",
       "    }\n",
       "\n",
       "    .dataframe thead th {\n",
       "        text-align: left;\n",
       "    }\n",
       "\n",
       "    .dataframe tbody tr th {\n",
       "        vertical-align: top;\n",
       "    }\n",
       "</style>\n",
       "<table border=\"1\" class=\"dataframe\">\n",
       "  <thead>\n",
       "    <tr style=\"text-align: right;\">\n",
       "      <th></th>\n",
       "      <th>id</th>\n",
       "      <th>ingredient</th>\n",
       "    </tr>\n",
       "  </thead>\n",
       "  <tbody>\n",
       "    <tr>\n",
       "      <th>0</th>\n",
       "      <td>20-minute-carbonara-with-peas</td>\n",
       "      <td>200g spaghetti</td>\n",
       "    </tr>\n",
       "    <tr>\n",
       "      <th>1</th>\n",
       "      <td>20-minute-carbonara-with-peas</td>\n",
       "      <td>250g frozen peas</td>\n",
       "    </tr>\n",
       "    <tr>\n",
       "      <th>2</th>\n",
       "      <td>20-minute-carbonara-with-peas</td>\n",
       "      <td>2 medium eggs</td>\n",
       "    </tr>\n",
       "    <tr>\n",
       "      <th>3</th>\n",
       "      <td>20-minute-carbonara-with-peas</td>\n",
       "      <td>25g Parmesan, grated</td>\n",
       "    </tr>\n",
       "    <tr>\n",
       "      <th>4</th>\n",
       "      <td>20-minute-carbonara-with-peas</td>\n",
       "      <td>4 level tbsp reduced-fat crème fraîche</td>\n",
       "    </tr>\n",
       "    <tr>\n",
       "      <th>5</th>\n",
       "      <td>20-minute-carbonara-with-peas</td>\n",
       "      <td>1 tbsp olive oil</td>\n",
       "    </tr>\n",
       "    <tr>\n",
       "      <th>6</th>\n",
       "      <td>20-minute-carbonara-with-peas</td>\n",
       "      <td>4 rashers Asda Extra Special Unsmoked Back Bac...</td>\n",
       "    </tr>\n",
       "    <tr>\n",
       "      <th>7</th>\n",
       "      <td>20-minute-carbonara-with-peas</td>\n",
       "      <td>1 shallot, finely chopped</td>\n",
       "    </tr>\n",
       "    <tr>\n",
       "      <th>8</th>\n",
       "      <td>20-minute-carbonara-with-peas</td>\n",
       "      <td>1 garlic clove, crushed</td>\n",
       "    </tr>\n",
       "    <tr>\n",
       "      <th>9</th>\n",
       "      <td>20-minute-carbonara-with-peas</td>\n",
       "      <td>Chopped parsley, to serve</td>\n",
       "    </tr>\n",
       "    <tr>\n",
       "      <th>10</th>\n",
       "      <td>alcoholic-orange-sorbet</td>\n",
       "      <td>750ml Asda Orange Juice with Bits (not from co...</td>\n",
       "    </tr>\n",
       "    <tr>\n",
       "      <th>11</th>\n",
       "      <td>alcoholic-orange-sorbet</td>\n",
       "      <td>100g granulated sugar</td>\n",
       "    </tr>\n",
       "    <tr>\n",
       "      <th>12</th>\n",
       "      <td>alcoholic-orange-sorbet</td>\n",
       "      <td>Finely grates zest 1 orange</td>\n",
       "    </tr>\n",
       "    <tr>\n",
       "      <th>13</th>\n",
       "      <td>alcoholic-orange-sorbet</td>\n",
       "      <td>1tsp Angostura Bitters</td>\n",
       "    </tr>\n",
       "    <tr>\n",
       "      <th>14</th>\n",
       "      <td>alcoholic-orange-sorbet</td>\n",
       "      <td>50ml Aperol Aperitivo</td>\n",
       "    </tr>\n",
       "  </tbody>\n",
       "</table>\n",
       "</div>"
      ],
      "text/plain": [
       "                               id  \\\n",
       "0   20-minute-carbonara-with-peas   \n",
       "1   20-minute-carbonara-with-peas   \n",
       "2   20-minute-carbonara-with-peas   \n",
       "3   20-minute-carbonara-with-peas   \n",
       "4   20-minute-carbonara-with-peas   \n",
       "5   20-minute-carbonara-with-peas   \n",
       "6   20-minute-carbonara-with-peas   \n",
       "7   20-minute-carbonara-with-peas   \n",
       "8   20-minute-carbonara-with-peas   \n",
       "9   20-minute-carbonara-with-peas   \n",
       "10        alcoholic-orange-sorbet   \n",
       "11        alcoholic-orange-sorbet   \n",
       "12        alcoholic-orange-sorbet   \n",
       "13        alcoholic-orange-sorbet   \n",
       "14        alcoholic-orange-sorbet   \n",
       "\n",
       "                                           ingredient  \n",
       "0                                      200g spaghetti  \n",
       "1                                    250g frozen peas  \n",
       "2                                       2 medium eggs  \n",
       "3                                25g Parmesan, grated  \n",
       "4              4 level tbsp reduced-fat crème fraîche  \n",
       "5                                    1 tbsp olive oil  \n",
       "6   4 rashers Asda Extra Special Unsmoked Back Bac...  \n",
       "7                           1 shallot, finely chopped  \n",
       "8                             1 garlic clove, crushed  \n",
       "9                           Chopped parsley, to serve  \n",
       "10  750ml Asda Orange Juice with Bits (not from co...  \n",
       "11                              100g granulated sugar  \n",
       "12                       Finely grates zest 1 orange   \n",
       "13                             1tsp Angostura Bitters  \n",
       "14                             50ml Aperol Aperitivo   "
      ]
     },
     "execution_count": 13,
     "metadata": {},
     "output_type": "execute_result"
    }
   ],
   "source": [
    "ingredients = pd.read_csv('Source1Ingredients.csv')\n",
    "print (ingredients.shape)\n",
    "ingredients.head(15)"
   ]
  },
  {
   "cell_type": "code",
   "execution_count": 26,
   "metadata": {},
   "outputs": [],
   "source": [
    "ids, counts = np.unique(ingredients['id'], return_counts = True)"
   ]
  },
  {
   "cell_type": "code",
   "execution_count": 27,
   "metadata": {},
   "outputs": [
    {
     "data": {
      "text/plain": [
       "array([10,  8, 35, ...,  7,  5,  7], dtype=int64)"
      ]
     },
     "execution_count": 27,
     "metadata": {},
     "output_type": "execute_result"
    }
   ],
   "source": [
    "counts"
   ]
  },
  {
   "cell_type": "code",
   "execution_count": 28,
   "metadata": {},
   "outputs": [
    {
     "data": {
      "text/plain": [
       "35"
      ]
     },
     "execution_count": 28,
     "metadata": {},
     "output_type": "execute_result"
    }
   ],
   "source": [
    "np.max(counts)"
   ]
  },
  {
   "cell_type": "code",
   "execution_count": 29,
   "metadata": {
    "collapsed": true
   },
   "outputs": [],
   "source": [
    "# crear una matriu de NAN i introduir els ingredients"
   ]
  },
  {
   "cell_type": "code",
   "execution_count": null,
   "metadata": {
    "collapsed": true
   },
   "outputs": [],
   "source": []
  },
  {
   "cell_type": "code",
   "execution_count": 41,
   "metadata": {},
   "outputs": [],
   "source": [
    "ing, c = np.unique(ingredients['ingredient'], return_counts = True)"
   ]
  },
  {
   "cell_type": "code",
   "execution_count": 42,
   "metadata": {},
   "outputs": [
    {
     "data": {
      "text/plain": [
       "5864"
      ]
     },
     "execution_count": 42,
     "metadata": {},
     "output_type": "execute_result"
    }
   ],
   "source": [
    "np.argmax(c)"
   ]
  },
  {
   "cell_type": "code",
   "execution_count": 43,
   "metadata": {},
   "outputs": [
    {
     "data": {
      "text/plain": [
       "'1/2 tsp garlic powder'"
      ]
     },
     "execution_count": 43,
     "metadata": {},
     "output_type": "execute_result"
    }
   ],
   "source": [
    "ingredients.ingredient[5864]"
   ]
  },
  {
   "cell_type": "code",
   "execution_count": 44,
   "metadata": {},
   "outputs": [
    {
     "data": {
      "text/plain": [
       "'2 tbsp olive oil'"
      ]
     },
     "execution_count": 44,
     "metadata": {},
     "output_type": "execute_result"
    }
   ],
   "source": [
    "ing[5864]"
   ]
  },
  {
   "cell_type": "code",
   "execution_count": null,
   "metadata": {
    "collapsed": true
   },
   "outputs": [],
   "source": []
  }
 ],
 "metadata": {
  "kernelspec": {
   "display_name": "Python 3",
   "language": "python",
   "name": "python3"
  },
  "language_info": {
   "codemirror_mode": {
    "name": "ipython",
    "version": 3
   },
   "file_extension": ".py",
   "mimetype": "text/x-python",
   "name": "python",
   "nbconvert_exporter": "python",
   "pygments_lexer": "ipython3",
   "version": "3.6.1"
  }
 },
 "nbformat": 4,
 "nbformat_minor": 2
}
