{
 "cells": [
  {
   "cell_type": "code",
   "execution_count": 1,
   "metadata": {
    "collapsed": true
   },
   "outputs": [],
   "source": [
    "import numpy as np\n",
    "import pandas as pd"
   ]
  },
  {
   "cell_type": "code",
   "execution_count": 2,
   "metadata": {},
   "outputs": [],
   "source": [
    "ingredients = pd.read_csv('Source1Ingredients.csv')"
   ]
  },
  {
   "cell_type": "code",
   "execution_count": 3,
   "metadata": {},
   "outputs": [
    {
     "data": {
      "text/html": [
       "<div>\n",
       "<style>\n",
       "    .dataframe thead tr:only-child th {\n",
       "        text-align: right;\n",
       "    }\n",
       "\n",
       "    .dataframe thead th {\n",
       "        text-align: left;\n",
       "    }\n",
       "\n",
       "    .dataframe tbody tr th {\n",
       "        vertical-align: top;\n",
       "    }\n",
       "</style>\n",
       "<table border=\"1\" class=\"dataframe\">\n",
       "  <thead>\n",
       "    <tr style=\"text-align: right;\">\n",
       "      <th></th>\n",
       "      <th>id</th>\n",
       "      <th>ingredient</th>\n",
       "    </tr>\n",
       "  </thead>\n",
       "  <tbody>\n",
       "    <tr>\n",
       "      <th>0</th>\n",
       "      <td>20-minute-carbonara-with-peas</td>\n",
       "      <td>200g spaghetti</td>\n",
       "    </tr>\n",
       "    <tr>\n",
       "      <th>1</th>\n",
       "      <td>20-minute-carbonara-with-peas</td>\n",
       "      <td>250g frozen peas</td>\n",
       "    </tr>\n",
       "    <tr>\n",
       "      <th>2</th>\n",
       "      <td>20-minute-carbonara-with-peas</td>\n",
       "      <td>2 medium eggs</td>\n",
       "    </tr>\n",
       "    <tr>\n",
       "      <th>3</th>\n",
       "      <td>20-minute-carbonara-with-peas</td>\n",
       "      <td>25g Parmesan, grated</td>\n",
       "    </tr>\n",
       "    <tr>\n",
       "      <th>4</th>\n",
       "      <td>20-minute-carbonara-with-peas</td>\n",
       "      <td>4 level tbsp reduced-fat crème fraîche</td>\n",
       "    </tr>\n",
       "  </tbody>\n",
       "</table>\n",
       "</div>"
      ],
      "text/plain": [
       "                              id                              ingredient\n",
       "0  20-minute-carbonara-with-peas                          200g spaghetti\n",
       "1  20-minute-carbonara-with-peas                        250g frozen peas\n",
       "2  20-minute-carbonara-with-peas                           2 medium eggs\n",
       "3  20-minute-carbonara-with-peas                    25g Parmesan, grated\n",
       "4  20-minute-carbonara-with-peas  4 level tbsp reduced-fat crème fraîche"
      ]
     },
     "execution_count": 3,
     "metadata": {},
     "output_type": "execute_result"
    }
   ],
   "source": [
    "ingredients.head()"
   ]
  },
  {
   "cell_type": "code",
   "execution_count": 4,
   "metadata": {},
   "outputs": [
    {
     "data": {
      "text/html": [
       "<div>\n",
       "<style>\n",
       "    .dataframe thead tr:only-child th {\n",
       "        text-align: right;\n",
       "    }\n",
       "\n",
       "    .dataframe thead th {\n",
       "        text-align: left;\n",
       "    }\n",
       "\n",
       "    .dataframe tbody tr th {\n",
       "        vertical-align: top;\n",
       "    }\n",
       "</style>\n",
       "<table border=\"1\" class=\"dataframe\">\n",
       "  <thead>\n",
       "    <tr style=\"text-align: right;\">\n",
       "      <th></th>\n",
       "      <th>id</th>\n",
       "      <th>ingredient</th>\n",
       "    </tr>\n",
       "  </thead>\n",
       "  <tbody>\n",
       "    <tr>\n",
       "      <th>22755</th>\n",
       "      <td>zingy-peach-salsa</td>\n",
       "      <td>1tbsp chopped coriander</td>\n",
       "    </tr>\n",
       "    <tr>\n",
       "      <th>22756</th>\n",
       "      <td>zingy-peach-salsa</td>\n",
       "      <td>1tbsp chopped mint leaves</td>\n",
       "    </tr>\n",
       "    <tr>\n",
       "      <th>22757</th>\n",
       "      <td>zingy-peach-salsa</td>\n",
       "      <td>2 spring onions, finely chopped</td>\n",
       "    </tr>\n",
       "    <tr>\n",
       "      <th>22758</th>\n",
       "      <td>zingy-peach-salsa</td>\n",
       "      <td>Juice and zest  ½ lime</td>\n",
       "    </tr>\n",
       "    <tr>\n",
       "      <th>22759</th>\n",
       "      <td>zingy-peach-salsa</td>\n",
       "      <td>½ red chilli, finely chopped</td>\n",
       "    </tr>\n",
       "  </tbody>\n",
       "</table>\n",
       "</div>"
      ],
      "text/plain": [
       "                      id                        ingredient\n",
       "22755  zingy-peach-salsa           1tbsp chopped coriander\n",
       "22756  zingy-peach-salsa         1tbsp chopped mint leaves\n",
       "22757  zingy-peach-salsa  2 spring onions, finely chopped \n",
       "22758  zingy-peach-salsa            Juice and zest  ½ lime\n",
       "22759  zingy-peach-salsa      ½ red chilli, finely chopped"
      ]
     },
     "execution_count": 4,
     "metadata": {},
     "output_type": "execute_result"
    }
   ],
   "source": [
    "ingredients.tail()"
   ]
  },
  {
   "cell_type": "code",
   "execution_count": 75,
   "metadata": {},
   "outputs": [
    {
     "name": "stderr",
     "output_type": "stream",
     "text": [
      "100%|█████████████████████████████████████████████████████████████████████████| 22760/22760 [00:00<00:00, 45038.44it/s]\n"
     ]
    }
   ],
   "source": [
    "from tqdm import tqdm\n",
    "\n",
    "def isIngredient(word):\n",
    "    if len(word) < 2:\n",
    "        return False\n",
    "    \n",
    "    if isNumberInside(word):\n",
    "        return False\n",
    "    \n",
    "    if isPreposition(word):\n",
    "        return False\n",
    "    \n",
    "    if isNoisy(word):\n",
    "        return False\n",
    "    \n",
    "    if isArticle(word):\n",
    "        return False\n",
    "    \n",
    "    return True\n",
    "    \n",
    "def isNumberInside (string):\n",
    "    for caracter in string:\n",
    "        if caracter.isnumeric():\n",
    "            return True\n",
    "    return False\n",
    "\n",
    "def isPreposition (string):\n",
    "    prepositions = [\"aboard\",\"about\",\"above\",\"across\",\"after\",\"against\",\"along\",\"amid\",\"among\",\"anti\",\"around\",\"as\",\"at\",\"before\",\"behind\",\"below\",\"beneath\",\"beside\",\"besides\",\"between\",\"beyond\",\"but\",\"by\",\"concerning\",\"considering\",\"despite\",\"down\",\"during\",\"except\",\"excepting\",\"excluding\",\"following\",\"for\",\"from\",\"in\",\"inside\",\"into\",\"like\",\"minus\",\"near\",\"of\",\"off\",\"on\",\"onto\",\"opposite\",\"outside\",\"over\",\"past\",\"per\",\"plus\",\"regarding\",\"round\",\"save\",\"since\",\"than\",\"through\",\"to\",\"toward\",\"towards\",\"under\",\"underneath\",\"unlike\",\"until\",\"up\",\"upon\",\"versus\",\"via\",\"with\",\"within\",\"without\"]\n",
    "    if string in prepositions:\n",
    "        return True\n",
    "    return False\n",
    "\n",
    "def isNoisy (string):\n",
    "    noisy = [\"ml\",\"tbsp\",\"and\",\"tsp\",\"level\",\"extra\",\"cut\",\"or\",\"you\",\"leaves\",\"plain\",\"selection\",\"medium\",\"clear\",\"few\",\"price\",\"yellow\",\"new\",\"half\"]\n",
    "    if string in noisy:\n",
    "        return True\n",
    "    return False\n",
    "\n",
    "def isArticle (string):\n",
    "    articles = [\"the\",\"a\",\"one\",\"some\",\"few\"]\n",
    "    if string in articles:\n",
    "        return True\n",
    "    return False\n",
    "    \n",
    "corpus = []\n",
    "for ing in tqdm(ingredients['ingredient']):\n",
    "    for word in ing.split():\n",
    "        _aux = word.replace('(','').replace(')','').replace(',','').replace(\"'\", \"\").replace('.', '').lower()\n",
    "        if isIngredient(_aux):\n",
    "            corpus.append(_aux)\n",
    "    "
   ]
  },
  {
   "cell_type": "code",
   "execution_count": 76,
   "metadata": {},
   "outputs": [
    {
     "name": "stdout",
     "output_type": "stream",
     "text": [
      "Total words in corpus:  69666\n"
     ]
    }
   ],
   "source": [
    "print (\"Total words in corpus: \", len(corpus))"
   ]
  },
  {
   "cell_type": "code",
   "execution_count": 77,
   "metadata": {},
   "outputs": [],
   "source": [
    "set_copus = set(corpus)"
   ]
  },
  {
   "cell_type": "code",
   "execution_count": 78,
   "metadata": {},
   "outputs": [
    {
     "data": {
      "text/plain": [
       "(2463, 69666)"
      ]
     },
     "execution_count": 78,
     "metadata": {},
     "output_type": "execute_result"
    }
   ],
   "source": [
    "len (set_copus), len(corpus)"
   ]
  },
  {
   "cell_type": "code",
   "execution_count": 79,
   "metadata": {
    "collapsed": true
   },
   "outputs": [],
   "source": [
    "dict_corpus = dict.fromkeys(set_copus, 0)"
   ]
  },
  {
   "cell_type": "code",
   "execution_count": 80,
   "metadata": {
    "collapsed": true
   },
   "outputs": [],
   "source": [
    "for elem in corpus:\n",
    "    dict_corpus[elem] += 1"
   ]
  },
  {
   "cell_type": "code",
   "execution_count": 81,
   "metadata": {
    "scrolled": false
   },
   "outputs": [],
   "source": [
    "import operator\n",
    "sorted_x = sorted(dict_corpus.items(), key=operator.itemgetter(1), reverse= True)"
   ]
  },
  {
   "cell_type": "code",
   "execution_count": 82,
   "metadata": {},
   "outputs": [
    {
     "data": {
      "text/plain": [
       "2463"
      ]
     },
     "execution_count": 82,
     "metadata": {},
     "output_type": "execute_result"
    }
   ],
   "source": [
    "len(sorted_x)"
   ]
  },
  {
   "cell_type": "code",
   "execution_count": 83,
   "metadata": {},
   "outputs": [],
   "source": [
    "list_ingr = []\n",
    "list_num = []\n",
    "for ingr, num in sorted_x:\n",
    "    list_ingr.append(ingr)\n",
    "    list_num.append(num)\n",
    "    "
   ]
  },
  {
   "cell_type": "code",
   "execution_count": 84,
   "metadata": {
    "collapsed": true
   },
   "outputs": [],
   "source": [
    "d = {'Ingredient': list_ingr, 'numTimes': list_num}\n",
    "df = pd.DataFrame(data=d)"
   ]
  },
  {
   "cell_type": "code",
   "execution_count": 88,
   "metadata": {},
   "outputs": [
    {
     "data": {
      "text/html": [
       "<div>\n",
       "<style>\n",
       "    .dataframe thead tr:only-child th {\n",
       "        text-align: right;\n",
       "    }\n",
       "\n",
       "    .dataframe thead th {\n",
       "        text-align: left;\n",
       "    }\n",
       "\n",
       "    .dataframe tbody tr th {\n",
       "        vertical-align: top;\n",
       "    }\n",
       "</style>\n",
       "<table border=\"1\" class=\"dataframe\">\n",
       "  <thead>\n",
       "    <tr style=\"text-align: right;\">\n",
       "      <th></th>\n",
       "      <th>Ingredient</th>\n",
       "      <th>numTimes</th>\n",
       "    </tr>\n",
       "  </thead>\n",
       "  <tbody>\n",
       "    <tr>\n",
       "      <th>425</th>\n",
       "      <td>dressing</td>\n",
       "      <td>25</td>\n",
       "    </tr>\n",
       "    <tr>\n",
       "      <th>426</th>\n",
       "      <td>tortillas</td>\n",
       "      <td>25</td>\n",
       "    </tr>\n",
       "    <tr>\n",
       "      <th>427</th>\n",
       "      <td>freshness</td>\n",
       "      <td>25</td>\n",
       "    </tr>\n",
       "    <tr>\n",
       "      <th>428</th>\n",
       "      <td>digestive</td>\n",
       "      <td>25</td>\n",
       "    </tr>\n",
       "    <tr>\n",
       "      <th>429</th>\n",
       "      <td>custard</td>\n",
       "      <td>25</td>\n",
       "    </tr>\n",
       "    <tr>\n",
       "      <th>430</th>\n",
       "      <td>pesto</td>\n",
       "      <td>25</td>\n",
       "    </tr>\n",
       "    <tr>\n",
       "      <th>431</th>\n",
       "      <td>masala</td>\n",
       "      <td>25</td>\n",
       "    </tr>\n",
       "    <tr>\n",
       "      <th>432</th>\n",
       "      <td>creamy</td>\n",
       "      <td>25</td>\n",
       "    </tr>\n",
       "    <tr>\n",
       "      <th>433</th>\n",
       "      <td>yeast</td>\n",
       "      <td>24</td>\n",
       "    </tr>\n",
       "    <tr>\n",
       "      <th>434</th>\n",
       "      <td>days</td>\n",
       "      <td>24</td>\n",
       "    </tr>\n",
       "    <tr>\n",
       "      <th>435</th>\n",
       "      <td>weighed</td>\n",
       "      <td>24</td>\n",
       "    </tr>\n",
       "  </tbody>\n",
       "</table>\n",
       "</div>"
      ],
      "text/plain": [
       "    Ingredient  numTimes\n",
       "425   dressing        25\n",
       "426  tortillas        25\n",
       "427  freshness        25\n",
       "428  digestive        25\n",
       "429    custard        25\n",
       "430      pesto        25\n",
       "431     masala        25\n",
       "432     creamy        25\n",
       "433      yeast        24\n",
       "434       days        24\n",
       "435    weighed        24"
      ]
     },
     "execution_count": 88,
     "metadata": {},
     "output_type": "execute_result"
    }
   ],
   "source": [
    "df[425:436]"
   ]
  },
  {
   "cell_type": "code",
   "execution_count": 89,
   "metadata": {
    "collapsed": true
   },
   "outputs": [],
   "source": [
    "df.to_csv('grocery.csv')"
   ]
  },
  {
   "cell_type": "code",
   "execution_count": null,
   "metadata": {
    "collapsed": true
   },
   "outputs": [],
   "source": []
  },
  {
   "cell_type": "code",
   "execution_count": null,
   "metadata": {
    "collapsed": true
   },
   "outputs": [],
   "source": []
  }
 ],
 "metadata": {
  "kernelspec": {
   "display_name": "Python 3",
   "language": "python",
   "name": "python3"
  },
  "language_info": {
   "codemirror_mode": {
    "name": "ipython",
    "version": 3
   },
   "file_extension": ".py",
   "mimetype": "text/x-python",
   "name": "python",
   "nbconvert_exporter": "python",
   "pygments_lexer": "ipython3",
   "version": "3.6.1"
  }
 },
 "nbformat": 4,
 "nbformat_minor": 2
}
