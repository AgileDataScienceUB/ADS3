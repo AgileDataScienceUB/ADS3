{
 "cells": [
  {
   "cell_type": "code",
   "execution_count": 1,
   "metadata": {
    "collapsed": false
   },
   "outputs": [
    {
     "name": "stdout",
     "output_type": "stream",
     "text": [
      "Connected successfully!!!\n"
     ]
    },
    {
     "data": {
      "text/plain": [
       "MongoClient(host=['ds233895.mlab.com:33895'], document_class=dict, tz_aware=False, connect=True)"
      ]
     },
     "execution_count": 1,
     "metadata": {},
     "output_type": "execute_result"
    }
   ],
   "source": [
    "import pymongo\n",
    "\n",
    "try:\n",
    "    #use your database name, user and password here:\n",
    "    #mongodb://<dbuser>:<dbpassword>@<mlab_url>.mlab.com:57066/<database_name>\n",
    "    with open(\"credentials.txt\", 'r', encoding='utf-8') as f:\n",
    "        [name,password,url,dbname]=f.read().splitlines()\n",
    "    conn=pymongo.MongoClient(\"mongodb://{}:{}@{}/{}\".format(name,password,url,dbname))\n",
    "    print (\"Connected successfully!!!\")\n",
    "    \n",
    "except pymongo.errors.ConnectionFailure as e:\n",
    "    print (\"Could not connect to MongoDB: %s\" % e) \n",
    "conn"
   ]
  },
  {
   "cell_type": "code",
   "execution_count": 2,
   "metadata": {
    "collapsed": false
   },
   "outputs": [
    {
     "data": {
      "text/plain": [
       "Collection(Database(MongoClient(host=['ds233895.mlab.com:33895'], document_class=dict, tz_aware=False, connect=True), 'agile_data_science_group_3'), 'resource_1')"
      ]
     },
     "execution_count": 2,
     "metadata": {},
     "output_type": "execute_result"
    }
   ],
   "source": [
    "db=conn[\"agile_data_science_group_3\"] #agile_data_science_group_3 is our database name\n",
    "collection = db.resource_1 #resource_1 is one of our collection's name\n",
    "collection"
   ]
  },
  {
   "cell_type": "code",
   "execution_count": null,
   "metadata": {
    "collapsed": false
   },
   "outputs": [],
   "source": [
    "for i in collection.find()[:5]:\n",
    "    print(i)"
   ]
  },
  {
   "cell_type": "code",
   "execution_count": 8,
   "metadata": {
    "collapsed": true
   },
   "outputs": [],
   "source": [
    "input_integredient=['spaghetti']"
   ]
  },
  {
   "cell_type": "code",
   "execution_count": null,
   "metadata": {
    "collapsed": false
   },
   "outputs": [],
   "source": [
    "try_=collection.find({\"list_ingredients\": {\"$regex\" : \".*spaghetti.*\",\"$regex\" : \"sugar\"}})\n",
    "print(list(try_))"
   ]
  },
  {
   "cell_type": "code",
   "execution_count": 48,
   "metadata": {
    "collapsed": false
   },
   "outputs": [
    {
     "ename": "SyntaxError",
     "evalue": "invalid syntax (<ipython-input-48-c78a79ba3746>, line 1)",
     "output_type": "error",
     "traceback": [
      "\u001b[0;36m  File \u001b[0;32m\"<ipython-input-48-c78a79ba3746>\"\u001b[0;36m, line \u001b[0;32m1\u001b[0m\n\u001b[0;31m    collection.find({\"$and\": [\"list_ingredients\":{\"$regex\" : \".*spaghetti.*\"},\"list_ingredients\": {\"$regex\" : \"sugar\"}]}).count()\u001b[0m\n\u001b[0m                                                ^\u001b[0m\n\u001b[0;31mSyntaxError\u001b[0m\u001b[0;31m:\u001b[0m invalid syntax\n"
     ]
    }
   ],
   "source": [
    "collection.find({\"$and\": [\"list_ingredients\":{\"$regex\" : \".*spaghetti.*\"},\"list_ingredients\": {\"$regex\" : \"sugar\"}]}).count()"
   ]
  },
  {
   "cell_type": "code",
   "execution_count": 17,
   "metadata": {
    "collapsed": false
   },
   "outputs": [],
   "source": [
    "found_int=db.collection.aggregate(\n",
    "    [ \n",
    "        { \"$match\": { \"a.1\": { \"$exists\": True } } }, \n",
    "        { \"$redact\": { \n",
    "            \"$cond\": [ \n",
    "                { \"$gte\": [ \n",
    "                    { \"$size\": { \"$setIntersection\": [ \"$list_integredients\", input_integredient ] } }, \n",
    "                    1\n",
    "                ]},\n",
    "                \"$$KEEP\", \n",
    "                \"$$PRUNE\" \n",
    "            ]\n",
    "        }}\n",
    "    ]\n",
    ")"
   ]
  },
  {
   "cell_type": "code",
   "execution_count": 18,
   "metadata": {
    "collapsed": false
   },
   "outputs": [],
   "source": [
    "for doc in found_int:\n",
    "    print(doc)"
   ]
  },
  {
   "cell_type": "code",
   "execution_count": null,
   "metadata": {
    "collapsed": true
   },
   "outputs": [],
   "source": [
    ".find({\n",
    "    'MyArrayOfSubDocuments': { $not: { $size: 0 } },\n",
    "    'MyArrayOfSubDocuments._id': { $exists: false }\n",
    "})"
   ]
  }
 ],
 "metadata": {
  "kernelspec": {
   "display_name": "Python 3",
   "language": "python",
   "name": "python3"
  },
  "language_info": {
   "codemirror_mode": {
    "name": "ipython",
    "version": 3
   },
   "file_extension": ".py",
   "mimetype": "text/x-python",
   "name": "python",
   "nbconvert_exporter": "python",
   "pygments_lexer": "ipython3",
   "version": "3.6.0"
  }
 },
 "nbformat": 4,
 "nbformat_minor": 2
}
